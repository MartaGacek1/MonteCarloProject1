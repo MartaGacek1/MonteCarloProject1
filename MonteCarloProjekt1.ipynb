{
  "nbformat": 4,
  "nbformat_minor": 0,
  "metadata": {
    "colab": {
      "provenance": [],
      "authorship_tag": "ABX9TyOlJs7jxhSAjzgaZk4pksR+",
      "include_colab_link": true
    },
    "kernelspec": {
      "name": "python3",
      "display_name": "Python 3"
    },
    "language_info": {
      "name": "python"
    }
  },
  "cells": [
    {
      "cell_type": "markdown",
      "metadata": {
        "id": "view-in-github",
        "colab_type": "text"
      },
      "source": [
        "<a href=\"https://colab.research.google.com/github/MartaGacek1/MonteCarloProject1/blob/main/MonteCarloProjekt1.ipynb\" target=\"_parent\"><img src=\"https://colab.research.google.com/assets/colab-badge.svg\" alt=\"Open In Colab\"/></a>"
      ]
    },
    {
      "cell_type": "markdown",
      "source": [
        "# Projekt I - Wprowadzenie do symulacji i metod Monte Carlo\n",
        "\n",
        "## Marta Gacek"
      ],
      "metadata": {
        "id": "utnSvCI2lBHF"
      }
    },
    {
      "cell_type": "markdown",
      "source": [
        "## 1. Generatory liczb pseudolosowych\n",
        "\n",
        "### 1.1 LCG (\"Linear Congruential Generator\")\n",
        "\n"
      ],
      "metadata": {
        "id": "A7XXHtlWmeA0"
      }
    },
    {
      "cell_type": "code",
      "source": [
        "import time\n",
        "\n",
        "# x0 - warunek początkowy\n",
        "# M - wartość modulo\n",
        "# a, c - parametry z rekurencyjnego wzoru\n",
        "# n - ilość liczb pseudolosowych, które otrzymamy\n",
        "\n",
        "def LCG(x0, a, c, M, n):\n",
        "    result = []\n",
        "    x = x0 % M\n",
        "    result.append(x)\n",
        "    for i in range(n-1):\n",
        "        x = (a * x + c) % M\n",
        "        result.append(x)\n",
        "    return [j/M for j in result]\n",
        "\n",
        "start_time = time.time()\n",
        "test_lcg = LCG(30, 1, 5, 13, 2**15)\n",
        "end_time = time.time()\n",
        "\n",
        "execution_time = end_time - start_time\n",
        "print(f\"Czas wykonania: {execution_time:.6f} sekund\")\n",
        "#print(test_lcg)"
      ],
      "metadata": {
        "id": "zdRKKuIJotKQ",
        "colab": {
          "base_uri": "https://localhost:8080/"
        },
        "outputId": "5676ce0f-9476-40fe-b436-9e5a8ccb6f09"
      },
      "execution_count": 25,
      "outputs": [
        {
          "output_type": "stream",
          "name": "stdout",
          "text": [
            "Czas wykonania: 0.022602 sekund\n"
          ]
        }
      ]
    },
    {
      "cell_type": "markdown",
      "source": [
        "### 1.2 GLCG (\"Generalized Linear Congruential Generator\")"
      ],
      "metadata": {
        "id": "M-tezDoFbuFF"
      }
    },
    {
      "cell_type": "code",
      "source": [
        "# liczba współczynników musi być równa k, czyli liczbie wartości początkowych x_i dla i=0,...,k-1\n",
        "# initials - lista k warunków początkowych\n",
        "# coeffs - współczynniki a_i dla i=0,...,k-1\n",
        "# M - wartość modulo\n",
        "# n - ilość liczb pseudolosowych, które otrzymamy\n",
        "\n",
        "def GLCG(initials, coeffs, M, n):\n",
        "    k = len(initials)\n",
        "    if len(coeffs) != k:\n",
        "        raise ValueError(\"The number of coefficients doesn't match the number of initial values.\")\n",
        "    lst = initials[:] # lista \"robocza\"\n",
        "    result = lst[:] # tutaj będą ostatecznie zwracane liczby\n",
        "    result = [i/M for i in result] # normalizacja\n",
        "    for i in range(n - k): # bo pierwsze k z n liczb już mamy na początku\n",
        "        x = sum(coeffs[j] * lst[-(j + 1)] for j in range(k)) % M\n",
        "        result.append(x/M) # normalizacja\n",
        "        lst.append(x)\n",
        "        lst.pop(0)  # potrzebujemy k ostatnich wartości do wyznaczania następnych x\n",
        "    return result\n",
        "\n",
        "start_time = time.time()\n",
        "test_glcg = GLCG([30, 40, 50], [3, 7, 68], 2**10, 2**15)\n",
        "end_time = time.time()\n",
        "\n",
        "execution_time = end_time - start_time\n",
        "print(f\"Czas wykonania: {execution_time:.6f} sekund\")\n",
        "#print(test_glcg)"
      ],
      "metadata": {
        "id": "R08Bvpv8dcEI",
        "colab": {
          "base_uri": "https://localhost:8080/"
        },
        "outputId": "14586914-8e19-42ac-bbbe-e5ec0f9d74d0"
      },
      "execution_count": 26,
      "outputs": [
        {
          "output_type": "stream",
          "name": "stdout",
          "text": [
            "Czas wykonania: 0.044820 sekund\n"
          ]
        }
      ]
    },
    {
      "cell_type": "markdown",
      "source": [
        "### 1.3 RC4"
      ],
      "metadata": {
        "id": "_aCw5Mkjdcx8"
      }
    },
    {
      "cell_type": "code",
      "source": [
        "# K - \"klucz\" - liczby z przedziału {0,...,m-1}, w naszym przypadku m=32\n",
        "# n - ilość liczb pseudolosowych, które otrzymamy\n",
        "# S - permutacja zbioru m-elementowego\n",
        "# m - wartość modulo\n",
        "\n",
        "import matplotlib.pyplot as plt\n",
        "import random as rd\n",
        "import numpy as np\n",
        "\n",
        "def KSA(K, m=32):\n",
        "   S = list(range(m))\n",
        "   j = 0\n",
        "   for i in range(m):\n",
        "       j = (j + S[i] + K[i % len(K)]) % m\n",
        "       S[i], S[j] = S[j], S[i]\n",
        "   return S\n",
        "\n",
        "def PRGA(S, n, m=32):\n",
        "   i = 0\n",
        "   j = 0\n",
        "   result = []\n",
        "   for k in range(n):\n",
        "       i = (i + 1) % m\n",
        "       j = (j + S[i]) % m\n",
        "       S[i], S[j] = S[j], S[i]\n",
        "       Y = S[(S[i] + S[j]) % m]\n",
        "       result.append(Y/m) # normalizacja\n",
        "   return result\n",
        "\n",
        "def RC4(K, n, m=32):\n",
        "  s = KSA(K, m)\n",
        "  return PRGA(s, n, m)\n",
        "\n",
        "\n",
        "k1 = [x for x in range(100)]\n",
        "start_time = time.time()\n",
        "test_rc4 = RC4(k1, 2**15)\n",
        "end_time = time.time()\n",
        "\n",
        "execution_time = end_time - start_time\n",
        "print(f\"Czas wykonania: {execution_time:.6f} sekund\")\n",
        "#print(test_rc4)"
      ],
      "metadata": {
        "id": "_UQXb2S2XfNu",
        "colab": {
          "base_uri": "https://localhost:8080/"
        },
        "outputId": "d40af28d-8fed-4df9-ea15-30e1666d6606"
      },
      "execution_count": 27,
      "outputs": [
        {
          "output_type": "stream",
          "name": "stdout",
          "text": [
            "Czas wykonania: 0.014223 sekund\n"
          ]
        }
      ]
    },
    {
      "cell_type": "markdown",
      "source": [
        "### 1.4 Xorshift"
      ],
      "metadata": {
        "id": "204lDu7eBEON"
      }
    },
    {
      "cell_type": "code",
      "source": [
        "# x0 - niezerowy warunek początkowy\n",
        "# a, b, c - parametry określające przesunięcia bitowe\n",
        "# n - ilość liczb pseudolosowych, które otrzymamy\n",
        "\n",
        "def xorshift(x0, n, a=21, b=35, c=4):\n",
        "    if x0 == 0:\n",
        "        raise ValueError(\"Initial value must not be zero.\")\n",
        "    x = x0\n",
        "    result = []\n",
        "    for i in range(n):\n",
        "        x ^= (x >> a)  # przesunięcie w prawo i operacja xor\n",
        "        x ^= (x << b)  # przesunięcie w lewo i operacja xor\n",
        "        x ^= (x >> c)  # przesunięcie w prawo i operacja xor\n",
        "        result.append(x & 0xFFFFFFFF)  # ograniczenie liczby x do zakresu 32-bitowego\n",
        "    result = [i/(2**32 - 1) for i in result] # normalizacja (dzielimy przez największą możliwą wartość wygenerowaną przez xorshift)\n",
        "    return result\n",
        "\n",
        "start_time = time.time()\n",
        "test_xorshift = xorshift(20, n=2**15)\n",
        "end_time = time.time()\n",
        "\n",
        "execution_time = end_time - start_time\n",
        "print(f\"Czas wykonania: {execution_time:.6f} sekund\")\n",
        "#print(test_xorshift)"
      ],
      "metadata": {
        "id": "37QnKrBVBKSM",
        "colab": {
          "base_uri": "https://localhost:8080/"
        },
        "outputId": "667b8db3-c4be-4c8c-c1fe-d2bd9e173dc7"
      },
      "execution_count": 28,
      "outputs": [
        {
          "output_type": "stream",
          "name": "stdout",
          "text": [
            "Czas wykonania: 5.277518 sekund\n"
          ]
        }
      ]
    },
    {
      "cell_type": "markdown",
      "source": [
        "# 2. Testy statystyczne"
      ],
      "metadata": {
        "id": "byfnFQPf21xm"
      }
    },
    {
      "cell_type": "markdown",
      "source": [
        "## 2.1 Test $\\chi^2$"
      ],
      "metadata": {
        "id": "PesCqpeGOImT"
      }
    },
    {
      "cell_type": "code",
      "source": [
        "from scipy.stats import chisquare\n",
        "\n",
        "# wyniki dla n = 2^15\n",
        "\n",
        "start_time = time.time()\n",
        "\n",
        "# LCG\n",
        "\n",
        "binss=20\n",
        "\n",
        "def p_val_test(p):\n",
        "  if p>=0.05:\n",
        "    print(\"Hipoteza zerowa nieodrzucona.\")\n",
        "  else:\n",
        "    print(\"Hipoteza zerowa odrzucona.\")\n",
        "\n",
        "obs1, edges = np.histogram(test_lcg, bins=binss)\n",
        "expt1 = np.full(binss, len(test_lcg) / binss)\n",
        "st1, p1 = chisquare(f_obs=obs1, f_exp=expt1)\n",
        "print(\"Statystyka chi-kwadrat dla LCG:\", st1)\n",
        "print(\"P-wartość dla LCG:\", p1)\n",
        "print(p_val_test(p1))\n",
        "\n",
        "# GLCG\n",
        "\n",
        "obs2, edges = np.histogram(test_glcg, bins=binss)\n",
        "expt2 = np.full(binss, len(test_glcg) / binss)\n",
        "st2, p2 = chisquare(f_obs=obs2, f_exp=expt2)\n",
        "print(\"Statystyka chi-kwadrat dla GLCG:\", st2)\n",
        "print(\"P-wartość dla GLCG:\", p2)\n",
        "print(p_val_test(p2))\n",
        "\n",
        "# RC4\n",
        "\n",
        "obs3, edges = np.histogram(test_rc4, bins=binss)\n",
        "expt3 = np.full(binss, len(test_rc4) / binss)\n",
        "st3, p3 = chisquare(f_obs=obs3, f_exp=expt3)\n",
        "print(\"Statystyka chi-kwadrat dla RC4:\", st3)\n",
        "print(\"P-wartość dla RC4:\", p3)\n",
        "print(p_val_test(p3))\n",
        "\n",
        "# Xorshift\n",
        "\n",
        "obs4, edges = np.histogram(test_xorshift, bins=binss)\n",
        "expt4 = np.full(binss, len(test_xorshift) / binss)\n",
        "st4, p4 = chisquare(f_obs=obs4, f_exp=expt4)\n",
        "print(\"Statystyka chi-kwadrat dla Xorshift:\", st4)\n",
        "print(\"P-wartość dla Xorshift:\", p4)\n",
        "print(p_val_test(p4))\n",
        "\n",
        "end_time = time.time()\n",
        "\n",
        "execution_time = end_time - start_time\n",
        "print(f\"Czas wykonania: {execution_time:.6f} sekund\")\n"
      ],
      "metadata": {
        "colab": {
          "base_uri": "https://localhost:8080/"
        },
        "id": "MUSX9pXhRUMu",
        "outputId": "088bb1ce-a960-437e-f68d-ebcbd0726099"
      },
      "execution_count": 29,
      "outputs": [
        {
          "output_type": "stream",
          "name": "stdout",
          "text": [
            "Statystyka chi-kwadrat dla LCG: 17644.309570312504\n",
            "P-wartość dla LCG: 0.0\n",
            "Hipoteza zerowa odrzucona.\n",
            "None\n",
            "Statystyka chi-kwadrat dla GLCG: 5505.256835937498\n",
            "P-wartość dla GLCG: 0.0\n",
            "Hipoteza zerowa odrzucona.\n",
            "None\n",
            "Statystyka chi-kwadrat dla RC4: 3149.357177734375\n",
            "P-wartość dla RC4: 0.0\n",
            "Hipoteza zerowa odrzucona.\n",
            "None\n",
            "Statystyka chi-kwadrat dla Xorshift: 17.54443359375\n",
            "P-wartość dla Xorshift: 0.5530346658651297\n",
            "Hipoteza zerowa nieodrzucona.\n",
            "None\n",
            "Czas wykonania: 0.023403 sekund\n"
          ]
        }
      ]
    },
    {
      "cell_type": "code",
      "source": [
        "# wyniki dla n = 2^10\n",
        "\n",
        "start_time = time.time()\n",
        "\n",
        "test_lcg1=LCG(30, 1, 5, 13, 2**10)\n",
        "test_glcg1=GLCG([30, 40, 50], [3, 7, 68], 2**10, 2**10)\n",
        "test_rc4_1 = RC4(k1, 2**10)\n",
        "test_xorshift1 = xorshift(20, n=2**10)\n",
        "\n",
        "# LCG\n",
        "\n",
        "binss=20\n",
        "\n",
        "obs1, edges = np.histogram(test_lcg1, bins=binss)\n",
        "expt1 = np.full(binss, len(test_lcg1) / binss)\n",
        "st1, p1 = chisquare(f_obs=obs1, f_exp=expt1)\n",
        "print(\"Statystyka chi-kwadrat dla LCG:\", st1)\n",
        "print(\"P-wartość dla LCG:\", p1)\n",
        "print(p_val_test(p1))\n",
        "\n",
        "# GLCG\n",
        "\n",
        "obs2, edges = np.histogram(test_glcg1, bins=binss)\n",
        "expt2 = np.full(binss, len(test_glcg1) / binss)\n",
        "st2, p2 = chisquare(f_obs=obs2, f_exp=expt2)\n",
        "print(\"Statystyka chi-kwadrat dla GLCG:\", st2)\n",
        "print(\"P-wartość dla GLCG:\", p2)\n",
        "print(p_val_test(p2))\n",
        "\n",
        "# RC4\n",
        "\n",
        "obs3, edges = np.histogram(test_rc4_1, bins=binss)\n",
        "expt3 = np.full(binss, len(test_rc4_1) / binss)\n",
        "st3, p3 = chisquare(f_obs=obs3, f_exp=expt3)\n",
        "print(\"Statystyka chi-kwadrat dla RC4:\", st3)\n",
        "print(\"P-wartość dla RC4:\", p3)\n",
        "print(p_val_test(p3))\n",
        "\n",
        "# Xorshift\n",
        "\n",
        "obs4, edges = np.histogram(test_xorshift1, bins=binss)\n",
        "expt4 = np.full(binss, len(test_xorshift1) / binss)\n",
        "st4, p4 = chisquare(f_obs=obs4, f_exp=expt4)\n",
        "print(\"Statystyka chi-kwadrat dla Xorshift:\", st4)\n",
        "print(\"P-wartość dla Xorshift:\", p4)\n",
        "print(p_val_test(p4))\n",
        "\n",
        "end_time = time.time()\n",
        "\n",
        "execution_time = end_time - start_time\n",
        "print(f\"Czas wykonania: {execution_time:.6f} sekund\")\n"
      ],
      "metadata": {
        "colab": {
          "base_uri": "https://localhost:8080/"
        },
        "id": "sJFwtPONfEli",
        "outputId": "5a5b8a3a-b5db-468d-ddc5-c9b7d180c15a"
      },
      "execution_count": null,
      "outputs": [
        {
          "output_type": "stream",
          "name": "stdout",
          "text": [
            "Statystyka chi-kwadrat dla LCG: 551.4296875000001\n",
            "P-wartość dla LCG: 8.69783778595415e-105\n",
            "Hipoteza zerowa odrzucona.\n",
            "None\n",
            "Statystyka chi-kwadrat dla GLCG: 171.23437499999994\n",
            "P-wartość dla GLCG: 1.62888195715364e-26\n",
            "Hipoteza zerowa odrzucona.\n",
            "None\n",
            "Statystyka chi-kwadrat dla RC4: 122.2109375\n",
            "P-wartość dla RC4: 4.2763370025242595e-17\n",
            "Hipoteza zerowa odrzucona.\n",
            "None\n",
            "Statystyka chi-kwadrat dla Xorshift: 11.742187500000004\n",
            "P-wartość dla Xorshift: 0.8963475736552577\n",
            "Hipoteza zerowa nieodrzucona.\n",
            "None\n",
            "Czas wykonania: 0.025558 sekund\n"
          ]
        }
      ]
    },
    {
      "cell_type": "code",
      "source": [
        "# wyniki dla n = 2^20\n",
        "# z wyjątkiem Xorshift, bo dla większych rozmiarów n wykonuje się on bardzo wolno (dla 2^20 ponad 1h 20 min)\n",
        "\n",
        "start_time = time.time()\n",
        "\n",
        "test_lcg2=LCG(30, 1, 5, 13, 2**20)\n",
        "test_glcg2=GLCG([30, 40, 50], [3, 7, 68], 2**10, 2**20)\n",
        "test_rc4_2 = RC4(k1, 2**20)\n",
        "#test_xorshift2 = xorshift(20, n=2**20)\n",
        "\n",
        "# LCG\n",
        "\n",
        "binss=20\n",
        "\n",
        "obs1, edges = np.histogram(test_lcg2, bins=binss)\n",
        "expt1 = np.full(binss, len(test_lcg2) / binss)\n",
        "st1, p1 = chisquare(f_obs=obs1, f_exp=expt1)\n",
        "print(\"Statystyka chi-kwadrat dla LCG:\", st1)\n",
        "print(\"P-wartość dla LCG:\", p1)\n",
        "print(p_val_test(p1))\n",
        "\n",
        "# GLCG\n",
        "\n",
        "obs2, edges = np.histogram(test_glcg2, bins=binss)\n",
        "expt2 = np.full(binss, len(test_glcg2) / binss)\n",
        "st2, p2 = chisquare(f_obs=obs2, f_exp=expt2)\n",
        "print(\"Statystyka chi-kwadrat dla GLCG:\", st2)\n",
        "print(\"P-wartość dla GLCG:\", p2)\n",
        "print(p_val_test(p2))\n",
        "\n",
        "# RC4\n",
        "\n",
        "obs3, edges = np.histogram(test_rc4_2, bins=binss)\n",
        "expt3 = np.full(binss, len(test_rc4_2) / binss)\n",
        "st3, p3 = chisquare(f_obs=obs3, f_exp=expt3)\n",
        "print(\"Statystyka chi-kwadrat dla RC4:\", st3)\n",
        "print(\"P-wartość dla RC4:\", p3)\n",
        "print(p_val_test(p3))\n",
        "\n",
        "# Xorshift\n",
        "\n",
        "# obs4, edges = np.histogram(test_xorshift, bins=binss)\n",
        "# expt4 = np.full(binss, len(test_xorshift) / binss)\n",
        "# st4, p4 = chisquare(f_obs=obs4, f_exp=expt4)\n",
        "# print(\"Statystyka chi-kwadrat dla Xorshift:\", st4)\n",
        "# print(\"P-wartość dla Xorshift:\", p4)\n",
        "# print(p_val_test(p4))\n",
        "\n",
        "end_time = time.time()\n",
        "\n",
        "execution_time = end_time - start_time\n",
        "print(f\"Czas wykonania: {execution_time:.6f} sekund\")"
      ],
      "metadata": {
        "colab": {
          "base_uri": "https://localhost:8080/"
        },
        "id": "xy3RpuuvhJOx",
        "outputId": "d777a718-80c7-418f-8a30-c77baa534876"
      },
      "execution_count": null,
      "outputs": [
        {
          "output_type": "stream",
          "name": "stdout",
          "text": [
            "Statystyka chi-kwadrat dla LCG: 564617.8462066652\n",
            "P-wartość dla LCG: 0.0\n",
            "Hipoteza zerowa odrzucona.\n",
            "None\n",
            "Statystyka chi-kwadrat dla GLCG: 176239.7649993896\n",
            "P-wartość dla GLCG: 0.0\n",
            "Hipoteza zerowa odrzucona.\n",
            "None\n",
            "Statystyka chi-kwadrat dla RC4: 98795.03034973145\n",
            "P-wartość dla RC4: 0.0\n",
            "Hipoteza zerowa odrzucona.\n",
            "None\n",
            "Czas wykonania: 2.226928 sekund\n"
          ]
        }
      ]
    },
    {
      "cell_type": "markdown",
      "source": [
        "## 2.2 Test Kołmogorowa-Smirnowa"
      ],
      "metadata": {
        "id": "kqsQRqC8Tp9V"
      }
    },
    {
      "cell_type": "code",
      "source": [
        "from scipy.stats import ks_1samp, uniform\n",
        "\n",
        "# wyniki dla n = 2^15\n",
        "\n",
        "start_time = time.time()\n",
        "\n",
        "# LCG\n",
        "\n",
        "st1, p1 = ks_1samp(test_lcg, uniform.cdf)\n",
        "print(\"Statystyka Kołmogorowa-Smirnowa dla LCG:\", st1)\n",
        "print(\"P-wartość dla LCG:\", p1)\n",
        "print(p_val_test(p1))\n",
        "\n",
        "# GLCG\n",
        "\n",
        "st2, p2 = ks_1samp(test_glcg, uniform.cdf)\n",
        "print(\"Statystyka Kołmogorowa-Smirnowa dla GLCG:\", st2)\n",
        "print(\"P-wartość dla GLCG:\", p2)\n",
        "print(p_val_test(p2))\n",
        "\n",
        "# RC4\n",
        "#dziwne wyniki bo dystrybuanta schodkowa\n",
        "\n",
        "st3, p3 = ks_1samp(test_rc4, uniform.cdf)\n",
        "print(\"Statystyka Kołmogorowa-Smirnowa dla RC4:\", st3)\n",
        "print(\"P-wartość dla RC4:\", p3)\n",
        "print(p_val_test(p3))\n",
        "\n",
        "# Xorshift\n",
        "\n",
        "st4, p4 = ks_1samp(test_xorshift, uniform.cdf)\n",
        "print(\"Statystyka Kołmogorowa-Smirnowa dla Xorshift:\", st4)\n",
        "print(\"P-wartość dla Xorshift:\", p4)\n",
        "print(p_val_test(p4))\n",
        "\n",
        "end_time = time.time()\n",
        "\n",
        "execution_time = end_time - start_time\n",
        "print(f\"Czas wykonania: {execution_time:.6f} sekund\")"
      ],
      "metadata": {
        "colab": {
          "base_uri": "https://localhost:8080/"
        },
        "id": "iBD_-9V6b2Yq",
        "outputId": "5120e84e-771d-4608-f25a-c96c7f624a03"
      },
      "execution_count": null,
      "outputs": [
        {
          "output_type": "stream",
          "name": "stdout",
          "text": [
            "Statystyka Kołmogorowa-Smirnowa dla LCG: 0.0778461538461539\n",
            "P-wartość dla LCG: 1.0205703875732715e-05\n",
            "Hipoteza zerowa odrzucona.\n",
            "None\n",
            "Statystyka Kołmogorowa-Smirnowa dla GLCG: 0.073516845703125\n",
            "P-wartość dla GLCG: 1.8473544790399517e-154\n",
            "Hipoteza zerowa odrzucona.\n",
            "None\n",
            "Statystyka Kołmogorowa-Smirnowa dla RC4: 0.033294677734375\n",
            "P-wartość dla RC4: 5.404678627545136e-32\n",
            "Hipoteza zerowa odrzucona.\n",
            "None\n",
            "Statystyka Kołmogorowa-Smirnowa dla Xorshift: 0.005506766648966599\n",
            "P-wartość dla Xorshift: 0.2724178392024802\n",
            "Hipoteza zerowa nieodrzucona.\n",
            "None\n",
            "Czas wykonania: 0.111670 sekund\n"
          ]
        }
      ]
    },
    {
      "cell_type": "code",
      "source": [
        "# wyniki dla n = 2^10\n",
        "\n",
        "start_time = time.time()\n",
        "\n",
        "# LCG\n",
        "\n",
        "st1, p1 = ks_1samp(test_lcg1, uniform.cdf)\n",
        "print(\"Statystyka Kołmogorowa-Smirnowa dla LCG:\", st1)\n",
        "print(\"P-wartość dla LCG:\", p1)\n",
        "print(p_val_test(p1))\n",
        "\n",
        "# GLCG\n",
        "\n",
        "st2, p2 = ks_1samp(test_glcg1, uniform.cdf)\n",
        "print(\"Statystyka Kołmogorowa-Smirnowa dla GLCG:\", st2)\n",
        "print(\"P-wartość dla GLCG:\", p2)\n",
        "print(p_val_test(p2))\n",
        "\n",
        "# RC4\n",
        "#dziwne wyniki bo dystrybuanta schodkowa\n",
        "\n",
        "st3, p3 = ks_1samp(test_rc4_1, uniform.cdf)\n",
        "print(\"Statystyka Kołmogorowa-Smirnowa dla RC4:\", st3)\n",
        "print(\"P-wartość dla RC4:\", p3)\n",
        "print(p_val_test(p3))\n",
        "\n",
        "# Xorshift\n",
        "\n",
        "st4, p4 = ks_1samp(test_xorshift1, uniform.cdf)\n",
        "print(\"Statystyka Kołmogorowa-Smirnowa dla Xorshift:\", st4)\n",
        "print(\"P-wartość dla Xorshift:\", p4)\n",
        "print(p_val_test(p4))\n",
        "\n",
        "end_time = time.time()\n",
        "\n",
        "execution_time = end_time - start_time\n",
        "print(f\"Czas wykonania: {execution_time:.6f} sekund\")"
      ],
      "metadata": {
        "colab": {
          "base_uri": "https://localhost:8080/"
        },
        "id": "WCmwxXuItT9e",
        "outputId": "340b73df-d8eb-4ddd-880a-667669d03838"
      },
      "execution_count": null,
      "outputs": [
        {
          "output_type": "stream",
          "name": "stdout",
          "text": [
            "Statystyka Kołmogorowa-Smirnowa dla LCG: 0.07767427884615385\n",
            "P-wartość dla LCG: 8.058011247917728e-06\n",
            "Hipoteza zerowa odrzucona.\n",
            "None\n",
            "Statystyka Kołmogorowa-Smirnowa dla GLCG: 0.0712890625\n",
            "P-wartość dla GLCG: 5.7016213355827625e-05\n",
            "Hipoteza zerowa odrzucona.\n",
            "None\n",
            "Statystyka Kołmogorowa-Smirnowa dla RC4: 0.044921875\n",
            "P-wartość dla RC4: 0.031098686325928604\n",
            "Hipoteza zerowa odrzucona.\n",
            "None\n",
            "Statystyka Kołmogorowa-Smirnowa dla Xorshift: 0.02057039097327651\n",
            "P-wartość dla Xorshift: 0.7710172549602066\n",
            "Hipoteza zerowa nieodrzucona.\n",
            "None\n",
            "Czas wykonania: 0.020643 sekund\n"
          ]
        }
      ]
    },
    {
      "cell_type": "code",
      "source": [
        "# wyniki dla n = 2^20\n",
        "# z wyjątkiem Xorshift\n",
        "\n",
        "start_time = time.time()\n",
        "\n",
        "# LCG\n",
        "\n",
        "st1, p1 = ks_1samp(test_lcg2, uniform.cdf)\n",
        "print(\"Statystyka Kołmogorowa-Smirnowa dla LCG:\", st1)\n",
        "print(\"P-wartość dla LCG:\", p1)\n",
        "print(p_val_test(p1))\n",
        "\n",
        "# GLCG\n",
        "\n",
        "st2, p2 = ks_1samp(test_glcg2, uniform.cdf)\n",
        "print(\"Statystyka Kołmogorowa-Smirnowa dla GLCG:\", st2)\n",
        "print(\"P-wartość dla GLCG:\", p2)\n",
        "print(p_val_test(p2))\n",
        "\n",
        "# RC4\n",
        "#dziwne wyniki bo dystrybuanta schodkowa\n",
        "\n",
        "st3, p3 = ks_1samp(test_rc4_2, uniform.cdf)\n",
        "print(\"Statystyka Kołmogorowa-Smirnowa dla RC4:\", st3)\n",
        "print(\"P-wartość dla RC4:\", p3)\n",
        "print(p_val_test(p3))\n",
        "\n",
        "# Xorshift\n",
        "\n",
        "# st4, p4 = ks_1samp(test_xorshift, uniform.cdf)\n",
        "# print(\"Statystyka Kołmogorowa-Smirnowa dla Xorshift:\", st4)\n",
        "# print(\"P-wartość dla Xorshift:\", p4)\n",
        "# print(p_val_test(p4))\n",
        "\n",
        "end_time = time.time()\n",
        "\n",
        "execution_time = end_time - start_time\n",
        "print(f\"Czas wykonania: {execution_time:.6f} sekund\")"
      ],
      "metadata": {
        "colab": {
          "base_uri": "https://localhost:8080/"
        },
        "id": "mK4XDxh9t8Z_",
        "outputId": "19772b3b-184f-4334-fefb-16581cf4ce99"
      },
      "execution_count": null,
      "outputs": [
        {
          "output_type": "stream",
          "name": "stdout",
          "text": [
            "Statystyka Kołmogorowa-Smirnowa dla LCG: 0.0769241773165189\n",
            "P-wartość dla LCG: 0.0\n",
            "Hipoteza zerowa odrzucona.\n",
            "None\n",
            "Statystyka Kołmogorowa-Smirnowa dla GLCG: 0.07356548309326172\n",
            "P-wartość dla GLCG: 0.0\n",
            "Hipoteza zerowa odrzucona.\n",
            "None\n",
            "Statystyka Kołmogorowa-Smirnowa dla RC4: 0.03149986267089844\n",
            "P-wartość dla RC4: 0.0\n",
            "Hipoteza zerowa odrzucona.\n",
            "None\n",
            "Czas wykonania: 0.514973 sekund\n"
          ]
        }
      ]
    },
    {
      "cell_type": "markdown",
      "source": [
        "## 2.3 Test serii"
      ],
      "metadata": {
        "id": "bj_22rTajY3x"
      }
    },
    {
      "cell_type": "code",
      "source": [
        "import numpy as np\n",
        "from scipy.stats import norm\n",
        "\n",
        "def runs_test(data):\n",
        "    median = np.median(data)\n",
        "    binary = [1 if i >= median else 0 for i in data]  # zamiana danych na ciąg binarny (według mediany)\n",
        "    x = np.sum(binary)  # Liczba 1 (liczenie elementów)\n",
        "    y = len(binary) - x  # Liczba 0\n",
        "    n = x + y\n",
        "    if x == 0 or y == 0:\n",
        "        raise ValueError(\"Not enough diversity of data. We cannot perform this test.\")\n",
        "    runs = 1  # liczba serii\n",
        "    for i in range(1, len(binary)):\n",
        "        if binary[i] != binary[i - 1]:\n",
        "            runs += 1\n",
        "    expected = (2 * x * y) / n + 1  # wartość oczekiwana liczby serii\n",
        "    sigma = np.sqrt((2 * x * y * (2 * x * y - n)) / (n**2 * (n - 1)))  # odchylenie standardowe\n",
        "    z = (runs - expected) / sigma\n",
        "    p_value = 2 * (1 - norm.cdf(abs(z)))\n",
        "    return {\n",
        "        \"Statystyka Z\": z,\n",
        "        \"P-wartość\": p_value,\n",
        "        \"Liczba serii\": runs,\n",
        "        \"Mediana\": median\n",
        "    }"
      ],
      "metadata": {
        "id": "nV65ACZNjbnN"
      },
      "execution_count": null,
      "outputs": []
    },
    {
      "cell_type": "code",
      "source": [
        "# wyniki dla n = 2^15\n",
        "\n",
        "start_time = time.time()\n",
        "\n",
        "# LCG\n",
        "\n",
        "lcg_data = runs_test(test_lcg)\n",
        "print(\"Statystyka testu serii dla LCG:\", lcg_data[\"Statystyka Z\"])\n",
        "print(\"P-wartość dla LCG:\", lcg_data[\"P-wartość\"])\n",
        "print(p_val_test(lcg_data[\"P-wartość\"]))\n",
        "\n",
        "# GLCG\n",
        "\n",
        "glcg_data = runs_test(test_glcg)\n",
        "print(\"Statystyka testu serii dla GLCG:\", glcg_data[\"Statystyka Z\"])\n",
        "print(\"P-wartość dla GLCG:\", glcg_data[\"P-wartość\"])\n",
        "print(p_val_test(glcg_data[\"P-wartość\"]))\n",
        "\n",
        "# RC4\n",
        "\n",
        "rc4_data = runs_test(test_rc4)\n",
        "print(\"Statystyka testu serii dla RC4:\", rc4_data[\"Statystyka Z\"])\n",
        "print(\"P-wartość dla RC4:\", rc4_data[\"P-wartość\"])\n",
        "print(p_val_test(rc4_data[\"P-wartość\"]))\n",
        "\n",
        "# Xorshift\n",
        "\n",
        "xorshift_data = runs_test(test_xorshift)\n",
        "print(\"Statystyka testu serii dla Xorshift:\", xorshift_data[\"Statystyka Z\"])\n",
        "print(\"P-wartość dla Xorshift:\", xorshift_data[\"P-wartość\"])\n",
        "print(p_val_test(xorshift_data[\"P-wartość\"]))\n",
        "\n",
        "end_time = time.time()\n",
        "\n",
        "execution_time = end_time - start_time\n",
        "print(f\"Czas wykonania: {execution_time:.6f} sekund\")"
      ],
      "metadata": {
        "colab": {
          "base_uri": "https://localhost:8080/"
        },
        "id": "JGIA_IDR6FXe",
        "outputId": "d8b7624f-b5cc-4e6c-a0de-07199d9bc16a"
      },
      "execution_count": null,
      "outputs": [
        {
          "output_type": "stream",
          "name": "stdout",
          "text": [
            "Statystyka testu serii dla LCG: 17.30437008826627\n",
            "P-wartość dla LCG: 0.0\n",
            "Hipoteza zerowa odrzucona.\n",
            "None\n",
            "Statystyka testu serii dla GLCG: -7.502074837193712\n",
            "P-wartość dla GLCG: 6.283862319378386e-14\n",
            "Hipoteza zerowa odrzucona.\n",
            "None\n",
            "Statystyka testu serii dla RC4: 1.1924843866469046\n",
            "P-wartość dla RC4: 0.23307136924221683\n",
            "Hipoteza zerowa nieodrzucona.\n",
            "None\n",
            "Statystyka testu serii dla Xorshift: 0.7955072677755272\n",
            "P-wartość dla Xorshift: 0.42631848500068603\n",
            "Hipoteza zerowa nieodrzucona.\n",
            "None\n",
            "Czas wykonania: 0.050942 sekund\n"
          ]
        }
      ]
    },
    {
      "cell_type": "code",
      "source": [
        "# wyniki dla n = 2^10\n",
        "\n",
        "start_time = time.time()\n",
        "\n",
        "# LCG\n",
        "\n",
        "lcg_data = runs_test(test_lcg1)\n",
        "print(\"Statystyka testu serii dla LCG:\", lcg_data[\"Statystyka Z\"])\n",
        "print(\"P-wartość dla LCG:\", lcg_data[\"P-wartość\"])\n",
        "print(p_val_test(lcg_data[\"P-wartość\"]))\n",
        "\n",
        "# GLCG\n",
        "\n",
        "glcg_data = runs_test(test_glcg1)\n",
        "print(\"Statystyka testu serii dla GLCG:\", glcg_data[\"Statystyka Z\"])\n",
        "print(\"P-wartość dla GLCG:\", glcg_data[\"P-wartość\"])\n",
        "print(p_val_test(glcg_data[\"P-wartość\"]))\n",
        "\n",
        "# RC4\n",
        "\n",
        "rc4_data = runs_test(test_rc4_1)\n",
        "print(\"Statystyka testu serii dla RC4:\", rc4_data[\"Statystyka Z\"])\n",
        "print(\"P-wartość dla RC4:\", rc4_data[\"P-wartość\"])\n",
        "print(p_val_test(rc4_data[\"P-wartość\"]))\n",
        "\n",
        "# Xorshift\n",
        "\n",
        "xorshift_data = runs_test(test_xorshift1)\n",
        "print(\"Statystyka testu serii dla Xorshift:\", xorshift_data[\"Statystyka Z\"])\n",
        "print(\"P-wartość dla Xorshift:\", xorshift_data[\"P-wartość\"])\n",
        "print(p_val_test(xorshift_data[\"P-wartość\"]))\n",
        "\n",
        "end_time = time.time()\n",
        "\n",
        "execution_time = end_time - start_time\n",
        "print(f\"Czas wykonania: {execution_time:.6f} sekund\")"
      ],
      "metadata": {
        "colab": {
          "base_uri": "https://localhost:8080/"
        },
        "id": "b-HzXADZur3E",
        "outputId": "c006f77c-35d7-4b75-d614-7065017257b4"
      },
      "execution_count": null,
      "outputs": [
        {
          "output_type": "stream",
          "name": "stdout",
          "text": [
            "Statystyka testu serii dla LCG: 17.48320598046148\n",
            "P-wartość dla LCG: 0.0\n",
            "Hipoteza zerowa odrzucona.\n",
            "None\n",
            "Statystyka testu serii dla GLCG: -1.4380864671490048\n",
            "P-wartość dla GLCG: 0.15040952188240908\n",
            "Hipoteza zerowa nieodrzucona.\n",
            "None\n",
            "Statystyka testu serii dla RC4: -0.7484584845520809\n",
            "P-wartość dla RC4: 0.45418365728769405\n",
            "Hipoteza zerowa nieodrzucona.\n",
            "None\n",
            "Statystyka testu serii dla Xorshift: 0.43771398876310097\n",
            "P-wartość dla Xorshift: 0.6615936276613448\n",
            "Hipoteza zerowa nieodrzucona.\n",
            "None\n",
            "Czas wykonania: 0.013570 sekund\n"
          ]
        }
      ]
    },
    {
      "cell_type": "code",
      "source": [
        "# wyniki dla n = 2^20\n",
        "\n",
        "start_time = time.time()\n",
        "\n",
        "# LCG\n",
        "\n",
        "lcg_data = runs_test(test_lcg2)\n",
        "print(\"Statystyka testu serii dla LCG:\", lcg_data[\"Statystyka Z\"])\n",
        "print(\"P-wartość dla LCG:\", lcg_data[\"P-wartość\"])\n",
        "print(p_val_test(lcg_data[\"P-wartość\"]))\n",
        "\n",
        "# GLCG\n",
        "\n",
        "glcg_data = runs_test(test_glcg2)\n",
        "print(\"Statystyka testu serii dla GLCG:\", glcg_data[\"Statystyka Z\"])\n",
        "print(\"P-wartość dla GLCG:\", glcg_data[\"P-wartość\"])\n",
        "print(p_val_test(glcg_data[\"P-wartość\"]))\n",
        "\n",
        "# RC4\n",
        "\n",
        "rc4_data = runs_test(test_rc4_2)\n",
        "print(\"Statystyka testu serii dla RC4:\", rc4_data[\"Statystyka Z\"])\n",
        "print(\"P-wartość dla RC4:\", rc4_data[\"P-wartość\"])\n",
        "print(p_val_test(rc4_data[\"P-wartość\"]))\n",
        "\n",
        "# Xorshift\n",
        "\n",
        "# xorshift_data = runs_test(test_xorshift)\n",
        "# print(\"Statystyka testu serii dla Xorshift:\", xorshift_data[\"Statystyka Z\"])\n",
        "# print(\"P-wartość dla Xorshift:\", xorshift_data[\"P-wartość\"])\n",
        "# print(p_val_test(xorshift_data[\"P-wartość\"]))\n",
        "\n",
        "end_time = time.time()\n",
        "\n",
        "execution_time = end_time - start_time\n",
        "print(f\"Czas wykonania: {execution_time:.6f} sekund\")"
      ],
      "metadata": {
        "colab": {
          "base_uri": "https://localhost:8080/"
        },
        "id": "_EpOZkJbuzB1",
        "outputId": "9fdb7d1c-b07b-4277-f330-d458e70c68c8"
      },
      "execution_count": null,
      "outputs": [
        {
          "output_type": "stream",
          "name": "stderr",
          "text": [
            "<ipython-input-11-1137840c573d>:17: RuntimeWarning: overflow encountered in scalar multiply\n",
            "  sigma = np.sqrt((2 * x * y * (2 * x * y - n)) / (n**2 * (n - 1)))  # odchylenie standardowe\n",
            "<ipython-input-11-1137840c573d>:17: RuntimeWarning: invalid value encountered in sqrt\n",
            "  sigma = np.sqrt((2 * x * y * (2 * x * y - n)) / (n**2 * (n - 1)))  # odchylenie standardowe\n"
          ]
        },
        {
          "output_type": "stream",
          "name": "stdout",
          "text": [
            "Statystyka testu serii dla LCG: nan\n",
            "P-wartość dla LCG: nan\n",
            "Hipoteza zerowa odrzucona.\n",
            "None\n",
            "Statystyka testu serii dla GLCG: nan\n",
            "P-wartość dla GLCG: nan\n",
            "Hipoteza zerowa odrzucona.\n",
            "None\n",
            "Statystyka testu serii dla RC4: nan\n",
            "P-wartość dla RC4: nan\n",
            "Hipoteza zerowa odrzucona.\n",
            "None\n",
            "Czas wykonania: 1.218735 sekund\n"
          ]
        }
      ]
    },
    {
      "cell_type": "markdown",
      "source": [
        "# 3. Second-level testing"
      ],
      "metadata": {
        "id": "xmMY5wwqIUP6"
      }
    },
    {
      "cell_type": "code",
      "source": [
        "import matplotlib.pyplot as plt\n",
        "import time\n",
        "\n",
        "#wnioski: czy przechodzą testy 1 i 2 rodzaju\n",
        "\n",
        "start_time = time.time()\n",
        "\n",
        "sec_test_lcg = LCG(30, 1, 5, 13, 1000*2**15)\n",
        "\n",
        "end_time = time.time()\n",
        "\n",
        "execution_time = end_time - start_time\n",
        "print(f\"Czas wykonania: {execution_time:.6f} sekund\")"
      ],
      "metadata": {
        "id": "5s2mMDuGQI01",
        "colab": {
          "base_uri": "https://localhost:8080/"
        },
        "outputId": "4fe6d35c-3c13-4397-9c08-efd2374ff704"
      },
      "execution_count": null,
      "outputs": [
        {
          "output_type": "stream",
          "name": "stdout",
          "text": [
            "Czas wykonania: 7.299573 sekund\n"
          ]
        }
      ]
    },
    {
      "cell_type": "code",
      "source": [
        "start_time = time.time()\n",
        "\n",
        "sec_test_glcg = GLCG([30, 40, 50], [3, 7, 68], 2**10, 1000*2**15)\n",
        "\n",
        "end_time = time.time()\n",
        "\n",
        "execution_time = end_time - start_time\n",
        "print(f\"Czas wykonania: {execution_time:.6f} sekund\")"
      ],
      "metadata": {
        "id": "JPSmkGj5dqen",
        "outputId": "d027f9ca-e40c-4d54-f809-4dd30b871948",
        "colab": {
          "base_uri": "https://localhost:8080/"
        }
      },
      "execution_count": null,
      "outputs": [
        {
          "output_type": "stream",
          "name": "stdout",
          "text": [
            "Czas wykonania: 46.204898 sekund\n"
          ]
        }
      ]
    },
    {
      "cell_type": "code",
      "source": [
        "start_time = time.time()\n",
        "\n",
        "sec_test_rc4 = RC4(k1, 1000*2**15)\n",
        "\n",
        "end_time = time.time()\n",
        "\n",
        "execution_time = end_time - start_time\n",
        "print(f\"Czas wykonania: {execution_time:.6f} sekund\")"
      ],
      "metadata": {
        "id": "tx7cKXeNeJe9",
        "outputId": "138c5f44-5ef3-4598-d89f-965580340d0e",
        "colab": {
          "base_uri": "https://localhost:8080/"
        }
      },
      "execution_count": null,
      "outputs": [
        {
          "output_type": "stream",
          "name": "stdout",
          "text": [
            "Czas wykonania: 15.325795 sekund\n"
          ]
        }
      ]
    },
    {
      "cell_type": "code",
      "source": [
        "start_time = time.time()\n",
        "\n",
        "sec_test_xorshift = xorshift(20, n=2**18)\n",
        "\n",
        "end_time = time.time()\n",
        "\n",
        "execution_time = end_time - start_time\n",
        "print(f\"Czas wykonania: {execution_time:.6f} sekund\")"
      ],
      "metadata": {
        "id": "X5qNK__rZoJV",
        "outputId": "54c43424-7a38-4834-a334-d80b9cfb1de4",
        "colab": {
          "base_uri": "https://localhost:8080/"
        }
      },
      "execution_count": null,
      "outputs": [
        {
          "output_type": "stream",
          "name": "stdout",
          "text": [
            "Czas wykonania: 369.875624 sekund\n"
          ]
        }
      ]
    },
    {
      "cell_type": "markdown",
      "source": [
        "## 3.1 Test $\\chi^2$"
      ],
      "metadata": {
        "id": "A6EI6MgXNP0O"
      }
    },
    {
      "cell_type": "code",
      "source": [
        "start_time = time.time()\n",
        "\n",
        "# przerobić liczbę kubełków\n",
        "\n",
        "def second_level_testing_chi_square(data, sequence_length):\n",
        "    seq_num = len(data) // sequence_length  # ilość podciągów podanej długości\n",
        "    p_values = []\n",
        "    for i in range(seq_num):\n",
        "        seq = data[i * sequence_length : (i + 1) * sequence_length]  # tworzenie podciągów\n",
        "        try:\n",
        "            p_value = chisquare(seq)[1]  # przeprowadzanie testu\n",
        "            p_values.append(p_value)\n",
        "        except ValueError:\n",
        "            p_values.append(None)\n",
        "    return p_values\n",
        "\n",
        "\n",
        "length1 = 2**15\n",
        "length2 = 2**10\n",
        "p_values1_lcg = second_level_testing_chi_square(test_lcg, length1)\n",
        "p_values1_glcg = second_level_testing_chi_square(test_glcg, length1)\n",
        "p_values1_rc4 = second_level_testing_chi_square(test_rc4, length1)\n",
        "p_values1_xorshift = second_level_testing_chi_square(test_xorshift, length2)\n",
        "\n",
        "# print(f\"P-wartości dla wszystkich podciągów - LCG:\")\n",
        "# print(p_values1_lcg)\n",
        "# print(f\"P-wartości dla wszystkich podciągów - GLCG:\")\n",
        "# print(p_values1_glcg)\n",
        "# print(f\"P-wartości dla wszystkich podciągów - RC4:\")\n",
        "# print(p_values1_rc4)\n",
        "# print(f\"P-wartości dla wszystkich podciągów - Xorshift:\")\n",
        "# print(p_values1_xorshift)\n",
        "\n",
        "plt.subplot(2, 2, 1)\n",
        "plt.hist(p_values1_lcg)\n",
        "plt.title(\"P-wartości dla LCG\")\n",
        "\n",
        "plt.subplot(2, 2, 2)\n",
        "plt.hist(p_values1_glcg)\n",
        "plt.title(\"P-wartości dla GLCG\")\n",
        "\n",
        "plt.subplot(2, 2, 3)\n",
        "plt.hist(p_values1_rc4)\n",
        "plt.title(\"P-wartości dla RC4\")\n",
        "\n",
        "plt.subplot(2, 2, 4)\n",
        "plt.hist(p_values1_xorshift)\n",
        "plt.title(\"P-wartości dla Xorshift\")\n",
        "\n",
        "end_time = time.time()\n",
        "\n",
        "execution_time = end_time - start_time\n",
        "print(f\"Czas wykonania: {execution_time:.6f} sekund\")"
      ],
      "metadata": {
        "id": "xIBKt5XFNXAs",
        "outputId": "c2e2292e-b8c3-468a-8d0e-458d7834540f",
        "colab": {
          "base_uri": "https://localhost:8080/",
          "height": 469
        }
      },
      "execution_count": null,
      "outputs": [
        {
          "output_type": "stream",
          "name": "stdout",
          "text": [
            "Czas wykonania: 1.836082 sekund\n"
          ]
        },
        {
          "output_type": "display_data",
          "data": {
            "text/plain": [
              "<Figure size 640x480 with 4 Axes>"
            ],
            "image/png": "[encoded data removed]"
          },
          "metadata": {}
        }
      ]
    },
    {
      "cell_type": "markdown",
      "source": [
        "## 3.2 Test Kołmogorowa-Smirnowa"
      ],
      "metadata": {
        "id": "PrQSFpd9NXdN"
      }
    },
    {
      "cell_type": "code",
      "source": [
        "start_time = time.time()\n",
        "\n",
        "def second_level_testing_ks(data, sequence_length):\n",
        "    seq_num = len(data) // sequence_length  # ilość podciągów podanej długości\n",
        "    p_values = []\n",
        "    for i in range(seq_num):\n",
        "        seq = data[i * sequence_length : (i + 1) * sequence_length]  # tworzenie podciągów\n",
        "        try:\n",
        "            p_value = ks_1samp(seq, uniform.cdf)[1]  # przeprowadzanie testu\n",
        "            p_values.append(p_value)\n",
        "        except ValueError:\n",
        "            p_values.append(None)\n",
        "    return p_values\n",
        "\n",
        "\n",
        "length1 = 2**15\n",
        "length2 = 2**10\n",
        "p_values2_lcg = second_level_testing_ks(test_lcg, length1)\n",
        "p_values2_glcg = second_level_testing_ks(test_glcg, length1)\n",
        "p_values2_rc4 = second_level_testing_ks(test_rc4, length1)\n",
        "p_values2_xorshift = second_level_testing_ks(test_xorshift, length2)\n",
        "\n",
        "# print(f\"P-wartości dla wszystkich podciągów - LCG:\")\n",
        "# print(p_values2_lcg)\n",
        "# print(f\"P-wartości dla wszystkich podciągów - GLCG:\")\n",
        "# print(p_values2_glcg)\n",
        "# print(f\"P-wartości dla wszystkich podciągów - RC4:\")\n",
        "# print(p_values2_rc4)\n",
        "# print(f\"P-wartości dla wszystkich podciągów - Xorshift:\")\n",
        "# print(p_values2_xorshift)\n",
        "\n",
        "plt.subplot(2, 2, 1)\n",
        "plt.hist(p_values2_lcg)\n",
        "plt.title(\"P-wartości dla LCG\")\n",
        "\n",
        "plt.subplot(2, 2, 2)\n",
        "plt.hist(p_values2_glcg)\n",
        "plt.title(\"P-wartości dla GLCG\")\n",
        "\n",
        "plt.subplot(2, 2, 3)\n",
        "plt.hist(p_values2_rc4)\n",
        "plt.title(\"P-wartości dla RC4\")\n",
        "\n",
        "plt.subplot(2, 2, 4)\n",
        "plt.hist(p_values2_xorshift)\n",
        "plt.title(\"P-wartości dla Xorshift\")\n",
        "\n",
        "end_time = time.time()\n",
        "\n",
        "execution_time = end_time - start_time\n",
        "print(f\"Czas wykonania: {execution_time:.6f} sekund\")"
      ],
      "metadata": {
        "id": "wXzBeyPYNbY1",
        "outputId": "5f1844c9-8e0b-41d1-99f7-51ad8632fcef",
        "colab": {
          "base_uri": "https://localhost:8080/",
          "height": 470
        }
      },
      "execution_count": null,
      "outputs": [
        {
          "output_type": "stream",
          "name": "stdout",
          "text": [
            "Czas wykonania: 0.280820 sekund\n"
          ]
        },
        {
          "output_type": "display_data",
          "data": {
            "text/plain": [
              "<Figure size 640x480 with 4 Axes>"
            ],
            "image/png": "[encoded data removed]"
          },
          "metadata": {}
        }
      ]
    },
    {
      "cell_type": "markdown",
      "source": [
        "## 3.3 Test serii"
      ],
      "metadata": {
        "id": "0r7A2L6rNc2T"
      }
    },
    {
      "cell_type": "code",
      "source": [
        "start_time = time.time()\n",
        "\n",
        "def second_level_testing_runs_test(data, sequence_length):\n",
        "    seq_num = len(data) // sequence_length  # ilość podciągów podanej długości\n",
        "    p_values = []\n",
        "    for i in range(seq_num):\n",
        "        seq = data[i * sequence_length : (i + 1) * sequence_length]  # tworzenie podciągów\n",
        "        try:\n",
        "            p_value = runs_test(seq)[\"P-wartość\"]  # przeprowadzanie testu\n",
        "            p_values.append(p_value)\n",
        "        except ValueError:\n",
        "            p_values.append(None)\n",
        "    return p_values\n",
        "\n",
        "\n",
        "length1 = 2**15\n",
        "length2 = 2**10\n",
        "p_values3_lcg = second_level_testing_runs_test(test_lcg, length1)\n",
        "p_values3_glcg = second_level_testing_runs_test(test_glcg, length1)\n",
        "p_values3_rc4 = second_level_testing_runs_test(test_rc4, length1)\n",
        "p_values3_xorshift = second_level_testing_runs_test(test_xorshift, length2)\n",
        "\n",
        "# print(f\"P-wartości dla wszystkich podciągów - LCG:\")\n",
        "# print(p_values3_lcg)\n",
        "# print(f\"P-wartości dla wszystkich podciągów - GLCG:\")\n",
        "# print(p_values3_glcg)\n",
        "# print(f\"P-wartości dla wszystkich podciągów - RC4:\")\n",
        "# print(p_values3_rc4)\n",
        "# print(f\"P-wartości dla wszystkich podciągów - Xorshift:\")\n",
        "# print(p_values3_xorshift)\n",
        "\n",
        "plt.subplot(2, 2, 1)\n",
        "plt.hist(p_values3_lcg)\n",
        "plt.title(\"P-wartości dla LCG\")\n",
        "\n",
        "plt.subplot(2, 2, 2)\n",
        "plt.hist(p_values3_glcg)\n",
        "plt.title(\"P-wartości dla GLCG\")\n",
        "\n",
        "plt.subplot(2, 2, 3)\n",
        "plt.hist(p_values3_rc4)\n",
        "plt.title(\"P-wartości dla RC4\")\n",
        "\n",
        "plt.subplot(2, 2, 4)\n",
        "plt.hist(p_values3_xorshift)\n",
        "plt.title(\"P-wartości dla Xorshift\")\n",
        "\n",
        "end_time = time.time()\n",
        "\n",
        "execution_time = end_time - start_time\n",
        "print(f\"Czas wykonania: {execution_time:.6f} sekund\")"
      ],
      "metadata": {
        "id": "3hfEJhIoIYO8",
        "outputId": "2ac9dca0-8af9-4157-e389-e189b7e0e577",
        "colab": {
          "base_uri": "https://localhost:8080/",
          "height": 470
        }
      },
      "execution_count": null,
      "outputs": [
        {
          "output_type": "stream",
          "name": "stdout",
          "text": [
            "Czas wykonania: 0.166721 sekund\n"
          ]
        },
        {
          "output_type": "display_data",
          "data": {
            "text/plain": [
              "<Figure size 640x480 with 4 Axes>"
            ],
            "image/png": "[encoded data removed]"
          },
          "metadata": {}
        }
      ]
    },
    {
      "cell_type": "markdown",
      "source": [
        "# 4. Frequency monobit test"
      ],
      "metadata": {
        "id": "2G1ZttWC78bo"
      }
    },
    {
      "cell_type": "code",
      "source": [
        "import numpy as np\n",
        "from scipy.stats import norm\n",
        "import requests\n",
        "import time\n",
        "import matplotlib.pyplot as plt\n",
        "\n",
        "def freq_monobit(data): # czasy dodać\n",
        "  seq = 2 * np.array(data) - 1\n",
        "  S_obs = sum(seq) / np.sqrt(len(seq))\n",
        "  p_value = 2*(1- norm.cdf(abs(S_obs)))\n",
        "  return {\n",
        "        \"Statystyka\": S_obs,\n",
        "        \"P-wartość\": p_value\n",
        "    }"
      ],
      "metadata": {
        "id": "7zqtN9qBGwAY"
      },
      "execution_count": 9,
      "outputs": []
    },
    {
      "cell_type": "markdown",
      "source": [
        "## 4.1 Liczba $\\pi$"
      ],
      "metadata": {
        "id": "hub2JrXH8MXH"
      }
    },
    {
      "cell_type": "code",
      "source": [
        "url_pi = \"http://www.math.uni.wroc.pl/~rolski/Zajecia/data.pi\"\n",
        "pi_bin = requests.get(url_pi)\n",
        "bits_pi = pi_bin.text.split(\"\\n\")\n",
        "pi_list = [bit.strip() for bit in bits_pi]\n",
        "bits_pi_final = \"\".join(pi_list)\n",
        "pi_list_help = list(bits_pi_final)\n",
        "pi_list_final = [int(bit) for bit in pi_list_help]\n",
        "#print(pi_list_final[1:10])\n",
        "\n",
        "fmt_pi = freq_monobit(pi_list_final)\n",
        "print(\"Statystyka testu frequency monobit dla liczby pi:\", fmt_pi[\"Statystyka\"])\n",
        "print(\"P-wartość testu frequency monobit dla liczby pi:\", fmt_pi[\"P-wartość\"])\n",
        "print(p_val_test(fmt_pi[\"P-wartość\"]))"
      ],
      "metadata": {
        "colab": {
          "base_uri": "https://localhost:8080/"
        },
        "id": "0WIvGaP98P1Y",
        "outputId": "e54d85ec-81e0-42e6-dab2-38d598f0b582"
      },
      "execution_count": 32,
      "outputs": [
        {
          "output_type": "stream",
          "name": "stdout",
          "text": [
            "Statystyka testu frequency monobit dla liczby pi: -0.5047693581663462\n",
            "P-wartość testu frequency monobit dla liczby pi: 0.6137208398729661\n",
            "Hipoteza zerowa nieodrzucona.\n",
            "None\n"
          ]
        }
      ]
    },
    {
      "cell_type": "markdown",
      "source": [
        "### 4.1.1 Second level testing dla liczby $\\pi$"
      ],
      "metadata": {
        "id": "S6d3-nISeaxK"
      }
    },
    {
      "cell_type": "code",
      "source": [
        "#start_time=time.time\n",
        "\n",
        "def second_level_testing_freq_monobit(data, sequence_length):\n",
        "    seq_num = len(data) // sequence_length  # ilość podciągów podanej długości\n",
        "    p_values = []\n",
        "    for i in range(seq_num):\n",
        "        seq = data[i * sequence_length : (i + 1) * sequence_length]  # tworzenie podciągów\n",
        "        try:\n",
        "            p_value = freq_monobit(seq)[\"P-wartość\"]  # przeprowadzanie testu\n",
        "            p_values.append(p_value)\n",
        "        except ValueError:\n",
        "            p_values.append(None)\n",
        "    return p_values\n",
        "\n",
        "\n",
        "length = 1000\n",
        "p_values_pi = second_level_testing_freq_monobit(pi_list_final, length)\n",
        "#print(p_values_pi)\n",
        "\n",
        "plt.hist(p_values_pi)\n",
        "plt.title(\"P-wartości dla liczby pi\")\n",
        "\n",
        "# end_time = time.time()\n",
        "\n",
        "# execution_time = end_time - start_time\n",
        "# print(f\"Czas wykonania: {execution_time:.6f} sekund\")"
      ],
      "metadata": {
        "colab": {
          "base_uri": "https://localhost:8080/",
          "height": 508
        },
        "id": "t-rbYmThehiV",
        "outputId": "b21aff3a-65ad-4f97-9b6c-2ff243441aed"
      },
      "execution_count": 17,
      "outputs": [
        {
          "output_type": "stream",
          "name": "stdout",
          "text": [
            "[0.4866160457640505, 0.18412637278497979, 0.3759205825480747, 0.7518296340458492, 0.4866160457640505, 0.11384629800665813, 0.3115720733144085, 1.0, 0.6579690900638204, 0.6128816234132364, 0.14576681181311235, 0.569213649473711, 0.2059032107320684, 0.6128816234132364, 0.3759205825480747, 0.14576681181311235, 0.25494516431732106, 0.2059032107320684, 0.2059032107320684, 0.1290413050994681, 0.34278171114791145, 0.569213649473711, 0.25494516431732106, 0.04298479507085862, 0.44788447826411204, 0.569213649473711, 0.6128816234132364, 0.18412637278497979, 0.8495154923650348, 0.8495154923650348, 0.569213649473711, 0.6579690900638204, 0.25494516431732106, 0.25494516431732106, 0.569213649473711, 0.164103506825787, 0.2822966525833144, 0.8495154923650348, 0.6128816234132364, 1.0, 0.10009682885123228, 0.2059032107320684, 0.8495154923650348, 0.8002819583293617, 0.7043364134884518, 0.3115720733144085, 0.8495154923650348, 0.8495154923650348, 0.8993431885613663, 0.3115720733144085, 0.8495154923650348, 0.9495709711511051, 0.7043364134884518, 0.3759205825480747, 0.8495154923650348, 0.44788447826411204, 0.2059032107320684, 0.8002819583293617, 0.6128816234132364, 0.8993431885613663, 0.164103506825787, 0.25494516431732106, 0.8495154923650348, 0.8495154923650348, 0.0877050299820239, 0.6128816234132364, 0.4866160457640505, 0.6579690900638204, 0.8495154923650348, 0.410967522088336, 0.7518296340458492, 0.44788447826411204, 0.5270892568655381, 0.22949314873258375, 0.7043364134884518, 0.9495709711511051, 0.03687880184110126, 0.44788447826411204, 0.1290413050994681, 0.06663602844578964, 0.7043364134884518, 0.8002819583293617, 1.0, 0.18412637278497979, 0.8495154923650348, 0.8993431885613663, 0.2059032107320684, 0.3759205825480747, 0.07658140903567001, 0.8495154923650348, 0.6579690900638204, 0.5270892568655381, 0.11384629800665813, 0.569213649473711, 0.6579690900638204, 0.8993431885613663, 0.4866160457640505, 0.8993431885613663, 0.8993431885613663, 0.410967522088336, 0.0877050299820239, 0.2822966525833144, 0.1290413050994681, 0.410967522088336, 1.0, 0.6579690900638204, 0.14576681181311235, 0.4866160457640505, 0.22949314873258375, 0.44788447826411204, 0.4866160457640505, 0.4866160457640505, 0.1290413050994681, 0.22949314873258375, 0.10009682885123228, 0.44788447826411204, 0.6579690900638204, 0.2822966525833144, 0.5270892568655381, 0.1290413050994681, 0.026856695507524453, 0.3115720733144085, 0.410967522088336, 0.8993431885613663, 0.9495709711511051, 0.6128816234132364, 0.2059032107320684, 0.8495154923650348, 0.9495709711511051, 0.6579690900638204, 0.18412637278497979, 0.14576681181311235, 0.44788447826411204, 0.44788447826411204, 0.9495709711511051, 0.25494516431732106, 0.8002819583293617, 0.164103506825787, 0.8002819583293617, 0.7043364134884518, 0.0499242840396974, 0.11384629800665813, 0.9495709711511051, 0.8495154923650348, 0.9495709711511051, 0.8002819583293617, 0.8993431885613663, 0.44788447826411204, 0.006536907408398296, 0.6128816234132364, 0.8993431885613663, 0.8993431885613663, 0.0499242840396974, 0.3115720733144085, 1.0, 0.4866160457640505, 0.9495709711511051, 0.8993431885613663, 0.6128816234132364, 0.7518296340458492, 0.18412637278497979, 0.25494516431732106, 0.164103506825787, 0.8002819583293617, 0.2822966525833144, 0.14576681181311235, 0.18412637278497979, 0.2059032107320684, 0.5270892568655381, 0.6579690900638204, 0.4866160457640505, 0.2822966525833144, 0.410967522088336, 0.8993431885613663, 0.9495709711511051, 0.8993431885613663, 0.019279327322753836, 0.34278171114791145, 0.7043364134884518, 0.3759205825480747, 0.44788447826411204, 1.0, 0.14576681181311235, 0.7518296340458492, 0.5270892568655381, 1.0, 0.9495709711511051, 0.8495154923650348, 0.3115720733144085, 0.7043364134884518, 0.569213649473711, 0.7043364134884518, 0.18412637278497979, 0.6579690900638204, 0.3759205825480747, 0.2822966525833144, 0.7518296340458492, 0.2059032107320684, 0.4866160457640505, 0.8002819583293617, 0.2059032107320684, 0.7518296340458492, 0.8495154923650348, 0.7518296340458492, 0.410967522088336, 0.8002819583293617, 0.026856695507524453, 0.22949314873258375, 0.3759205825480747, 0.4866160457640505, 0.4866160457640505, 0.7043364134884518, 0.7043364134884518, 0.3115720733144085, 0.8993431885613663, 0.3759205825480747, 0.3759205825480747, 0.7518296340458492, 0.2059032107320684, 0.8002819583293617, 1.0, 0.8002819583293617, 0.14576681181311235, 0.34278171114791145, 0.569213649473711, 0.2059032107320684, 0.10009682885123228, 0.3759205825480747, 0.06663602844578964, 0.5270892568655381, 0.0499242840396974, 0.7043364134884518, 0.9495709711511051, 0.9495709711511051, 0.3759205825480747, 0.7043364134884518, 0.22949314873258375, 0.11384629800665813, 0.569213649473711, 0.07658140903567001, 0.6128816234132364, 0.8993431885613663, 0.7518296340458492, 0.2059032107320684, 0.7518296340458492, 0.0227957869735389, 0.14576681181311235, 0.44788447826411204, 0.4866160457640505, 0.2059032107320684, 0.3759205825480747, 0.9495709711511051, 0.22949314873258375, 0.3759205825480747, 0.7043364134884518, 0.5270892568655381, 0.0227957869735389, 0.22949314873258375, 0.3115720733144085, 0.7043364134884518, 0.8993431885613663, 0.8993431885613663, 0.9495709711511051, 0.8495154923650348, 0.04298479507085862, 0.03152763431172034, 0.5270892568655381, 0.7043364134884518, 0.410967522088336, 0.6579690900638204, 0.7043364134884518, 0.8495154923650348, 0.3115720733144085, 0.9495709711511051, 0.7518296340458492, 0.34278171114791145, 0.9495709711511051, 0.44788447826411204, 0.05777957112359733, 0.569213649473711, 0.44788447826411204, 0.9495709711511051, 0.2822966525833144, 0.34278171114791145, 0.1290413050994681, 0.8495154923650348, 0.9495709711511051, 0.7043364134884518, 0.1290413050994681, 0.4866160457640505, 0.6579690900638204, 0.7043364134884518, 0.34278171114791145, 0.8993431885613663, 0.8993431885613663, 0.04298479507085862, 0.6128816234132364, 0.6579690900638204, 0.410967522088336, 0.8002819583293617, 0.7518296340458492, 0.3759205825480747, 0.6579690900638204, 0.7043364134884518, 0.9495709711511051, 0.34278171114791145, 0.569213649473711, 0.0877050299820239, 0.25494516431732106, 0.7043364134884518, 0.8993431885613663, 0.0499242840396974, 0.3759205825480747, 0.7043364134884518, 0.569213649473711, 0.8993431885613663, 0.22949314873258375, 0.9495709711511051, 0.7043364134884518, 0.2059032107320684, 0.410967522088336, 0.3759205825480747, 0.9495709711511051, 0.14576681181311235, 0.7518296340458492, 0.7043364134884518, 0.3115720733144085, 0.569213649473711, 0.0499242840396974, 0.3759205825480747, 0.34278171114791145, 0.8993431885613663, 0.8495154923650348, 0.7043364134884518, 0.22949314873258375, 0.9495709711511051, 0.03152763431172034, 0.2059032107320684, 0.5270892568655381, 0.2822966525833144, 0.44788447826411204, 0.7043364134884518, 0.4866160457640505, 0.03687880184110126, 0.18412637278497979, 0.9495709711511051, 0.164103506825787, 0.569213649473711, 0.4866160457640505, 0.8495154923650348, 0.2822966525833144, 0.34278171114791145, 0.25494516431732106, 0.6128816234132364, 0.3759205825480747, 0.10009682885123228, 0.34278171114791145, 0.11384629800665813, 0.1290413050994681, 0.4866160457640505, 0.2822966525833144, 0.7518296340458492, 0.4866160457640505, 0.164103506825787, 0.6128816234132364, 0.2059032107320684, 0.7043364134884518, 0.8993431885613663, 0.569213649473711, 0.6579690900638204, 0.8495154923650348, 0.8993431885613663, 0.22949314873258375, 0.3115720733144085, 0.22949314873258375, 0.22949314873258375, 0.6128816234132364, 0.0499242840396974, 1.0, 0.9495709711511051, 0.8002819583293617, 0.14576681181311235, 0.34278171114791145, 0.18412637278497979, 0.34278171114791145, 0.34278171114791145, 0.7518296340458492, 0.34278171114791145, 0.14576681181311235, 0.7518296340458492, 0.6579690900638204, 0.05777957112359733, 0.06663602844578964, 0.3115720733144085, 0.410967522088336, 0.07658140903567001, 0.7518296340458492, 0.44788447826411204, 0.410967522088336, 0.8495154923650348, 0.9495709711511051, 0.3115720733144085, 0.5270892568655381, 0.2059032107320684, 0.3759205825480747, 0.18412637278497979, 0.14576681181311235, 0.164103506825787, 0.410967522088336, 0.8495154923650348, 0.3115720733144085, 0.34278171114791145, 0.7518296340458492, 0.3759205825480747, 0.22949314873258375, 0.25494516431732106, 0.3759205825480747, 0.25494516431732106, 0.164103506825787, 0.4866160457640505, 0.0877050299820239, 0.016246473562910868, 1.0, 0.7043364134884518, 0.03687880184110126, 0.2822966525833144, 0.410967522088336, 0.11384629800665813, 0.3759205825480747, 0.3115720733144085, 0.569213649473711, 0.3759205825480747, 0.8002819583293617, 0.34278171114791145, 0.3115720733144085, 0.7043364134884518, 0.7043364134884518, 0.3759205825480747, 0.18412637278497979, 0.3115720733144085, 0.9495709711511051, 0.410967522088336, 0.14576681181311235, 0.11384629800665813, 0.07658140903567001, 0.06663602844578964, 0.5270892568655381, 0.44788447826411204, 0.569213649473711, 0.10009682885123228, 0.8993431885613663, 0.7043364134884518, 0.7043364134884518, 0.4866160457640505, 0.9495709711511051, 0.3115720733144085, 0.1290413050994681, 0.4866160457640505, 0.9495709711511051, 0.6579690900638204, 0.5270892568655381, 0.7043364134884518, 0.8002819583293617, 0.6128816234132364, 0.9495709711511051, 0.2822966525833144, 0.8993431885613663, 0.410967522088336, 0.44788447826411204, 0.7518296340458492, 0.34278171114791145, 0.7043364134884518, 0.22949314873258375, 0.3759205825480747, 0.7518296340458492, 0.019279327322753836, 0.2822966525833144, 0.6128816234132364, 0.8002819583293617, 0.25494516431732106, 0.569213649473711, 0.410967522088336, 0.026856695507524453, 0.6579690900638204, 0.7043364134884518, 0.6128816234132364, 0.7518296340458492, 0.7518296340458492, 1.0, 0.1290413050994681, 0.410967522088336, 0.8495154923650348, 0.3115720733144085, 0.25494516431732106, 0.8002819583293617, 0.6579690900638204, 0.5270892568655381, 0.6579690900638204, 0.14576681181311235, 0.7518296340458492, 0.016246473562910868, 0.3759205825480747, 0.18412637278497979, 0.2059032107320684, 0.410967522088336, 0.8495154923650348, 0.14576681181311235, 0.410967522088336, 0.3115720733144085, 0.013641155794968496, 0.4866160457640505, 0.10009682885123228, 0.3115720733144085, 0.14576681181311235, 0.7043364134884518, 0.34278171114791145, 0.25494516431732106, 0.569213649473711, 0.11384629800665813, 0.2822966525833144, 0.164103506825787, 0.569213649473711, 0.44788447826411204, 0.4866160457640505, 0.18412637278497979, 0.8002819583293617, 0.03687880184110126, 0.10009682885123228, 0.8495154923650348, 0.3759205825480747, 0.4866160457640505, 0.7518296340458492, 0.8495154923650348, 0.8002819583293617, 0.9495709711511051, 0.9495709711511051, 0.7043364134884518, 1.0, 0.0499242840396974, 0.6579690900638204, 0.3115720733144085, 0.22949314873258375, 0.5270892568655381, 0.7518296340458492, 0.8495154923650348, 0.6128816234132364, 0.410967522088336, 0.9495709711511051, 0.569213649473711, 0.1290413050994681, 0.8495154923650348, 0.25494516431732106, 0.18412637278497979, 0.164103506825787, 0.410967522088336, 0.7043364134884518, 1.0, 0.03152763431172034, 0.8002819583293617, 0.07658140903567001, 0.8495154923650348, 0.009512404872503488, 0.6579690900638204, 0.8495154923650348, 0.8002819583293617, 0.3115720733144085, 0.569213649473711, 0.8002819583293617, 0.410967522088336, 0.8993431885613663, 0.7043364134884518, 0.8993431885613663, 0.410967522088336, 0.410967522088336, 0.6128816234132364, 0.1290413050994681, 0.9495709711511051, 0.6579690900638204, 0.22949314873258375, 0.6579690900638204, 1.0, 0.164103506825787, 0.25494516431732106, 0.4866160457640505, 0.016246473562910868, 0.25494516431732106, 0.4866160457640505, 0.8993431885613663, 0.7043364134884518, 0.8993431885613663, 0.005389129493047262, 0.9495709711511051, 0.6128816234132364, 0.569213649473711, 0.2822966525833144, 0.9495709711511051, 0.0227957869735389, 0.7518296340458492, 0.8993431885613663, 0.5270892568655381, 0.6579690900638204, 0.8495154923650348, 0.8495154923650348, 0.8993431885613663, 0.6579690900638204, 1.0, 0.2059032107320684, 0.22949314873258375, 0.4866160457640505, 0.9495709711511051, 0.18412637278497979, 0.4866160457640505, 0.8993431885613663, 0.8002819583293617, 0.410967522088336, 0.9495709711511051, 0.7043364134884518, 0.34278171114791145, 0.3759205825480747, 0.0023990913355473875, 0.6579690900638204, 0.22949314873258375, 0.164103506825787, 1.0, 0.14576681181311235, 0.6128816234132364, 0.6128816234132364, 0.04298479507085862, 0.7043364134884518, 0.25494516431732106, 0.569213649473711, 0.0499242840396974, 0.3759205825480747, 0.2059032107320684, 0.05777957112359733, 0.44788447826411204, 0.9495709711511051, 0.7518296340458492, 0.25494516431732106, 0.8002819583293617, 0.4866160457640505, 0.6128816234132364, 0.569213649473711, 0.164103506825787, 0.9495709711511051, 0.18412637278497979, 0.22949314873258375, 0.3759205825480747, 0.569213649473711, 0.5270892568655381, 0.4866160457640505, 0.25494516431732106, 0.04298479507085862, 0.9495709711511051, 0.7518296340458492, 0.569213649473711, 0.410967522088336, 0.3759205825480747, 0.8993431885613663, 0.011412036386001745, 0.14576681181311235, 0.06663602844578964, 0.34278171114791145, 0.10009682885123228, 0.8495154923650348, 0.0877050299820239, 0.4866160457640505, 0.8002819583293617, 0.44788447826411204, 0.4866160457640505, 0.1290413050994681, 0.569213649473711, 0.410967522088336, 0.410967522088336, 0.164103506825787, 0.14576681181311235, 0.9495709711511051, 0.569213649473711, 0.6579690900638204, 0.6128816234132364, 0.8002819583293617, 0.164103506825787, 0.8495154923650348, 0.34278171114791145, 1.0, 0.8002819583293617, 0.7043364134884518, 1.0, 0.7043364134884518, 0.8002819583293617, 0.4866160457640505, 0.164103506825787, 0.14576681181311235, 0.9495709711511051, 0.8002819583293617, 0.2059032107320684, 0.07658140903567001, 0.06663602844578964, 0.7518296340458492, 0.34278171114791145, 0.4866160457640505, 0.14576681181311235, 0.3759205825480747, 0.18412637278497979, 0.0877050299820239, 0.5270892568655381, 0.5270892568655381, 0.9495709711511051, 0.22949314873258375, 0.7043364134884518, 0.8993431885613663, 0.6128816234132364, 0.25494516431732106, 0.3115720733144085, 0.8495154923650348, 0.6579690900638204, 0.7518296340458492, 0.410967522088336, 0.6579690900638204, 0.2822966525833144, 0.2059032107320684, 0.4866160457640505, 0.07658140903567001, 0.6128816234132364, 0.569213649473711, 0.5270892568655381, 0.9495709711511051, 0.7518296340458492, 0.5270892568655381, 0.44788447826411204, 0.2822966525833144, 0.2059032107320684, 0.11384629800665813, 0.6128816234132364, 0.0877050299820239, 0.2822966525833144, 0.18412637278497979, 0.8002819583293617, 0.7043364134884518, 0.8993431885613663, 0.1290413050994681, 0.44788447826411204, 0.410967522088336, 0.5270892568655381, 0.8002819583293617, 0.44788447826411204, 0.4866160457640505, 0.2822966525833144, 0.6128816234132364, 0.6579690900638204, 0.410967522088336, 0.3759205825480747, 0.8495154923650348, 0.164103506825787, 0.2059032107320684, 0.1290413050994681, 0.34278171114791145, 0.25494516431732106, 0.18412637278497979, 0.9495709711511051, 0.7518296340458492, 1.0, 0.18412637278497979, 0.9495709711511051, 0.8993431885613663, 1.0, 0.2822966525833144, 0.4866160457640505, 0.8002819583293617, 0.03687880184110126, 0.7043364134884518, 0.7518296340458492, 0.6128816234132364, 0.569213649473711, 1.0, 0.2059032107320684, 0.4866160457640505, 0.2822966525833144, 0.410967522088336, 0.2059032107320684, 0.5270892568655381, 0.9495709711511051, 0.3759205825480747, 0.4866160457640505, 0.7518296340458492, 0.9495709711511051, 0.8993431885613663, 0.8495154923650348, 0.8993431885613663, 0.10009682885123228, 0.0036224435050637993, 0.8002819583293617, 0.25494516431732106, 0.18412637278497979, 0.5270892568655381, 0.3759205825480747, 0.06663602844578964, 0.2822966525833144, 0.18412637278497979, 0.9495709711511051, 0.410967522088336, 0.8495154923650348, 0.569213649473711, 0.22949314873258375, 0.2059032107320684, 0.44788447826411204, 0.3759205825480747, 1.0, 0.44788447826411204, 0.4866160457640505, 0.9495709711511051, 0.8002819583293617, 1.0, 0.25494516431732106, 0.9495709711511051, 0.8495154923650348, 0.3115720733144085, 0.18412637278497979, 0.7043364134884518, 0.05777957112359733, 0.6579690900638204, 0.34278171114791145, 0.8993431885613663, 0.8002819583293617, 0.5270892568655381, 0.7043364134884518, 0.016246473562910868, 0.8993431885613663, 0.7043364134884518, 0.569213649473711, 0.10009682885123228, 0.6128816234132364, 0.6128816234132364, 0.569213649473711, 0.004426525857919916, 0.07658140903567001, 0.8002819583293617, 0.9495709711511051, 0.8495154923650348, 0.410967522088336, 0.8993431885613663, 0.8495154923650348, 0.14576681181311235, 0.34278171114791145, 0.3759205825480747, 0.3115720733144085, 0.44788447826411204, 0.8993431885613663, 0.6128816234132364, 0.6579690900638204, 0.9495709711511051, 0.3759205825480747, 0.3759205825480747, 0.8002819583293617, 0.1290413050994681, 0.1290413050994681, 0.22949314873258375, 0.8002819583293617, 0.6579690900638204, 0.34278171114791145, 0.6128816234132364, 0.4866160457640505, 0.8993431885613663, 0.019279327322753836, 0.9495709711511051, 0.0877050299820239, 0.8002819583293617, 0.9495709711511051, 0.5270892568655381, 0.7518296340458492, 0.3115720733144085, 0.4866160457640505, 0.6579690900638204, 0.34278171114791145, 0.569213649473711, 0.8495154923650348, 0.7518296340458492, 0.8993431885613663, 1.0, 0.016246473562910868, 0.34278171114791145, 0.6579690900638204, 0.8993431885613663, 0.8495154923650348, 0.22949314873258375, 0.18412637278497979, 0.410967522088336, 0.7043364134884518, 0.3759205825480747, 0.3115720733144085, 0.25494516431732106, 0.0499242840396974, 0.7518296340458492, 0.07658140903567001, 0.3115720733144085, 0.5270892568655381, 0.8002819583293617, 0.8993431885613663, 0.8002819583293617, 0.3115720733144085, 1.0, 0.9495709711511051, 0.9495709711511051, 0.8495154923650348, 0.7518296340458492, 0.34278171114791145, 0.8495154923650348, 0.6128816234132364, 0.8002819583293617, 0.569213649473711, 0.3759205825480747, 0.9495709711511051, 0.6128816234132364, 0.9495709711511051, 0.44788447826411204, 0.7043364134884518, 0.0877050299820239, 0.6128816234132364, 0.410967522088336, 0.1290413050994681, 0.7043364134884518, 0.569213649473711, 0.9495709711511051, 0.7043364134884518, 0.6579690900638204, 0.0877050299820239, 0.22949314873258375, 0.34278171114791145, 0.44788447826411204, 0.569213649473711, 0.44788447826411204, 0.8002819583293617, 0.5270892568655381, 0.7518296340458492, 0.8002819583293617, 0.8993431885613663, 0.8002819583293617, 0.04298479507085862, 0.4866160457640505, 0.3759205825480747, 0.04298479507085862, 0.3115720733144085, 0.8993431885613663, 0.07658140903567001, 0.8993431885613663, 0.8495154923650348, 0.44788447826411204, 0.9495709711511051, 0.8495154923650348, 0.3115720733144085, 0.2059032107320684, 0.2822966525833144, 0.22949314873258375, 0.06663602844578964, 0.5270892568655381, 0.11384629800665813, 0.002953457605217258, 0.7043364134884518, 0.9495709711511051, 0.8993431885613663, 0.2059032107320684, 0.44788447826411204, 0.11384629800665813, 0.1290413050994681, 1.0, 0.8002819583293617, 0.03152763431172034, 0.6128816234132364, 0.164103506825787, 0.2822966525833144, 0.34278171114791145, 0.9495709711511051, 0.07658140903567001, 0.44788447826411204, 0.569213649473711, 0.22949314873258375, 0.5270892568655381, 0.0877050299820239, 0.6128816234132364, 0.07658140903567001, 0.7518296340458492, 0.03687880184110126, 0.8002819583293617, 1.0, 0.11384629800665813, 0.4866160457640505, 0.8495154923650348, 0.3759205825480747, 0.3115720733144085, 0.18412637278497979, 0.3115720733144085, 0.6128816234132364, 0.8495154923650348, 0.8495154923650348, 0.7043364134884518, 0.8993431885613663, 0.8495154923650348, 0.9495709711511051, 1.0, 0.7518296340458492, 0.6128816234132364, 0.3759205825480747, 0.0877050299820239, 0.0877050299820239]\n"
          ]
        },
        {
          "output_type": "execute_result",
          "data": {
            "text/plain": [
              "Text(0.5, 1.0, 'P-wartości dla liczby pi')"
            ]
          },
          "metadata": {},
          "execution_count": 17
        },
        {
          "output_type": "display_data",
          "data": {
            "text/plain": [
              "<Figure size 640x480 with 1 Axes>"
            ],
            "image/png": "[encoded data removed]"
          },
          "metadata": {}
        }
      ]
    },
    {
      "cell_type": "markdown",
      "source": [
        "## 4.2 Liczba $e$"
      ],
      "metadata": {
        "id": "sb0YNtO19ZVk"
      }
    },
    {
      "cell_type": "code",
      "source": [
        "url_e = \"http://www.math.uni.wroc.pl/~rolski/Zajecia/data.e\"\n",
        "e_bin = requests.get(url_e)\n",
        "bits_e = e_bin.text.split(\"\\n\")\n",
        "e_list = [bit.strip() for bit in bits_e]\n",
        "bits_e_final = \"\".join(e_list)\n",
        "e_list_help = list(bits_e_final)\n",
        "e_list_final = [int(bit) for bit in e_list_help]\n",
        "#print(e_list_final[1:10])\n",
        "\n",
        "fmt_e = freq_monobit(e_list_final)\n",
        "print(\"Statystyka testu frequency monobit dla liczby e:\", fmt_e[\"Statystyka\"])\n",
        "print(\"P-wartość testu frequency monobit dla liczby e:\", fmt_e[\"P-wartość\"])\n",
        "print(p_val_test(fmt_e[\"P-wartość\"]))"
      ],
      "metadata": {
        "colab": {
          "base_uri": "https://localhost:8080/"
        },
        "id": "TI-KxEox9hP9",
        "outputId": "850b66b6-4b62-48a7-fea5-c98f9d7be91d"
      },
      "execution_count": 30,
      "outputs": [
        {
          "output_type": "stream",
          "name": "stdout",
          "text": [
            "Statystyka testu frequency monobit dla liczby e: 0.09177624693933566\n",
            "P-wartość testu frequency monobit dla liczby e: 0.926875816594998\n",
            "Hipoteza zerowa nieodrzucona.\n",
            "None\n"
          ]
        }
      ]
    },
    {
      "cell_type": "markdown",
      "source": [
        "### 4.2.1 Second level testing dla liczby $e$"
      ],
      "metadata": {
        "id": "GYTi_cAMk9Oj"
      }
    },
    {
      "cell_type": "code",
      "source": [
        "length = 1000\n",
        "p_values_e = second_level_testing_freq_monobit(e_list_final, length)\n",
        "\n",
        "plt.hist(p_values_e)\n",
        "plt.title(\"P-wartości dla liczby e\")"
      ],
      "metadata": {
        "colab": {
          "base_uri": "https://localhost:8080/",
          "height": 470
        },
        "id": "7heRe9-llEM6",
        "outputId": "5e380dff-fdf9-44e8-e7c1-d4ebeaba7760"
      },
      "execution_count": 20,
      "outputs": [
        {
          "output_type": "execute_result",
          "data": {
            "text/plain": [
              "Text(0.5, 1.0, 'P-wartości dla liczby e')"
            ]
          },
          "metadata": {},
          "execution_count": 20
        },
        {
          "output_type": "display_data",
          "data": {
            "text/plain": [
              "<Figure size 640x480 with 1 Axes>"
            ],
            "image/png": "[encoded data removed]"
          },
          "metadata": {}
        }
      ]
    },
    {
      "cell_type": "markdown",
      "source": [
        "## 4.3 Liczba $\\sqrt2$"
      ],
      "metadata": {
        "id": "LXgVxtEX-EJU"
      }
    },
    {
      "cell_type": "code",
      "source": [
        "url_s2 = \"http://www.math.uni.wroc.pl/~rolski/Zajecia/data.sqrt2\"\n",
        "s2_bin = requests.get(url_s2)\n",
        "bits_s2 = s2_bin.text.split(\"\\n\")\n",
        "s2_list = [bit.strip() for bit in bits_s2]\n",
        "bits_s2_final = \"\".join(s2_list)\n",
        "s2_list_help = list(bits_s2_final)\n",
        "s2_list_final = [int(bit) for bit in s2_list_help]\n",
        "#print(s2_list_final[1:10])\n",
        "\n",
        "fmt_s2 = freq_monobit(s2_list_final)\n",
        "print(\"Statystyka testu frequency monobit dla pierwiastka z dwóch:\", fmt_s2[\"Statystyka\"])\n",
        "print(\"P-wartość testu frequency monobit dla pierwiastka z dwóch:\", fmt_s2[\"P-wartość\"])\n",
        "print(p_val_test(fmt_s2[\"P-wartość\"]))"
      ],
      "metadata": {
        "colab": {
          "base_uri": "https://localhost:8080/"
        },
        "id": "x3Dl4IF1-Ne-",
        "outputId": "ad10cb81-3653-4bd4-893a-efe4bb611680"
      },
      "execution_count": 31,
      "outputs": [
        {
          "output_type": "stream",
          "name": "stdout",
          "text": [
            "Statystyka testu frequency monobit dla pierwiastka z dwóch: -0.23043807059061344\n",
            "P-wartość testu frequency monobit dla pierwiastka z dwóch: 0.8177513809816284\n",
            "Hipoteza zerowa nieodrzucona.\n",
            "None\n"
          ]
        }
      ]
    },
    {
      "cell_type": "markdown",
      "source": [
        "### 4.3.1 Second level testing dla liczby $\\sqrt2$"
      ],
      "metadata": {
        "id": "uKo6yPNalcBC"
      }
    },
    {
      "cell_type": "code",
      "source": [
        "length = 1000\n",
        "p_values_s2 = second_level_testing_freq_monobit(s2_list_final, length)\n",
        "\n",
        "plt.hist(p_values_s2)\n",
        "plt.title(\"P-wartości dla pierwiastka z dwóch\")"
      ],
      "metadata": {
        "colab": {
          "base_uri": "https://localhost:8080/",
          "height": 470
        },
        "id": "CVd3Yctpli5Z",
        "outputId": "74f91fda-1f38-4dc0-a224-0ab272c5efa1"
      },
      "execution_count": 23,
      "outputs": [
        {
          "output_type": "execute_result",
          "data": {
            "text/plain": [
              "Text(0.5, 1.0, 'P-wartości dla pierwiastka z dwóch')"
            ]
          },
          "metadata": {},
          "execution_count": 23
        },
        {
          "output_type": "display_data",
          "data": {
            "text/plain": [
              "<Figure size 640x480 with 1 Axes>"
            ],
            "image/png": "[encoded data removed]"
          },
          "metadata": {}
        }
      ]
    }
  ]
}