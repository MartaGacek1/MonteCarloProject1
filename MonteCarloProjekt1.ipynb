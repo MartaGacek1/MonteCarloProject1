{
  "nbformat": 4,
  "nbformat_minor": 0,
  "metadata": {
    "colab": {
      "provenance": [],
      "authorship_tag": "ABX9TyMQqp/wvzlMppcSSAbemreE",
      "include_colab_link": true
    },
    "kernelspec": {
      "name": "python3",
      "display_name": "Python 3"
    },
    "language_info": {
      "name": "python"
    }
  },
  "cells": [
    {
      "cell_type": "markdown",
      "metadata": {
        "id": "view-in-github",
        "colab_type": "text"
      },
      "source": [
        "<a href=\"https://colab.research.google.com/github/MartaGacek1/MonteCarloProject1/blob/main/MonteCarloProjekt1.ipynb\" target=\"_parent\"><img src=\"https://colab.research.google.com/assets/colab-badge.svg\" alt=\"Open In Colab\"/></a>"
      ]
    },
    {
      "cell_type": "markdown",
      "source": [
        "# Projekt I - Wprowadzenie do symulacji i metod Monte Carlo\n",
        "\n",
        "## Marta Gacek"
      ],
      "metadata": {
        "id": "utnSvCI2lBHF"
      }
    },
    {
      "cell_type": "markdown",
      "source": [
        "## 1. Generatory liczb pseudolosowych\n",
        "\n",
        "### 1.1 LCG (\"Linear Congruential Generator\")\n",
        "\n"
      ],
      "metadata": {
        "id": "A7XXHtlWmeA0"
      }
    },
    {
      "cell_type": "code",
      "source": [
        "# x0 - warunek początkowy\n",
        "# M - wartość modulo\n",
        "# a, c - parametry z rekurencyjnego wzoru\n",
        "# n - ilość liczb pseudolosowych, które otrzymamy\n",
        "\n",
        "def LCG(x0, a, c, M, n):\n",
        "    result = []\n",
        "    x = x0 % M\n",
        "    result.append(x)\n",
        "    for i in range(n-1):\n",
        "        x = (a * x + c) % M\n",
        "        result.append(x)\n",
        "    return [j/M for j in result]\n",
        "\n",
        "test_lcg=LCG(30, 1, 5, 13, 10)\n",
        "print(test_lcg)"
      ],
      "metadata": {
        "colab": {
          "base_uri": "https://localhost:8080/"
        },
        "id": "zdRKKuIJotKQ",
        "outputId": "2972bfa8-f4ea-4eb4-cd2b-04a106fec288"
      },
      "execution_count": 4,
      "outputs": [
        {
          "output_type": "stream",
          "name": "stdout",
          "text": [
            "[0.3076923076923077, 0.6923076923076923, 0.07692307692307693, 0.46153846153846156, 0.8461538461538461, 0.23076923076923078, 0.6153846153846154, 0.0, 0.38461538461538464, 0.7692307692307693]\n"
          ]
        }
      ]
    },
    {
      "cell_type": "markdown",
      "source": [
        "### 1.2 GLCG (\"Generalized Linear Congruential Generator\")"
      ],
      "metadata": {
        "id": "M-tezDoFbuFF"
      }
    },
    {
      "cell_type": "code",
      "source": [
        "# liczba współczynników musi być równa k, czyli liczbie wartości początkowych x_i dla i=0,...,k-1\n",
        "# initials - lista k warunków początkowych\n",
        "# coeffs - współczynniki a_i dla i=0,...,k-1\n",
        "# M - wartość modulo\n",
        "# n - ilość liczb pseudolosowych, które otrzymamy\n",
        "\n",
        "def GLCG(initials, coeffs, M, n):\n",
        "    k = len(initials)\n",
        "    if len(coeffs) != k:\n",
        "        raise ValueError(\"The number of coefficients doesn't match the number of initial values.\")\n",
        "    lst = initials[:] # lista \"robocza\"\n",
        "    result = lst[:] # tutaj będą ostatecznie zwracane liczby\n",
        "    result = [i/M for i in result] # normalizacja\n",
        "    for i in range(n - k): # bo pierwsze k z n liczb już mamy na początku\n",
        "        x = sum(coeffs[j] * lst[-(j + 1)] for j in range(k)) % M\n",
        "        result.append(x/M) # normalizacja\n",
        "        lst.append(x)\n",
        "        lst.pop(0)  # potrzebujemy k ostatnich wartości do wyznaczania następnych x\n",
        "    return result\n",
        "\n",
        "test_glcg=GLCG([30, 40, 50], [3, 7, 68], 2**10, 10)\n",
        "print(test_glcg)"
      ],
      "metadata": {
        "colab": {
          "base_uri": "https://localhost:8080/"
        },
        "id": "R08Bvpv8dcEI",
        "outputId": "251b13a6-bbe3-4525-a035-5dd209739958"
      },
      "execution_count": null,
      "outputs": [
        {
          "output_type": "stream",
          "name": "stdout",
          "text": [
            "[0.029296875, 0.0390625, 0.048828125, 0.412109375, 0.234375, 0.908203125, 0.388671875, 0.4609375, 0.861328125, 0.240234375]\n"
          ]
        }
      ]
    },
    {
      "cell_type": "markdown",
      "source": [
        "### 1.3 RC4"
      ],
      "metadata": {
        "id": "_aCw5Mkjdcx8"
      }
    },
    {
      "cell_type": "code",
      "source": [
        "# K - \"klucz\" - liczby z przedziału {0,...,m-1}, w naszym przypadku m=32\n",
        "# n - ilość liczb pseudolosowych, które otrzymamy\n",
        "# S - permutacja zbioru m-elementowego\n",
        "# m - wartość modulo\n",
        "\n",
        "import matplotlib.pyplot as plt\n",
        "import random as rd\n",
        "import numpy as np\n",
        "\n",
        "def KSA(K, m=32):\n",
        "   S = list(range(m))\n",
        "   j = 0\n",
        "   for i in range(m):\n",
        "       j = (j + S[i] + K[i % len(K)]) % m\n",
        "       S[i], S[j] = S[j], S[i]\n",
        "   return S\n",
        "\n",
        "def PRGA(S, n, m=32):\n",
        "   i = 0\n",
        "   j = 0\n",
        "   result = []\n",
        "   for k in range(n):\n",
        "       i = (i + 1) % m\n",
        "       j = (j + S[i]) % m\n",
        "       S[i], S[j] = S[j], S[i]\n",
        "       Y = S[(S[i] + S[j]) % m]\n",
        "       result.append(Y/m) # normalizacja\n",
        "   return result\n",
        "\n",
        "def RC4(K, n, m=32):\n",
        "  s = KSA(K, m)\n",
        "  return PRGA(s, n, m)\n",
        "\n",
        "\n",
        "k1 = [x for x in range(100)]\n",
        "test_rc4 = RC4(k1, 1000)\n",
        "print(test_rc4)\n",
        "\n",
        "#plt.hist(test_rc4, bins=20)\n",
        "ran = np.random.uniform(size=1000)\n",
        "plt.hist(ran, bins=20)"
      ],
      "metadata": {
        "id": "_UQXb2S2XfNu",
        "colab": {
          "base_uri": "https://localhost:8080/",
          "height": 611
        },
        "outputId": "896cb342-47f4-46bd-ca8d-048e240f116e"
      },
      "execution_count": 21,
      "outputs": [
        {
          "output_type": "stream",
          "name": "stdout",
          "text": [
            "[0.5, 0.5625, 0.71875, 0.625, 0.78125, 0.75, 0.15625, 0.8125, 0.125, 0.4375, 0.96875, 0.3125, 0.9375, 0.40625, 0.0625, 0.78125, 0.9375, 0.9375, 0.46875, 0.90625, 0.53125, 0.65625, 0.25, 0.84375, 0.375, 0.875, 0.1875, 0.59375, 0.59375, 0.96875, 0.71875, 0.625, 0.96875, 0.71875, 0.625, 0.75, 0.625, 0.96875, 0.9375, 0.6875, 0.6875, 0.96875, 0.9375, 0.28125, 0.0625, 0.3125, 0.59375, 0.0, 0.125, 0.0, 0.125, 0.90625, 0.75, 0.96875, 0.3125, 0.0625, 0.1875, 0.1875, 0.21875, 0.03125, 0.15625, 0.28125, 0.4375, 0.75, 0.0625, 0.71875, 0.1875, 0.25, 0.46875, 0.40625, 0.40625, 0.84375, 0.25, 0.125, 0.03125, 0.3125, 0.4375, 0.15625, 0.15625, 0.46875, 0.15625, 0.3125, 0.40625, 0.78125, 0.1875, 0.03125, 0.28125, 0.15625, 0.28125, 0.3125, 0.28125, 0.0625, 0.65625, 0.0, 0.71875, 0.5, 0.71875, 0.625, 0.4375, 0.28125, 0.09375, 0.28125, 0.59375, 0.25, 0.21875, 0.71875, 0.34375, 0.9375, 0.9375, 0.40625, 0.125, 0.125, 0.0, 0.59375, 0.84375, 0.71875, 0.34375, 0.53125, 0.21875, 0.46875, 0.6875, 0.65625, 0.625, 0.03125, 0.03125, 0.71875, 0.9375, 0.8125, 0.0625, 0.28125, 0.21875, 0.25, 0.125, 0.96875, 0.6875, 0.90625, 0.0, 0.625, 0.625, 0.5, 0.125, 0.25, 0.15625, 0.90625, 0.15625, 0.6875, 0.6875, 0.625, 0.875, 0.03125, 0.5625, 0.0, 0.25, 0.9375, 0.90625, 0.5, 0.53125, 0.8125, 0.3125, 0.25, 0.125, 0.8125, 0.34375, 0.375, 0.125, 0.9375, 0.34375, 0.5625, 0.21875, 0.90625, 0.5, 0.65625, 0.59375, 0.71875, 0.6875, 0.1875, 0.96875, 0.65625, 0.4375, 0.25, 0.125, 0.53125, 0.5, 0.125, 0.125, 0.375, 0.15625, 0.9375, 0.15625, 0.40625, 0.3125, 0.59375, 0.5, 0.78125, 0.0625, 0.375, 0.90625, 0.59375, 0.59375, 0.90625, 0.46875, 0.34375, 0.78125, 0.90625, 0.125, 0.59375, 0.8125, 0.65625, 0.71875, 0.46875, 0.0625, 0.125, 0.15625, 0.71875, 0.03125, 0.5, 0.15625, 0.96875, 0.375, 0.15625, 0.96875, 0.28125, 0.34375, 0.9375, 0.90625, 0.875, 0.78125, 0.71875, 0.4375, 0.96875, 0.9375, 0.34375, 0.21875, 0.15625, 0.625, 0.0625, 0.71875, 0.78125, 0.25, 0.21875, 0.28125, 0.125, 0.8125, 0.84375, 0.375, 0.3125, 0.5, 0.875, 0.96875, 0.5625, 0.59375, 0.8125, 0.21875, 0.15625, 0.21875, 0.3125, 0.25, 0.84375, 0.9375, 0.59375, 0.5, 0.84375, 0.53125, 0.96875, 0.3125, 0.8125, 0.96875, 0.46875, 0.6875, 0.9375, 0.78125, 0.71875, 0.46875, 0.8125, 0.53125, 0.6875, 0.0, 0.09375, 0.25, 0.59375, 0.6875, 0.5625, 0.5, 0.40625, 0.0, 0.875, 0.3125, 0.25, 0.34375, 0.71875, 0.375, 0.625, 0.4375, 0.75, 0.71875, 0.1875, 0.46875, 0.125, 0.5, 0.625, 0.5, 0.46875, 0.34375, 0.75, 0.65625, 0.75, 0.28125, 0.625, 0.0625, 0.0625, 0.0, 0.75, 0.625, 0.0625, 0.6875, 0.53125, 0.53125, 0.21875, 0.9375, 0.1875, 0.03125, 0.53125, 0.9375, 0.84375, 0.0, 0.03125, 0.625, 0.84375, 0.6875, 0.65625, 0.8125, 0.09375, 0.8125, 0.9375, 0.6875, 0.71875, 0.0, 0.65625, 0.25, 0.71875, 0.46875, 0.84375, 0.96875, 0.34375, 0.1875, 0.59375, 0.96875, 0.28125, 0.46875, 0.09375, 0.6875, 0.21875, 0.875, 0.65625, 0.0, 0.6875, 0.0625, 0.625, 0.0, 0.59375, 0.625, 0.0, 0.78125, 0.0625, 0.96875, 0.40625, 0.4375, 0.46875, 0.3125, 0.40625, 0.0625, 0.0, 0.78125, 0.1875, 0.75, 0.75, 0.75, 0.0625, 0.03125, 0.59375, 0.6875, 0.5625, 0.9375, 0.0, 0.875, 0.0625, 0.65625, 0.21875, 0.65625, 0.75, 0.125, 0.46875, 0.8125, 0.90625, 0.15625, 0.15625, 0.875, 0.625, 0.8125, 0.71875, 0.71875, 0.53125, 0.28125, 0.03125, 0.0625, 0.5, 0.90625, 0.5, 0.25, 0.78125, 0.0, 0.5, 0.59375, 0.34375, 0.53125, 0.15625, 0.375, 0.25, 0.34375, 0.21875, 0.0625, 0.78125, 0.15625, 0.5625, 0.4375, 0.3125, 0.28125, 0.8125, 0.0625, 0.875, 0.875, 0.125, 0.53125, 0.3125, 0.25, 0.375, 0.75, 0.84375, 0.875, 0.9375, 0.375, 0.8125, 0.59375, 0.9375, 0.78125, 0.84375, 0.34375, 0.9375, 0.65625, 0.28125, 0.1875, 0.4375, 0.75, 0.46875, 0.875, 0.96875, 0.28125, 0.1875, 0.65625, 0.125, 0.75, 0.21875, 0.1875, 0.28125, 0.84375, 0.25, 0.53125, 0.6875, 0.6875, 0.59375, 0.34375, 0.9375, 0.125, 0.875, 0.28125, 0.5625, 0.0625, 0.46875, 0.9375, 0.90625, 0.21875, 0.5, 0.59375, 0.28125, 0.96875, 0.90625, 0.59375, 0.78125, 0.03125, 0.03125, 0.25, 0.5, 0.28125, 0.375, 0.0, 0.34375, 0.78125, 0.625, 0.21875, 0.84375, 0.6875, 0.3125, 0.125, 0.09375, 0.21875, 0.1875, 0.53125, 0.34375, 0.28125, 0.78125, 0.28125, 0.84375, 0.65625, 0.875, 0.4375, 0.0625, 0.8125, 0.78125, 0.3125, 0.96875, 0.34375, 0.09375, 0.09375, 0.46875, 0.5, 0.5625, 0.96875, 0.59375, 0.0, 0.40625, 0.59375, 0.1875, 0.59375, 0.5, 0.03125, 0.1875, 0.1875, 0.78125, 0.84375, 0.71875, 0.09375, 0.9375, 0.65625, 0.71875, 0.84375, 0.3125, 0.71875, 0.21875, 0.59375, 0.125, 0.15625, 0.96875, 0.6875, 0.34375, 0.59375, 0.625, 0.1875, 0.5, 0.71875, 0.03125, 0.625, 0.96875, 0.59375, 0.375, 0.03125, 0.75, 0.84375, 0.3125, 0.65625, 0.90625, 0.46875, 0.78125, 0.75, 0.21875, 0.28125, 0.0625, 0.65625, 0.15625, 0.34375, 0.1875, 0.125, 0.3125, 0.3125, 0.40625, 0.78125, 0.125, 0.3125, 0.0, 0.40625, 0.0, 0.71875, 0.03125, 0.15625, 0.6875, 0.0625, 0.65625, 0.03125, 0.625, 0.9375, 0.53125, 0.6875, 0.09375, 0.03125, 0.34375, 0.46875, 0.15625, 0.5, 0.40625, 0.40625, 0.4375, 0.59375, 0.0, 0.53125, 0.65625, 0.71875, 0.5625, 0.9375, 0.46875, 0.1875, 0.9375, 0.71875, 0.0625, 0.5625, 0.65625, 0.03125, 0.75, 0.4375, 0.46875, 0.28125, 0.0, 0.3125, 0.4375, 0.5625, 0.125, 0.6875, 0.125, 0.4375, 0.0625, 0.25, 0.5625, 0.96875, 0.03125, 0.875, 0.875, 0.0625, 0.875, 0.21875, 0.0, 0.5, 0.4375, 0.25, 0.0625, 0.84375, 0.59375, 0.59375, 0.125, 0.125, 0.28125, 0.0, 0.96875, 0.625, 0.71875, 0.65625, 0.59375, 0.1875, 0.5, 0.0625, 0.4375, 0.1875, 0.6875, 0.625, 0.65625, 0.40625, 0.65625, 0.78125, 0.5625, 0.625, 0.0, 0.53125, 0.46875, 0.875, 0.78125, 0.25, 0.5, 0.5, 0.40625, 0.9375, 0.125, 0.09375, 0.78125, 0.5, 0.9375, 0.46875, 0.65625, 0.625, 0.28125, 0.4375, 0.5, 0.53125, 0.46875, 0.65625, 0.15625, 0.3125, 0.46875, 0.84375, 0.78125, 0.0, 0.46875, 0.59375, 0.125, 0.0, 0.0, 0.0, 0.375, 0.71875, 0.4375, 0.9375, 0.59375, 0.46875, 0.96875, 0.8125, 0.5, 0.125, 0.6875, 0.0625, 0.28125, 0.15625, 0.875, 0.28125, 0.65625, 0.5625, 0.40625, 0.0625, 0.71875, 0.625, 0.40625, 0.65625, 0.3125, 0.46875, 0.34375, 0.46875, 0.84375, 0.03125, 0.90625, 0.40625, 0.125, 0.09375, 0.71875, 0.3125, 0.5625, 0.15625, 0.03125, 0.6875, 0.375, 0.5, 0.65625, 0.625, 0.8125, 0.59375, 0.125, 0.3125, 0.0625, 0.0, 0.46875, 0.375, 0.84375, 0.09375, 0.8125, 0.21875, 0.90625, 0.96875, 0.34375, 0.40625, 0.96875, 0.375, 0.5, 0.40625, 0.84375, 0.03125, 0.65625, 0.78125, 0.53125, 0.5, 0.90625, 0.65625, 0.75, 0.25, 0.96875, 0.3125, 0.96875, 0.40625, 0.5625, 0.6875, 0.40625, 0.875, 0.3125, 0.875, 0.5625, 0.46875, 0.90625, 0.5, 0.375, 0.46875, 0.40625, 0.96875, 0.8125, 0.875, 0.6875, 0.03125, 0.21875, 0.8125, 0.71875, 0.71875, 0.34375, 0.03125, 0.53125, 0.40625, 0.5, 0.5, 0.8125, 0.84375, 0.8125, 0.625, 0.375, 0.84375, 0.25, 0.125, 0.1875, 0.125, 0.1875, 0.8125, 0.96875, 0.0, 0.875, 0.40625, 0.75, 0.4375, 0.65625, 0.21875, 0.875, 0.65625, 0.625, 0.125, 0.71875, 0.375, 0.25, 0.03125, 0.15625, 0.15625, 0.46875, 0.90625, 0.59375, 0.4375, 0.0, 0.90625, 0.28125, 0.03125, 0.6875, 0.625, 0.15625, 0.53125, 0.34375, 0.4375, 0.75, 0.4375, 0.53125, 0.90625, 0.09375, 0.0625, 0.78125, 0.875, 0.28125, 0.09375, 0.875, 0.65625, 0.25, 0.28125, 0.3125, 0.78125, 0.4375, 0.59375, 0.875, 0.84375, 0.46875, 0.625, 0.78125, 0.9375, 0.71875, 0.0625, 0.0625, 0.0625, 0.84375, 0.53125, 0.84375, 0.28125, 0.1875, 0.03125, 0.53125, 0.875, 0.0, 0.875, 0.5625, 0.3125, 0.25, 0.625, 0.28125, 0.15625, 0.125, 0.125, 0.375, 0.34375, 0.875, 0.03125, 0.53125, 0.59375, 0.28125, 0.3125, 0.3125, 0.375, 0.875, 0.15625, 0.21875, 0.0625, 0.78125, 0.28125, 0.09375, 0.1875, 0.0, 0.40625, 0.53125, 0.03125, 0.90625, 0.8125, 0.75, 0.1875, 0.8125, 0.78125, 0.5625, 0.625, 0.09375, 0.15625, 0.4375, 0.59375, 0.84375, 0.5, 0.625, 0.25, 0.3125, 0.0625, 0.5625, 0.90625, 0.8125, 0.4375, 0.0625, 0.0625, 0.96875, 0.15625, 0.65625, 0.21875, 0.5, 0.90625, 0.1875, 0.4375, 0.65625, 0.78125, 0.125, 0.75, 0.15625, 0.375, 0.21875, 0.34375, 0.625, 0.5, 0.15625, 0.65625, 0.75, 0.625, 0.0, 0.6875, 0.46875, 0.53125, 0.4375, 0.6875, 0.46875, 0.1875, 0.46875, 0.375, 0.9375, 0.5, 0.40625, 0.0625, 0.9375, 0.40625, 0.65625, 0.9375, 0.8125, 0.25, 0.53125, 0.40625, 0.6875]\n"
          ]
        },
        {
          "output_type": "execute_result",
          "data": {
            "text/plain": [
              "(array([51., 52., 40., 41., 56., 66., 44., 49., 50., 63., 52., 49., 43.,\n",
              "        48., 39., 47., 60., 56., 48., 46.]),\n",
              " array([0.00185447, 0.05175529, 0.10165612, 0.15155695, 0.20145778,\n",
              "        0.25135861, 0.30125944, 0.35116027, 0.4010611 , 0.45096193,\n",
              "        0.50086276, 0.55076359, 0.60066442, 0.65056525, 0.70046608,\n",
              "        0.75036691, 0.80026774, 0.85016857, 0.9000694 , 0.94997023,\n",
              "        0.99987106]),\n",
              " <BarContainer object of 20 artists>)"
            ]
          },
          "metadata": {},
          "execution_count": 21
        },
        {
          "output_type": "display_data",
          "data": {
            "text/plain": [
              "<Figure size 640x480 with 1 Axes>"
            ],
            "image/png": "[encoded data removed]"
          },
          "metadata": {}
        }
      ]
    },
    {
      "cell_type": "code",
      "source": [
        "plt.hist(test_rc4, bins=20)"
      ],
      "metadata": {
        "id": "iMFvMI6LoTON",
        "outputId": "078dfefa-8205-4aa4-dcd5-0d377792cbc6",
        "colab": {
          "base_uri": "https://localhost:8080/",
          "height": 555
        }
      },
      "execution_count": 20,
      "outputs": [
        {
          "output_type": "execute_result",
          "data": {
            "text/plain": [
              "(array([67., 57., 40., 64., 26., 64., 34., 49., 30., 65., 67., 21., 75.,\n",
              "        38., 68., 24., 59., 28., 56., 68.]),\n",
              " array([0.       , 0.0484375, 0.096875 , 0.1453125, 0.19375  , 0.2421875,\n",
              "        0.290625 , 0.3390625, 0.3875   , 0.4359375, 0.484375 , 0.5328125,\n",
              "        0.58125  , 0.6296875, 0.678125 , 0.7265625, 0.775    , 0.8234375,\n",
              "        0.871875 , 0.9203125, 0.96875  ]),\n",
              " <BarContainer object of 20 artists>)"
            ]
          },
          "metadata": {},
          "execution_count": 20
        },
        {
          "output_type": "display_data",
          "data": {
            "text/plain": [
              "<Figure size 640x480 with 1 Axes>"
            ],
            "image/png": "[encoded data removed]"
          },
          "metadata": {}
        }
      ]
    },
    {
      "cell_type": "markdown",
      "source": [
        "### 1.4 Xorshift"
      ],
      "metadata": {
        "id": "204lDu7eBEON"
      }
    },
    {
      "cell_type": "code",
      "source": [
        "# x0 - niezerowy warunek początkowy\n",
        "# a, b, c - parametry określające przesunięcia bitowe\n",
        "# n - ilość liczb pseudolosowych, które otrzymamy\n",
        "\n",
        "def xorshift(x0, n, a=21, b=35, c=4):\n",
        "    if x0 == 0:\n",
        "        raise ValueError(\"Initial value must not be zero.\")\n",
        "    x = x0\n",
        "    result = []\n",
        "    for i in range(n):\n",
        "        x ^= (x >> a)  # przesunięcie w prawo i operacja xor\n",
        "        x ^= (x << b)  # przesunięcie w lewo i operacja xor\n",
        "        x ^= (x >> c)  # przesunięcie w prawo i operacja xor\n",
        "        result.append(x & 0xFFFFFFFF)  # ograniczenie liczby x do zakresu 32-bitowego\n",
        "    result = [i/(2**32 - 1) for i in result] # normalizacja (dzielimy przez największą możliwą wartość wygenerowaną przez xorshift)\n",
        "    return result\n",
        "\n",
        "test_xorshift = xorshift(20, n=10)\n",
        "print(test_xorshift)"
      ],
      "metadata": {
        "colab": {
          "base_uri": "https://localhost:8080/"
        },
        "id": "37QnKrBVBKSM",
        "outputId": "2361577e-4e84-4762-fcc1-2083f692ec86"
      },
      "execution_count": null,
      "outputs": [
        {
          "output_type": "stream",
          "name": "stdout",
          "text": [
            "[4.8894435178696745e-09, 0.12507659665427093, 0.34108384450457147, 0.3374680917098811, 0.3372721654216927, 0.09438133940435511, 0.8854625418049895, 0.19366147816033602, 0.4966507629716421, 0.5117596659138239]\n"
          ]
        }
      ]
    },
    {
      "cell_type": "markdown",
      "source": [
        "# 2. Testy statystyczne"
      ],
      "metadata": {
        "id": "byfnFQPf21xm"
      }
    }
  ]
}