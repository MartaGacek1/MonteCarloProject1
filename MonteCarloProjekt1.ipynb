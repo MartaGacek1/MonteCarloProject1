{
  "nbformat": 4,
  "nbformat_minor": 0,
  "metadata": {
    "colab": {
      "provenance": [],
      "authorship_tag": "ABX9TyPiJ06I24/SO7e1PlFjvTa1",
      "include_colab_link": true
    },
    "kernelspec": {
      "name": "python3",
      "display_name": "Python 3"
    },
    "language_info": {
      "name": "python"
    }
  },
  "cells": [
    {
      "cell_type": "markdown",
      "metadata": {
        "id": "view-in-github",
        "colab_type": "text"
      },
      "source": [
        "<a href=\"https://colab.research.google.com/github/MartaGacek1/MonteCarloProject1/blob/main/MonteCarloProjekt1.ipynb\" target=\"_parent\"><img src=\"https://colab.research.google.com/assets/colab-badge.svg\" alt=\"Open In Colab\"/></a>"
      ]
    },
    {
      "cell_type": "markdown",
      "source": [
        "# Projekt I - Wprowadzenie do symulacji i metod Monte Carlo\n",
        "\n",
        "## Marta Gacek"
      ],
      "metadata": {
        "id": "utnSvCI2lBHF"
      }
    },
    {
      "cell_type": "markdown",
      "source": [
        "## 1. Generatory liczb pseudolosowych\n",
        "\n",
        "### 1.1 LCG (\"Linear Congruential Generator\")\n",
        "\n"
      ],
      "metadata": {
        "id": "A7XXHtlWmeA0"
      }
    },
    {
      "cell_type": "code",
      "source": [
        "import time\n",
        "\n",
        "# x0 - warunek początkowy\n",
        "# M - wartość modulo\n",
        "# a, c - parametry z rekurencyjnego wzoru\n",
        "# n - ilość liczb pseudolosowych, które otrzymamy\n",
        "\n",
        "def LCG(x0, a, c, M, n):\n",
        "    result = []\n",
        "    x = x0 % M\n",
        "    result.append(x)\n",
        "    for i in range(n-1):\n",
        "        x = (a * x + c) % M\n",
        "        result.append(x)\n",
        "    return [j/M for j in result]\n",
        "\n",
        "start_time = time.time()\n",
        "test_lcg = LCG(30, 1, 5, 13, 2**15)\n",
        "end_time = time.time()\n",
        "\n",
        "execution_time = end_time - start_time\n",
        "print(f\"Czas wykonania: {execution_time:.6f} sekund\")\n",
        "#print(test_lcg)"
      ],
      "metadata": {
        "id": "zdRKKuIJotKQ",
        "colab": {
          "base_uri": "https://localhost:8080/"
        },
        "outputId": "120bb737-c641-424d-ce2d-daeb97043baf"
      },
      "execution_count": 1,
      "outputs": [
        {
          "output_type": "stream",
          "name": "stdout",
          "text": [
            "Czas wykonania: 0.037934 sekund\n"
          ]
        }
      ]
    },
    {
      "cell_type": "markdown",
      "source": [
        "### 1.2 GLCG (\"Generalized Linear Congruential Generator\")"
      ],
      "metadata": {
        "id": "M-tezDoFbuFF"
      }
    },
    {
      "cell_type": "code",
      "source": [
        "# liczba współczynników musi być równa k, czyli liczbie wartości początkowych x_i dla i=0,...,k-1\n",
        "# initials - lista k warunków początkowych\n",
        "# coeffs - współczynniki a_i dla i=0,...,k-1\n",
        "# M - wartość modulo\n",
        "# n - ilość liczb pseudolosowych, które otrzymamy\n",
        "\n",
        "def GLCG(initials, coeffs, M, n):\n",
        "    k = len(initials)\n",
        "    if len(coeffs) != k:\n",
        "        raise ValueError(\"The number of coefficients doesn't match the number of initial values.\")\n",
        "    lst = initials[:] # lista \"robocza\"\n",
        "    result = lst[:] # tutaj będą ostatecznie zwracane liczby\n",
        "    result = [i/M for i in result] # normalizacja\n",
        "    for i in range(n - k): # bo pierwsze k z n liczb już mamy na początku\n",
        "        x = sum(coeffs[j] * lst[-(j + 1)] for j in range(k)) % M\n",
        "        result.append(x/M) # normalizacja\n",
        "        lst.append(x)\n",
        "        lst.pop(0)  # potrzebujemy k ostatnich wartości do wyznaczania następnych x\n",
        "    return result\n",
        "\n",
        "start_time = time.time()\n",
        "test_glcg = GLCG([30, 40, 50], [3, 7, 68], 2**10, 2**15)\n",
        "end_time = time.time()\n",
        "\n",
        "execution_time = end_time - start_time\n",
        "print(f\"Czas wykonania: {execution_time:.6f} sekund\")\n",
        "#print(test_glcg)"
      ],
      "metadata": {
        "id": "R08Bvpv8dcEI",
        "colab": {
          "base_uri": "https://localhost:8080/"
        },
        "outputId": "7899490b-2e89-47b5-b431-30b719bb0459"
      },
      "execution_count": 2,
      "outputs": [
        {
          "output_type": "stream",
          "name": "stdout",
          "text": [
            "Czas wykonania: 0.293578 sekund\n"
          ]
        }
      ]
    },
    {
      "cell_type": "markdown",
      "source": [
        "### 1.3 RC4"
      ],
      "metadata": {
        "id": "_aCw5Mkjdcx8"
      }
    },
    {
      "cell_type": "code",
      "source": [
        "# K - \"klucz\" - liczby z przedziału {0,...,m-1}, w naszym przypadku m=32\n",
        "# n - ilość liczb pseudolosowych, które otrzymamy\n",
        "# S - permutacja zbioru m-elementowego\n",
        "# m - wartość modulo\n",
        "\n",
        "import matplotlib.pyplot as plt\n",
        "import random as rd\n",
        "import numpy as np\n",
        "\n",
        "def KSA(K, m=32):\n",
        "   S = list(range(m))\n",
        "   j = 0\n",
        "   for i in range(m):\n",
        "       j = (j + S[i] + K[i % len(K)]) % m\n",
        "       S[i], S[j] = S[j], S[i]\n",
        "   return S\n",
        "\n",
        "def PRGA(S, n, m=32):\n",
        "   i = 0\n",
        "   j = 0\n",
        "   result = []\n",
        "   for k in range(n):\n",
        "       i = (i + 1) % m\n",
        "       j = (j + S[i]) % m\n",
        "       S[i], S[j] = S[j], S[i]\n",
        "       Y = S[(S[i] + S[j]) % m]\n",
        "       result.append(Y/m) # normalizacja\n",
        "   return result\n",
        "\n",
        "def RC4(K, n, m=32):\n",
        "  s = KSA(K, m)\n",
        "  return PRGA(s, n, m)\n",
        "\n",
        "\n",
        "k1 = [x for x in range(100)]\n",
        "start_time = time.time()\n",
        "test_rc4 = RC4(k1, 2**15)\n",
        "end_time = time.time()\n",
        "\n",
        "execution_time = end_time - start_time\n",
        "print(f\"Czas wykonania: {execution_time:.6f} sekund\")\n",
        "#print(test_rc4)"
      ],
      "metadata": {
        "id": "_UQXb2S2XfNu",
        "colab": {
          "base_uri": "https://localhost:8080/"
        },
        "outputId": "cf4295c2-07ba-4be6-e0e5-a5ade3fa59e9"
      },
      "execution_count": 3,
      "outputs": [
        {
          "output_type": "stream",
          "name": "stdout",
          "text": [
            "Czas wykonania: 0.018843 sekund\n"
          ]
        }
      ]
    },
    {
      "cell_type": "markdown",
      "source": [
        "### 1.4 Xorshift"
      ],
      "metadata": {
        "id": "204lDu7eBEON"
      }
    },
    {
      "cell_type": "code",
      "source": [
        "# x0 - niezerowy warunek początkowy\n",
        "# a, b, c - parametry określające przesunięcia bitowe\n",
        "# n - ilość liczb pseudolosowych, które otrzymamy\n",
        "\n",
        "def xorshift(x0, n, a=21, b=35, c=4):\n",
        "    if x0 == 0:\n",
        "        raise ValueError(\"Initial value must not be zero.\")\n",
        "    x = x0\n",
        "    result = []\n",
        "    for i in range(n):\n",
        "        x ^= (x >> a)  # przesunięcie w prawo i operacja xor\n",
        "        x ^= (x << b)  # przesunięcie w lewo i operacja xor\n",
        "        x ^= (x >> c)  # przesunięcie w prawo i operacja xor\n",
        "        result.append(x & 0xFFFFFFFF)  # ograniczenie liczby x do zakresu 32-bitowego\n",
        "    result = [i/(2**32 - 1) for i in result] # normalizacja (dzielimy przez największą możliwą wartość wygenerowaną przez xorshift)\n",
        "    return result\n",
        "\n",
        "start_time = time.time()\n",
        "test_xorshift = xorshift(20, n=2**15)\n",
        "end_time = time.time()\n",
        "\n",
        "execution_time = end_time - start_time\n",
        "print(f\"Czas wykonania: {execution_time:.6f} sekund\")\n",
        "#print(test_xorshift)"
      ],
      "metadata": {
        "id": "37QnKrBVBKSM",
        "colab": {
          "base_uri": "https://localhost:8080/"
        },
        "outputId": "bcdd30fc-c7b5-49c5-b976-1074a9de6203"
      },
      "execution_count": 4,
      "outputs": [
        {
          "output_type": "stream",
          "name": "stdout",
          "text": [
            "Czas wykonania: 4.792888 sekund\n"
          ]
        }
      ]
    },
    {
      "cell_type": "markdown",
      "source": [
        "# 2. Testy statystyczne"
      ],
      "metadata": {
        "id": "byfnFQPf21xm"
      }
    },
    {
      "cell_type": "markdown",
      "source": [
        "## 2.1 Test $\\chi^2$"
      ],
      "metadata": {
        "id": "PesCqpeGOImT"
      }
    },
    {
      "cell_type": "code",
      "source": [
        "from scipy.stats import chisquare\n",
        "\n",
        "# wyniki dla n = 2^15\n",
        "\n",
        "start_time = time.time()\n",
        "\n",
        "# LCG\n",
        "\n",
        "binss=20\n",
        "\n",
        "def p_val_test(p):\n",
        "  if p>=0.05:\n",
        "    print(\"Hipoteza zerowa nieodrzucona.\")\n",
        "  else:\n",
        "    print(\"Hipoteza zerowa odrzucona.\")\n",
        "\n",
        "obs1, edges = np.histogram(test_lcg, bins=binss)\n",
        "expt1 = np.full(binss, len(test_lcg) / binss)\n",
        "st1, p1 = chisquare(f_obs=obs1, f_exp=expt1)\n",
        "print(\"Statystyka chi-kwadrat dla LCG:\", st1)\n",
        "print(\"P-wartość dla LCG:\", p1)\n",
        "print(p_val_test(p1))\n",
        "\n",
        "# GLCG\n",
        "\n",
        "obs2, edges = np.histogram(test_glcg, bins=binss)\n",
        "expt2 = np.full(binss, len(test_glcg) / binss)\n",
        "st2, p2 = chisquare(f_obs=obs2, f_exp=expt2)\n",
        "print(\"Statystyka chi-kwadrat dla GLCG:\", st2)\n",
        "print(\"P-wartość dla GLCG:\", p2)\n",
        "print(p_val_test(p2))\n",
        "\n",
        "# RC4\n",
        "\n",
        "obs3, edges = np.histogram(test_rc4, bins=binss)\n",
        "expt3 = np.full(binss, len(test_rc4) / binss)\n",
        "st3, p3 = chisquare(f_obs=obs3, f_exp=expt3)\n",
        "print(\"Statystyka chi-kwadrat dla RC4:\", st3)\n",
        "print(\"P-wartość dla RC4:\", p3)\n",
        "print(p_val_test(p3))\n",
        "\n",
        "# Xorshift\n",
        "\n",
        "obs4, edges = np.histogram(test_xorshift, bins=binss)\n",
        "expt4 = np.full(binss, len(test_xorshift) / binss)\n",
        "st4, p4 = chisquare(f_obs=obs4, f_exp=expt4)\n",
        "print(\"Statystyka chi-kwadrat dla Xorshift:\", st4)\n",
        "print(\"P-wartość dla Xorshift:\", p4)\n",
        "print(p_val_test(p4))\n",
        "\n",
        "end_time = time.time()\n",
        "\n",
        "execution_time = end_time - start_time\n",
        "print(f\"Czas wykonania: {execution_time:.6f} sekund\")\n"
      ],
      "metadata": {
        "colab": {
          "base_uri": "https://localhost:8080/"
        },
        "id": "MUSX9pXhRUMu",
        "outputId": "5a85183c-14d1-48a4-d3db-5947b5a172de"
      },
      "execution_count": 5,
      "outputs": [
        {
          "output_type": "stream",
          "name": "stdout",
          "text": [
            "Statystyka chi-kwadrat dla LCG: 17644.309570312504\n",
            "P-wartość dla LCG: 0.0\n",
            "Hipoteza zerowa odrzucona.\n",
            "None\n",
            "Statystyka chi-kwadrat dla GLCG: 5505.256835937498\n",
            "P-wartość dla GLCG: 0.0\n",
            "Hipoteza zerowa odrzucona.\n",
            "None\n",
            "Statystyka chi-kwadrat dla RC4: 3149.357177734375\n",
            "P-wartość dla RC4: 0.0\n",
            "Hipoteza zerowa odrzucona.\n",
            "None\n",
            "Statystyka chi-kwadrat dla Xorshift: 17.54443359375\n",
            "P-wartość dla Xorshift: 0.5530346658651297\n",
            "Hipoteza zerowa nieodrzucona.\n",
            "None\n",
            "Czas wykonania: 0.025707 sekund\n"
          ]
        }
      ]
    },
    {
      "cell_type": "code",
      "source": [
        "# wyniki dla n = 2^10\n",
        "\n",
        "start_time = time.time()\n",
        "\n",
        "test_lcg1=LCG(30, 1, 5, 13, 2**10)\n",
        "test_glcg1=GLCG([30, 40, 50], [3, 7, 68], 2**10, 2**10)\n",
        "test_rc4_1 = RC4(k1, 2**10)\n",
        "test_xorshift1 = xorshift(20, n=2**10)\n",
        "\n",
        "# LCG\n",
        "\n",
        "binss=20\n",
        "\n",
        "obs1, edges = np.histogram(test_lcg1, bins=binss)\n",
        "expt1 = np.full(binss, len(test_lcg1) / binss)\n",
        "st1, p1 = chisquare(f_obs=obs1, f_exp=expt1)\n",
        "print(\"Statystyka chi-kwadrat dla LCG:\", st1)\n",
        "print(\"P-wartość dla LCG:\", p1)\n",
        "print(p_val_test(p1))\n",
        "\n",
        "# GLCG\n",
        "\n",
        "obs2, edges = np.histogram(test_glcg1, bins=binss)\n",
        "expt2 = np.full(binss, len(test_glcg1) / binss)\n",
        "st2, p2 = chisquare(f_obs=obs2, f_exp=expt2)\n",
        "print(\"Statystyka chi-kwadrat dla GLCG:\", st2)\n",
        "print(\"P-wartość dla GLCG:\", p2)\n",
        "print(p_val_test(p2))\n",
        "\n",
        "# RC4\n",
        "\n",
        "obs3, edges = np.histogram(test_rc4_1, bins=binss)\n",
        "expt3 = np.full(binss, len(test_rc4_1) / binss)\n",
        "st3, p3 = chisquare(f_obs=obs3, f_exp=expt3)\n",
        "print(\"Statystyka chi-kwadrat dla RC4:\", st3)\n",
        "print(\"P-wartość dla RC4:\", p3)\n",
        "print(p_val_test(p3))\n",
        "\n",
        "# Xorshift\n",
        "\n",
        "obs4, edges = np.histogram(test_xorshift1, bins=binss)\n",
        "expt4 = np.full(binss, len(test_xorshift1) / binss)\n",
        "st4, p4 = chisquare(f_obs=obs4, f_exp=expt4)\n",
        "print(\"Statystyka chi-kwadrat dla Xorshift:\", st4)\n",
        "print(\"P-wartość dla Xorshift:\", p4)\n",
        "print(p_val_test(p4))\n",
        "\n",
        "end_time = time.time()\n",
        "\n",
        "execution_time = end_time - start_time\n",
        "print(f\"Czas wykonania: {execution_time:.6f} sekund\")\n"
      ],
      "metadata": {
        "colab": {
          "base_uri": "https://localhost:8080/"
        },
        "id": "sJFwtPONfEli",
        "outputId": "0566e907-641a-472c-d92f-07842add10b2"
      },
      "execution_count": 6,
      "outputs": [
        {
          "output_type": "stream",
          "name": "stdout",
          "text": [
            "Statystyka chi-kwadrat dla LCG: 551.4296875000001\n",
            "P-wartość dla LCG: 8.69783778595415e-105\n",
            "Hipoteza zerowa odrzucona.\n",
            "None\n",
            "Statystyka chi-kwadrat dla GLCG: 171.23437499999994\n",
            "P-wartość dla GLCG: 1.62888195715364e-26\n",
            "Hipoteza zerowa odrzucona.\n",
            "None\n",
            "Statystyka chi-kwadrat dla RC4: 122.2109375\n",
            "P-wartość dla RC4: 4.2763370025242595e-17\n",
            "Hipoteza zerowa odrzucona.\n",
            "None\n",
            "Statystyka chi-kwadrat dla Xorshift: 11.742187500000004\n",
            "P-wartość dla Xorshift: 0.8963475736552577\n",
            "Hipoteza zerowa nieodrzucona.\n",
            "None\n",
            "Czas wykonania: 0.031245 sekund\n"
          ]
        }
      ]
    },
    {
      "cell_type": "code",
      "source": [
        "# wyniki dla n = 2^20\n",
        "# z wyjątkiem Xorshift, bo dla większych rozmiarów n wykonuje się on bardzo wolno (dla 2^20 ponad 1h 20 min)\n",
        "\n",
        "start_time = time.time()\n",
        "\n",
        "test_lcg2=LCG(30, 1, 5, 13, 2**20)\n",
        "test_glcg2=GLCG([30, 40, 50], [3, 7, 68], 2**10, 2**20)\n",
        "test_rc4_2 = RC4(k1, 2**20)\n",
        "#test_xorshift2 = xorshift(20, n=2**20)\n",
        "\n",
        "# LCG\n",
        "\n",
        "binss=20\n",
        "\n",
        "obs1, edges = np.histogram(test_lcg2, bins=binss)\n",
        "expt1 = np.full(binss, len(test_lcg2) / binss)\n",
        "st1, p1 = chisquare(f_obs=obs1, f_exp=expt1)\n",
        "print(\"Statystyka chi-kwadrat dla LCG:\", st1)\n",
        "print(\"P-wartość dla LCG:\", p1)\n",
        "print(p_val_test(p1))\n",
        "\n",
        "# GLCG\n",
        "\n",
        "obs2, edges = np.histogram(test_glcg2, bins=binss)\n",
        "expt2 = np.full(binss, len(test_glcg2) / binss)\n",
        "st2, p2 = chisquare(f_obs=obs2, f_exp=expt2)\n",
        "print(\"Statystyka chi-kwadrat dla GLCG:\", st2)\n",
        "print(\"P-wartość dla GLCG:\", p2)\n",
        "print(p_val_test(p2))\n",
        "\n",
        "# RC4\n",
        "\n",
        "obs3, edges = np.histogram(test_rc4_2, bins=binss)\n",
        "expt3 = np.full(binss, len(test_rc4_2) / binss)\n",
        "st3, p3 = chisquare(f_obs=obs3, f_exp=expt3)\n",
        "print(\"Statystyka chi-kwadrat dla RC4:\", st3)\n",
        "print(\"P-wartość dla RC4:\", p3)\n",
        "print(p_val_test(p3))\n",
        "\n",
        "# Xorshift\n",
        "\n",
        "# obs4, edges = np.histogram(test_xorshift, bins=binss)\n",
        "# expt4 = np.full(binss, len(test_xorshift) / binss)\n",
        "# st4, p4 = chisquare(f_obs=obs4, f_exp=expt4)\n",
        "# print(\"Statystyka chi-kwadrat dla Xorshift:\", st4)\n",
        "# print(\"P-wartość dla Xorshift:\", p4)\n",
        "# print(p_val_test(p4))\n",
        "\n",
        "end_time = time.time()\n",
        "\n",
        "execution_time = end_time - start_time\n",
        "print(f\"Czas wykonania: {execution_time:.6f} sekund\")"
      ],
      "metadata": {
        "colab": {
          "base_uri": "https://localhost:8080/"
        },
        "id": "xy3RpuuvhJOx",
        "outputId": "8616bb17-4ec5-4f74-c941-944f96b366fd"
      },
      "execution_count": 7,
      "outputs": [
        {
          "output_type": "stream",
          "name": "stdout",
          "text": [
            "Statystyka chi-kwadrat dla LCG: 564617.8462066652\n",
            "P-wartość dla LCG: 0.0\n",
            "Hipoteza zerowa odrzucona.\n",
            "None\n",
            "Statystyka chi-kwadrat dla GLCG: 176239.7649993896\n",
            "P-wartość dla GLCG: 0.0\n",
            "Hipoteza zerowa odrzucona.\n",
            "None\n",
            "Statystyka chi-kwadrat dla RC4: 98795.03034973145\n",
            "P-wartość dla RC4: 0.0\n",
            "Hipoteza zerowa odrzucona.\n",
            "None\n",
            "Czas wykonania: 2.246122 sekund\n"
          ]
        }
      ]
    },
    {
      "cell_type": "markdown",
      "source": [
        "## 2.2 Test Kołmogorowa-Smirnowa"
      ],
      "metadata": {
        "id": "kqsQRqC8Tp9V"
      }
    },
    {
      "cell_type": "code",
      "source": [
        "from scipy.stats import ks_1samp, uniform\n",
        "\n",
        "# wyniki dla n = 2^15\n",
        "\n",
        "start_time = time.time()\n",
        "\n",
        "# LCG\n",
        "\n",
        "st1, p1 = ks_1samp(test_lcg, uniform.cdf)\n",
        "print(\"Statystyka Kołmogorowa-Smirnowa dla LCG:\", st1)\n",
        "print(\"P-wartość dla LCG:\", p1)\n",
        "print(p_val_test(p1))\n",
        "\n",
        "# GLCG\n",
        "\n",
        "st2, p2 = ks_1samp(test_glcg, uniform.cdf)\n",
        "print(\"Statystyka Kołmogorowa-Smirnowa dla GLCG:\", st2)\n",
        "print(\"P-wartość dla GLCG:\", p2)\n",
        "print(p_val_test(p2))\n",
        "\n",
        "# RC4\n",
        "#dziwne wyniki bo dystrybuanta schodkowa\n",
        "\n",
        "st3, p3 = ks_1samp(test_rc4, uniform.cdf)\n",
        "print(\"Statystyka Kołmogorowa-Smirnowa dla RC4:\", st3)\n",
        "print(\"P-wartość dla RC4:\", p3)\n",
        "print(p_val_test(p3))\n",
        "\n",
        "# Xorshift\n",
        "\n",
        "st4, p4 = ks_1samp(test_xorshift, uniform.cdf)\n",
        "print(\"Statystyka Kołmogorowa-Smirnowa dla Xorshift:\", st4)\n",
        "print(\"P-wartość dla Xorshift:\", p4)\n",
        "print(p_val_test(p4))\n",
        "\n",
        "end_time = time.time()\n",
        "\n",
        "execution_time = end_time - start_time\n",
        "print(f\"Czas wykonania: {execution_time:.6f} sekund\")"
      ],
      "metadata": {
        "colab": {
          "base_uri": "https://localhost:8080/"
        },
        "id": "iBD_-9V6b2Yq",
        "outputId": "821babda-d933-4c0e-dc20-9eb1b09e979d"
      },
      "execution_count": 8,
      "outputs": [
        {
          "output_type": "stream",
          "name": "stdout",
          "text": [
            "Statystyka Kołmogorowa-Smirnowa dla LCG: 0.07695124699519229\n",
            "P-wartość dla LCG: 3.313269529534475e-169\n",
            "Hipoteza zerowa odrzucona.\n",
            "None\n",
            "Statystyka Kołmogorowa-Smirnowa dla GLCG: 0.073516845703125\n",
            "P-wartość dla GLCG: 1.8473544790399517e-154\n",
            "Hipoteza zerowa odrzucona.\n",
            "None\n",
            "Statystyka Kołmogorowa-Smirnowa dla RC4: 0.033294677734375\n",
            "P-wartość dla RC4: 5.404678627545136e-32\n",
            "Hipoteza zerowa odrzucona.\n",
            "None\n",
            "Statystyka Kołmogorowa-Smirnowa dla Xorshift: 0.005506766648966599\n",
            "P-wartość dla Xorshift: 0.2724178392024802\n",
            "Hipoteza zerowa nieodrzucona.\n",
            "None\n",
            "Czas wykonania: 0.153689 sekund\n"
          ]
        }
      ]
    },
    {
      "cell_type": "code",
      "source": [
        "# wyniki dla n = 2^10\n",
        "\n",
        "start_time = time.time()\n",
        "\n",
        "# LCG\n",
        "\n",
        "st1, p1 = ks_1samp(test_lcg1, uniform.cdf)\n",
        "print(\"Statystyka Kołmogorowa-Smirnowa dla LCG:\", st1)\n",
        "print(\"P-wartość dla LCG:\", p1)\n",
        "print(p_val_test(p1))\n",
        "\n",
        "# GLCG\n",
        "\n",
        "st2, p2 = ks_1samp(test_glcg1, uniform.cdf)\n",
        "print(\"Statystyka Kołmogorowa-Smirnowa dla GLCG:\", st2)\n",
        "print(\"P-wartość dla GLCG:\", p2)\n",
        "print(p_val_test(p2))\n",
        "\n",
        "# RC4\n",
        "#dziwne wyniki bo dystrybuanta schodkowa\n",
        "\n",
        "st3, p3 = ks_1samp(test_rc4_1, uniform.cdf)\n",
        "print(\"Statystyka Kołmogorowa-Smirnowa dla RC4:\", st3)\n",
        "print(\"P-wartość dla RC4:\", p3)\n",
        "print(p_val_test(p3))\n",
        "\n",
        "# Xorshift\n",
        "\n",
        "st4, p4 = ks_1samp(test_xorshift1, uniform.cdf)\n",
        "print(\"Statystyka Kołmogorowa-Smirnowa dla Xorshift:\", st4)\n",
        "print(\"P-wartość dla Xorshift:\", p4)\n",
        "print(p_val_test(p4))\n",
        "\n",
        "end_time = time.time()\n",
        "\n",
        "execution_time = end_time - start_time\n",
        "print(f\"Czas wykonania: {execution_time:.6f} sekund\")"
      ],
      "metadata": {
        "colab": {
          "base_uri": "https://localhost:8080/"
        },
        "id": "WCmwxXuItT9e",
        "outputId": "9aa1662e-526b-4f5f-f9eb-8b8c24b4fff2"
      },
      "execution_count": 9,
      "outputs": [
        {
          "output_type": "stream",
          "name": "stdout",
          "text": [
            "Statystyka Kołmogorowa-Smirnowa dla LCG: 0.07767427884615385\n",
            "P-wartość dla LCG: 8.058011247917728e-06\n",
            "Hipoteza zerowa odrzucona.\n",
            "None\n",
            "Statystyka Kołmogorowa-Smirnowa dla GLCG: 0.0712890625\n",
            "P-wartość dla GLCG: 5.7016213355827625e-05\n",
            "Hipoteza zerowa odrzucona.\n",
            "None\n",
            "Statystyka Kołmogorowa-Smirnowa dla RC4: 0.044921875\n",
            "P-wartość dla RC4: 0.031098686325928604\n",
            "Hipoteza zerowa odrzucona.\n",
            "None\n",
            "Statystyka Kołmogorowa-Smirnowa dla Xorshift: 0.02057039097327651\n",
            "P-wartość dla Xorshift: 0.7710172549602066\n",
            "Hipoteza zerowa nieodrzucona.\n",
            "None\n",
            "Czas wykonania: 0.020023 sekund\n"
          ]
        }
      ]
    },
    {
      "cell_type": "code",
      "source": [
        "# wyniki dla n = 2^20\n",
        "# z wyjątkiem Xorshift\n",
        "\n",
        "start_time = time.time()\n",
        "\n",
        "# LCG\n",
        "\n",
        "st1, p1 = ks_1samp(test_lcg2, uniform.cdf)\n",
        "print(\"Statystyka Kołmogorowa-Smirnowa dla LCG:\", st1)\n",
        "print(\"P-wartość dla LCG:\", p1)\n",
        "print(p_val_test(p1))\n",
        "\n",
        "# GLCG\n",
        "\n",
        "st2, p2 = ks_1samp(test_glcg2, uniform.cdf)\n",
        "print(\"Statystyka Kołmogorowa-Smirnowa dla GLCG:\", st2)\n",
        "print(\"P-wartość dla GLCG:\", p2)\n",
        "print(p_val_test(p2))\n",
        "\n",
        "# RC4\n",
        "#dziwne wyniki bo dystrybuanta schodkowa\n",
        "\n",
        "st3, p3 = ks_1samp(test_rc4_2, uniform.cdf)\n",
        "print(\"Statystyka Kołmogorowa-Smirnowa dla RC4:\", st3)\n",
        "print(\"P-wartość dla RC4:\", p3)\n",
        "print(p_val_test(p3))\n",
        "\n",
        "# Xorshift\n",
        "\n",
        "# st4, p4 = ks_1samp(test_xorshift, uniform.cdf)\n",
        "# print(\"Statystyka Kołmogorowa-Smirnowa dla Xorshift:\", st4)\n",
        "# print(\"P-wartość dla Xorshift:\", p4)\n",
        "# print(p_val_test(p4))\n",
        "\n",
        "end_time = time.time()\n",
        "\n",
        "execution_time = end_time - start_time\n",
        "print(f\"Czas wykonania: {execution_time:.6f} sekund\")"
      ],
      "metadata": {
        "colab": {
          "base_uri": "https://localhost:8080/"
        },
        "id": "mK4XDxh9t8Z_",
        "outputId": "b2fd08a8-313e-49e5-a5d7-7b04a0d1cf92"
      },
      "execution_count": 10,
      "outputs": [
        {
          "output_type": "stream",
          "name": "stdout",
          "text": [
            "Statystyka Kołmogorowa-Smirnowa dla LCG: 0.0769241773165189\n",
            "P-wartość dla LCG: 0.0\n",
            "Hipoteza zerowa odrzucona.\n",
            "None\n",
            "Statystyka Kołmogorowa-Smirnowa dla GLCG: 0.07356548309326172\n",
            "P-wartość dla GLCG: 0.0\n",
            "Hipoteza zerowa odrzucona.\n",
            "None\n",
            "Statystyka Kołmogorowa-Smirnowa dla RC4: 0.03149986267089844\n",
            "P-wartość dla RC4: 0.0\n",
            "Hipoteza zerowa odrzucona.\n",
            "None\n",
            "Czas wykonania: 0.673624 sekund\n"
          ]
        }
      ]
    },
    {
      "cell_type": "markdown",
      "source": [
        "## 2.3 Test serii"
      ],
      "metadata": {
        "id": "bj_22rTajY3x"
      }
    },
    {
      "cell_type": "code",
      "source": [
        "import numpy as np\n",
        "from scipy.stats import norm\n",
        "\n",
        "def runs_test(data):\n",
        "    median = np.median(data)\n",
        "    binary = [1 if i >= median else 0 for i in data]  # zamiana danych na ciąg binarny (według mediany)\n",
        "    x = np.sum(binary)  # Liczba 1 (liczenie elementów)\n",
        "    y = len(binary) - x  # Liczba 0\n",
        "    n = x + y\n",
        "    if x == 0 or y == 0:\n",
        "        raise ValueError(\"Not enough diversity of data. We cannot perform this test.\")\n",
        "    runs = 1  # liczba serii\n",
        "    for i in range(1, len(binary)):\n",
        "        if binary[i] != binary[i - 1]:\n",
        "            runs += 1\n",
        "    expected = (2 * x * y) / n + 1  # wartość oczekiwana liczby serii\n",
        "    sigma = np.sqrt((2 * x * y * (2 * x * y - n)) / (n**2 * (n - 1)))  # odchylenie standardowe\n",
        "    z = (runs - expected) / sigma\n",
        "    p_value = 2 * (1 - norm.cdf(abs(z)))\n",
        "    return {\n",
        "        \"Statystyka Z\": z,\n",
        "        \"P-wartość\": p_value,\n",
        "        \"Liczba serii\": runs,\n",
        "        \"Mediana\": median\n",
        "    }"
      ],
      "metadata": {
        "id": "nV65ACZNjbnN"
      },
      "execution_count": 11,
      "outputs": []
    },
    {
      "cell_type": "code",
      "source": [
        "# wyniki dla n = 2^15\n",
        "\n",
        "start_time = time.time()\n",
        "\n",
        "# LCG\n",
        "\n",
        "lcg_data = runs_test(test_lcg)\n",
        "print(\"Statystyka testu serii dla LCG:\", lcg_data[\"Statystyka Z\"])\n",
        "print(\"P-wartość dla LCG:\", lcg_data[\"P-wartość\"])\n",
        "print(p_val_test(lcg_data[\"P-wartość\"]))\n",
        "\n",
        "# GLCG\n",
        "\n",
        "glcg_data = runs_test(test_glcg)\n",
        "print(\"Statystyka testu serii dla GLCG:\", glcg_data[\"Statystyka Z\"])\n",
        "print(\"P-wartość dla GLCG:\", glcg_data[\"P-wartość\"])\n",
        "print(p_val_test(glcg_data[\"P-wartość\"]))\n",
        "\n",
        "# RC4\n",
        "\n",
        "rc4_data = runs_test(test_rc4)\n",
        "print(\"Statystyka testu serii dla RC4:\", rc4_data[\"Statystyka Z\"])\n",
        "print(\"P-wartość dla RC4:\", rc4_data[\"P-wartość\"])\n",
        "print(p_val_test(rc4_data[\"P-wartość\"]))\n",
        "\n",
        "# Xorshift\n",
        "\n",
        "xorshift_data = runs_test(test_xorshift)\n",
        "print(\"Statystyka testu serii dla Xorshift:\", xorshift_data[\"Statystyka Z\"])\n",
        "print(\"P-wartość dla Xorshift:\", xorshift_data[\"P-wartość\"])\n",
        "print(p_val_test(xorshift_data[\"P-wartość\"]))\n",
        "\n",
        "end_time = time.time()\n",
        "\n",
        "execution_time = end_time - start_time\n",
        "print(f\"Czas wykonania: {execution_time:.6f} sekund\")"
      ],
      "metadata": {
        "colab": {
          "base_uri": "https://localhost:8080/"
        },
        "id": "JGIA_IDR6FXe",
        "outputId": "591e53c9-c3e9-4968-8547-986a81d2e107"
      },
      "execution_count": 12,
      "outputs": [
        {
          "output_type": "stream",
          "name": "stdout",
          "text": [
            "Statystyka testu serii dla LCG: 99.12864298977301\n",
            "P-wartość dla LCG: 0.0\n",
            "Hipoteza zerowa odrzucona.\n",
            "None\n",
            "Statystyka testu serii dla GLCG: -7.502074837193712\n",
            "P-wartość dla GLCG: 6.283862319378386e-14\n",
            "Hipoteza zerowa odrzucona.\n",
            "None\n",
            "Statystyka testu serii dla RC4: 1.1924843866469046\n",
            "P-wartość dla RC4: 0.23307136924221683\n",
            "Hipoteza zerowa nieodrzucona.\n",
            "None\n",
            "Statystyka testu serii dla Xorshift: 0.7955072677755272\n",
            "P-wartość dla Xorshift: 0.42631848500068603\n",
            "Hipoteza zerowa nieodrzucona.\n",
            "None\n",
            "Czas wykonania: 0.061090 sekund\n"
          ]
        }
      ]
    },
    {
      "cell_type": "code",
      "source": [
        "# wyniki dla n = 2^10\n",
        "\n",
        "start_time = time.time()\n",
        "\n",
        "# LCG\n",
        "\n",
        "lcg_data = runs_test(test_lcg1)\n",
        "print(\"Statystyka testu serii dla LCG:\", lcg_data[\"Statystyka Z\"])\n",
        "print(\"P-wartość dla LCG:\", lcg_data[\"P-wartość\"])\n",
        "print(p_val_test(lcg_data[\"P-wartość\"]))\n",
        "\n",
        "# GLCG\n",
        "\n",
        "glcg_data = runs_test(test_glcg1)\n",
        "print(\"Statystyka testu serii dla GLCG:\", glcg_data[\"Statystyka Z\"])\n",
        "print(\"P-wartość dla GLCG:\", glcg_data[\"P-wartość\"])\n",
        "print(p_val_test(glcg_data[\"P-wartość\"]))\n",
        "\n",
        "# RC4\n",
        "\n",
        "rc4_data = runs_test(test_rc4_1)\n",
        "print(\"Statystyka testu serii dla RC4:\", rc4_data[\"Statystyka Z\"])\n",
        "print(\"P-wartość dla RC4:\", rc4_data[\"P-wartość\"])\n",
        "print(p_val_test(rc4_data[\"P-wartość\"]))\n",
        "\n",
        "# Xorshift\n",
        "\n",
        "xorshift_data = runs_test(test_xorshift1)\n",
        "print(\"Statystyka testu serii dla Xorshift:\", xorshift_data[\"Statystyka Z\"])\n",
        "print(\"P-wartość dla Xorshift:\", xorshift_data[\"P-wartość\"])\n",
        "print(p_val_test(xorshift_data[\"P-wartość\"]))\n",
        "\n",
        "end_time = time.time()\n",
        "\n",
        "execution_time = end_time - start_time\n",
        "print(f\"Czas wykonania: {execution_time:.6f} sekund\")"
      ],
      "metadata": {
        "colab": {
          "base_uri": "https://localhost:8080/"
        },
        "id": "b-HzXADZur3E",
        "outputId": "deca25ce-9cac-44b5-a05d-33beb2815999"
      },
      "execution_count": 13,
      "outputs": [
        {
          "output_type": "stream",
          "name": "stdout",
          "text": [
            "Statystyka testu serii dla LCG: 17.48320598046148\n",
            "P-wartość dla LCG: 0.0\n",
            "Hipoteza zerowa odrzucona.\n",
            "None\n",
            "Statystyka testu serii dla GLCG: -1.4380864671490048\n",
            "P-wartość dla GLCG: 0.15040952188240908\n",
            "Hipoteza zerowa nieodrzucona.\n",
            "None\n",
            "Statystyka testu serii dla RC4: -0.7484584845520809\n",
            "P-wartość dla RC4: 0.45418365728769405\n",
            "Hipoteza zerowa nieodrzucona.\n",
            "None\n",
            "Statystyka testu serii dla Xorshift: 0.43771398876310097\n",
            "P-wartość dla Xorshift: 0.6615936276613448\n",
            "Hipoteza zerowa nieodrzucona.\n",
            "None\n",
            "Czas wykonania: 0.028450 sekund\n"
          ]
        }
      ]
    },
    {
      "cell_type": "code",
      "source": [
        "# wyniki dla n = 2^20\n",
        "\n",
        "start_time = time.time()\n",
        "\n",
        "# LCG\n",
        "\n",
        "lcg_data = runs_test(test_lcg2)\n",
        "print(\"Statystyka testu serii dla LCG:\", lcg_data[\"Statystyka Z\"])\n",
        "print(\"P-wartość dla LCG:\", lcg_data[\"P-wartość\"])\n",
        "print(p_val_test(lcg_data[\"P-wartość\"]))\n",
        "\n",
        "# GLCG\n",
        "\n",
        "glcg_data = runs_test(test_glcg2)\n",
        "print(\"Statystyka testu serii dla GLCG:\", glcg_data[\"Statystyka Z\"])\n",
        "print(\"P-wartość dla GLCG:\", glcg_data[\"P-wartość\"])\n",
        "print(p_val_test(glcg_data[\"P-wartość\"]))\n",
        "\n",
        "# RC4\n",
        "\n",
        "rc4_data = runs_test(test_rc4_2)\n",
        "print(\"Statystyka testu serii dla RC4:\", rc4_data[\"Statystyka Z\"])\n",
        "print(\"P-wartość dla RC4:\", rc4_data[\"P-wartość\"])\n",
        "print(p_val_test(rc4_data[\"P-wartość\"]))\n",
        "\n",
        "# Xorshift\n",
        "\n",
        "# xorshift_data = runs_test(test_xorshift)\n",
        "# print(\"Statystyka testu serii dla Xorshift:\", xorshift_data[\"Statystyka Z\"])\n",
        "# print(\"P-wartość dla Xorshift:\", xorshift_data[\"P-wartość\"])\n",
        "# print(p_val_test(xorshift_data[\"P-wartość\"]))\n",
        "\n",
        "end_time = time.time()\n",
        "\n",
        "execution_time = end_time - start_time\n",
        "print(f\"Czas wykonania: {execution_time:.6f} sekund\")"
      ],
      "metadata": {
        "colab": {
          "base_uri": "https://localhost:8080/"
        },
        "id": "_EpOZkJbuzB1",
        "outputId": "8f598077-09f6-4931-b092-dfdb986e88c4"
      },
      "execution_count": 14,
      "outputs": [
        {
          "output_type": "stream",
          "name": "stderr",
          "text": [
            "<ipython-input-11-1137840c573d>:17: RuntimeWarning: overflow encountered in scalar multiply\n",
            "  sigma = np.sqrt((2 * x * y * (2 * x * y - n)) / (n**2 * (n - 1)))  # odchylenie standardowe\n",
            "<ipython-input-11-1137840c573d>:17: RuntimeWarning: invalid value encountered in sqrt\n",
            "  sigma = np.sqrt((2 * x * y * (2 * x * y - n)) / (n**2 * (n - 1)))  # odchylenie standardowe\n"
          ]
        },
        {
          "output_type": "stream",
          "name": "stdout",
          "text": [
            "Statystyka testu serii dla LCG: nan\n",
            "P-wartość dla LCG: nan\n",
            "Hipoteza zerowa odrzucona.\n",
            "None\n",
            "Statystyka testu serii dla GLCG: nan\n",
            "P-wartość dla GLCG: nan\n",
            "Hipoteza zerowa odrzucona.\n",
            "None\n",
            "Statystyka testu serii dla RC4: nan\n",
            "P-wartość dla RC4: nan\n",
            "Hipoteza zerowa odrzucona.\n",
            "None\n",
            "Czas wykonania: 1.149243 sekund\n"
          ]
        }
      ]
    },
    {
      "cell_type": "markdown",
      "source": [
        "# 3. Second-level testing"
      ],
      "metadata": {
        "id": "xmMY5wwqIUP6"
      }
    },
    {
      "cell_type": "code",
      "source": [
        "import matplotlib.pyplot as plt\n",
        "import time\n",
        "\n",
        "#wnioski: czy przechodzą testy 1 i 2 rodzaju\n",
        "\n",
        "start_time = time.time()\n",
        "\n",
        "sec_test_lcg = LCG(30, 1, 5, 13, 1000*2**15)\n",
        "\n",
        "end_time = time.time()\n",
        "\n",
        "execution_time = end_time - start_time\n",
        "print(f\"Czas wykonania: {execution_time:.6f} sekund\")"
      ],
      "metadata": {
        "id": "5s2mMDuGQI01",
        "colab": {
          "base_uri": "https://localhost:8080/"
        },
        "outputId": "33fe0b11-8ffa-40be-892e-2f776f63320a"
      },
      "execution_count": 15,
      "outputs": [
        {
          "output_type": "stream",
          "name": "stdout",
          "text": [
            "Czas wykonania: 8.785014 sekund\n"
          ]
        }
      ]
    },
    {
      "cell_type": "code",
      "source": [
        "start_time = time.time()\n",
        "\n",
        "sec_test_glcg = GLCG([30, 40, 50], [3, 7, 68], 2**10, 1000*2**15)\n",
        "\n",
        "end_time = time.time()\n",
        "\n",
        "execution_time = end_time - start_time\n",
        "print(f\"Czas wykonania: {execution_time:.6f} sekund\")"
      ],
      "metadata": {
        "id": "JPSmkGj5dqen",
        "outputId": "21c63ab7-dee8-4f66-866b-7038b793c319",
        "colab": {
          "base_uri": "https://localhost:8080/"
        }
      },
      "execution_count": 16,
      "outputs": [
        {
          "output_type": "stream",
          "name": "stdout",
          "text": [
            "Czas wykonania: 46.774329 sekund\n"
          ]
        }
      ]
    },
    {
      "cell_type": "code",
      "source": [
        "start_time = time.time()\n",
        "\n",
        "sec_test_rc4 = RC4(k1, 1000*2**15)\n",
        "\n",
        "end_time = time.time()\n",
        "\n",
        "execution_time = end_time - start_time\n",
        "print(f\"Czas wykonania: {execution_time:.6f} sekund\")"
      ],
      "metadata": {
        "id": "tx7cKXeNeJe9",
        "outputId": "4962311e-75f2-48f1-b3b4-80d46f2e6952",
        "colab": {
          "base_uri": "https://localhost:8080/"
        }
      },
      "execution_count": 17,
      "outputs": [
        {
          "output_type": "stream",
          "name": "stdout",
          "text": [
            "Czas wykonania: 15.316153 sekund\n"
          ]
        }
      ]
    },
    {
      "cell_type": "code",
      "source": [
        "start_time = time.time()\n",
        "\n",
        "sec_test_xorshift = xorshift(20, n=2**18)\n",
        "\n",
        "end_time = time.time()\n",
        "\n",
        "execution_time = end_time - start_time\n",
        "print(f\"Czas wykonania: {execution_time:.6f} sekund\")"
      ],
      "metadata": {
        "id": "X5qNK__rZoJV",
        "outputId": "e4a6b4a2-493b-4c32-9c1b-9435258c6bf4",
        "colab": {
          "base_uri": "https://localhost:8080/"
        }
      },
      "execution_count": 18,
      "outputs": [
        {
          "output_type": "stream",
          "name": "stdout",
          "text": [
            "Czas wykonania: 371.001823 sekund\n"
          ]
        }
      ]
    },
    {
      "cell_type": "markdown",
      "source": [
        "## 3.1 Test $\\chi^2$"
      ],
      "metadata": {
        "id": "A6EI6MgXNP0O"
      }
    },
    {
      "cell_type": "code",
      "source": [
        "start_time = time.time()\n",
        "\n",
        "def second_level_testing_chi_square(data, sequence_length):\n",
        "    seq_num = len(data) // sequence_length  # ilość podciągów podanej długości\n",
        "    p_values = []\n",
        "    for i in range(seq_num):\n",
        "        seq = data[i * sequence_length : (i + 1) * sequence_length]  # tworzenie podciągów\n",
        "        try:\n",
        "            obs, edges = np.histogram(seq, bins = 30)\n",
        "            expt = np.full(30, len(seq) / 30)\n",
        "            p_value = chisquare(f_obs=obs, f_exp=expt)[1]  # przeprowadzanie testu\n",
        "            p_values.append(p_value)\n",
        "        except ValueError:\n",
        "            p_values.append(None)\n",
        "    return p_values\n",
        "\n",
        "\n",
        "def sec_level_test_p_val(p_values):\n",
        "  p_values_results = 0\n",
        "  for p in p_values:\n",
        "        if p < 0.05:\n",
        "          p_values_results += 1\n",
        "  print(f\"Hipotezę odrzucono {p_values_results} razy. Hipotezy nie odrzucono {len(p_values) - p_values_results} razy.\")\n",
        "\n",
        "\n",
        "length1 = 2**15\n",
        "length2 = 2**10\n",
        "p_values1_lcg = second_level_testing_chi_square(sec_test_lcg, length1)\n",
        "p_values1_glcg = second_level_testing_chi_square(sec_test_glcg, length1)\n",
        "p_values1_rc4 = second_level_testing_chi_square(sec_test_rc4, length1)\n",
        "p_values1_xorshift = second_level_testing_chi_square(sec_test_xorshift, length2)\n",
        "\n",
        "print(\"LCG:\")\n",
        "print(sec_level_test_p_val(p_values1_lcg))\n",
        "print(\"GLCG:\")\n",
        "print(sec_level_test_p_val(p_values1_glcg))\n",
        "print(\"RC4:\")\n",
        "print(sec_level_test_p_val(p_values1_rc4))\n",
        "print(\"Xorshift:\")\n",
        "print(sec_level_test_p_val(p_values1_xorshift))\n",
        "\n",
        "plt.subplot(2, 2, 1)\n",
        "plt.hist(p_values1_lcg)\n",
        "plt.title(\"P-wartości dla LCG\")\n",
        "\n",
        "plt.subplot(2, 2, 2)\n",
        "plt.hist(p_values1_glcg)\n",
        "plt.title(\"P-wartości dla GLCG\")\n",
        "\n",
        "plt.subplot(2, 2, 3)\n",
        "plt.hist(p_values1_rc4)\n",
        "plt.title(\"P-wartości dla RC4\")\n",
        "\n",
        "plt.subplot(2, 2, 4)\n",
        "plt.hist(p_values1_xorshift)\n",
        "plt.title(\"P-wartości dla Xorshift\")\n",
        "\n",
        "plt.tight_layout()\n",
        "\n",
        "end_time = time.time()\n",
        "\n",
        "execution_time = end_time - start_time\n",
        "print(f\"Czas wykonania: {execution_time:.6f} sekund\")"
      ],
      "metadata": {
        "id": "xIBKt5XFNXAs",
        "outputId": "1e697b18-ff30-4d32-cb2f-be4a54dfa378",
        "colab": {
          "base_uri": "https://localhost:8080/",
          "height": 712
        }
      },
      "execution_count": 43,
      "outputs": [
        {
          "output_type": "stream",
          "name": "stdout",
          "text": [
            "LCG:\n",
            "Hipotezę odrzucono 1000 razy. Hipotezy nie odrzucono 0 razy.\n",
            "None\n",
            "GLCG:\n",
            "Hipotezę odrzucono 1000 razy. Hipotezy nie odrzucono 0 razy.\n",
            "None\n",
            "RC4:\n",
            "Hipotezę odrzucono 1000 razy. Hipotezy nie odrzucono 0 razy.\n",
            "None\n",
            "Xorshift:\n",
            "Hipotezę odrzucono 10 razy. Hipotezy nie odrzucono 246 razy.\n",
            "None\n",
            "Czas wykonania: 11.667616 sekund\n"
          ]
        },
        {
          "output_type": "display_data",
          "data": {
            "text/plain": [
              "<Figure size 640x480 with 4 Axes>"
            ],
            "image/png": "[encoded data removed]"
          },
          "metadata": {}
        }
      ]
    },
    {
      "cell_type": "code",
      "source": [
        "start_time = time.time()\n",
        "\n",
        "binss=20\n",
        "\n",
        "obs1, edges = np.histogram(p_values1_lcg, bins=binss)\n",
        "expt1 = np.full(binss, len(p_values1_lcg) / binss)\n",
        "st1, p1 = chisquare(f_obs=obs1, f_exp=expt1)\n",
        "print(\"Statystyka chi-kwadrat dla p-wartości z LCG (second level testing, chi-kwadrat):\", st1)\n",
        "print(\"Ostateczna p-wartość dla LCG:\", p1)\n",
        "print(p_val_test(p1))\n",
        "\n",
        "obs2, edges = np.histogram(p_values1_glcg, bins=binss)\n",
        "expt2 = np.full(binss, len(p_values1_glcg) / binss)\n",
        "st2, p2 = chisquare(f_obs=obs2, f_exp=expt2)\n",
        "print(\"Statystyka chi-kwadrat dla p-wartości z GLCG (second level testing, chi-kwadrat):\", st2)\n",
        "print(\"Ostateczna p-wartość dla GLCG:\", p2)\n",
        "print(p_val_test(p2))\n",
        "\n",
        "obs3, edges = np.histogram(p_values1_rc4, bins=binss)\n",
        "expt3 = np.full(binss, len(p_values1_rc4) / binss)\n",
        "st3, p3 = chisquare(f_obs=obs3, f_exp=expt3)\n",
        "print(\"Statystyka chi-kwadrat dla p-wartości z RC4 (second level testing, chi-kwadrat):\", st3)\n",
        "print(\"Ostateczna p-wartość dla RC4:\", p3)\n",
        "print(p_val_test(p3))\n",
        "\n",
        "obs4, edges = np.histogram(p_values1_xorshift, bins=binss)\n",
        "expt4 = np.full(binss, len(p_values1_xorshift) / binss)\n",
        "st4, p4 = chisquare(f_obs=obs4, f_exp=expt4)\n",
        "print(\"Statystyka chi-kwadrat dla p-wartości z Xorshift (second level testing, chi-kwadrat):\", st4)\n",
        "print(\"Ostateczna p-wartość dla Xorshift:\", p4)\n",
        "print(p_val_test(p4))\n",
        "\n",
        "end_time = time.time()\n",
        "\n",
        "execution_time = end_time - start_time\n",
        "print(f\"Czas wykonania: {execution_time:.6f} sekund\")"
      ],
      "metadata": {
        "id": "zcMU9t0bF4Dm",
        "outputId": "6cdb4bc1-4d30-465f-da81-dc3ec2190605",
        "colab": {
          "base_uri": "https://localhost:8080/"
        }
      },
      "execution_count": 58,
      "outputs": [
        {
          "output_type": "stream",
          "name": "stdout",
          "text": [
            "Statystyka chi-kwadrat dla p-wartości z LCG (second level testing, chi-kwadrat): 19000.0\n",
            "Ostateczna p-wartość dla LCG: 0.0\n",
            "Hipoteza zerowa odrzucona.\n",
            "None\n",
            "Statystyka chi-kwadrat dla p-wartości z GLCG (second level testing, chi-kwadrat): 19000.0\n",
            "Ostateczna p-wartość dla GLCG: 0.0\n",
            "Hipoteza zerowa odrzucona.\n",
            "None\n",
            "Statystyka chi-kwadrat dla p-wartości z RC4 (second level testing, chi-kwadrat): 18960.04\n",
            "Ostateczna p-wartość dla RC4: 0.0\n",
            "Hipoteza zerowa odrzucona.\n",
            "None\n",
            "Statystyka chi-kwadrat dla p-wartości z Xorshift (second level testing, chi-kwadrat): 22.125000000000004\n",
            "Ostateczna p-wartość dla Xorshift: 0.2780794382312041\n",
            "Hipoteza zerowa nieodrzucona.\n",
            "None\n",
            "Czas wykonania: 0.021749 sekund\n"
          ]
        }
      ]
    },
    {
      "cell_type": "markdown",
      "source": [
        "## 3.2 Test Kołmogorowa-Smirnowa"
      ],
      "metadata": {
        "id": "PrQSFpd9NXdN"
      }
    },
    {
      "cell_type": "code",
      "source": [
        "start_time = time.time()\n",
        "\n",
        "def second_level_testing_ks(data, sequence_length):\n",
        "    seq_num = len(data) // sequence_length  # ilość podciągów podanej długości\n",
        "    p_values = []\n",
        "    for i in range(seq_num):\n",
        "        seq = data[i * sequence_length : (i + 1) * sequence_length]  # tworzenie podciągów\n",
        "        try:\n",
        "            p_value = ks_1samp(seq, uniform.cdf)[1]  # przeprowadzanie testu\n",
        "            p_values.append(p_value)\n",
        "        except ValueError:\n",
        "            p_values.append(None)\n",
        "    return p_values\n",
        "\n",
        "\n",
        "\n",
        "length1 = 2**15\n",
        "length2 = 2**10\n",
        "p_values2_lcg = second_level_testing_ks(sec_test_lcg, length1)\n",
        "p_values2_glcg = second_level_testing_ks(sec_test_glcg, length1)\n",
        "p_values2_rc4 = second_level_testing_ks(sec_test_rc4, length1)\n",
        "p_values2_xorshift = second_level_testing_ks(sec_test_xorshift, length2)\n",
        "\n",
        "print(\"LCG:\")\n",
        "print(sec_level_test_p_val(p_values2_lcg))\n",
        "print(\"GLCG:\")\n",
        "print(sec_level_test_p_val(p_values2_glcg))\n",
        "print(\"RC4:\")\n",
        "print(sec_level_test_p_val(p_values2_rc4))\n",
        "print(\"Xorshift:\")\n",
        "print(sec_level_test_p_val(p_values2_xorshift))\n",
        "\n",
        "plt.subplot(2, 2, 1)\n",
        "plt.hist(p_values2_lcg)\n",
        "plt.title(\"P-wartości dla LCG\")\n",
        "\n",
        "plt.subplot(2, 2, 2)\n",
        "plt.hist(p_values2_glcg)\n",
        "plt.title(\"P-wartości dla GLCG\")\n",
        "\n",
        "plt.subplot(2, 2, 3)\n",
        "plt.hist(p_values2_rc4)\n",
        "plt.title(\"P-wartości dla RC4\")\n",
        "\n",
        "plt.subplot(2, 2, 4)\n",
        "plt.hist(p_values2_xorshift)\n",
        "plt.title(\"P-wartości dla Xorshift\")\n",
        "\n",
        "plt.tight_layout()\n",
        "\n",
        "end_time = time.time()\n",
        "\n",
        "execution_time = end_time - start_time\n",
        "print(f\"Czas wykonania: {execution_time:.6f} sekund\")"
      ],
      "metadata": {
        "id": "wXzBeyPYNbY1",
        "outputId": "7c8f7144-178b-44e3-d266-0bfd8d99b400",
        "colab": {
          "base_uri": "https://localhost:8080/",
          "height": 712
        }
      },
      "execution_count": 45,
      "outputs": [
        {
          "output_type": "stream",
          "name": "stdout",
          "text": [
            "LCG:\n",
            "Hipotezę odrzucono 1000 razy. Hipotezy nie odrzucono 0 razy.\n",
            "None\n",
            "GLCG:\n",
            "Hipotezę odrzucono 1000 razy. Hipotezy nie odrzucono 0 razy.\n",
            "None\n",
            "RC4:\n",
            "Hipotezę odrzucono 1000 razy. Hipotezy nie odrzucono 0 razy.\n",
            "None\n",
            "Xorshift:\n",
            "Hipotezę odrzucono 8 razy. Hipotezy nie odrzucono 248 razy.\n",
            "None\n",
            "Czas wykonania: 138.022516 sekund\n"
          ]
        },
        {
          "output_type": "display_data",
          "data": {
            "text/plain": [
              "<Figure size 640x480 with 4 Axes>"
            ],
            "image/png": "[encoded data removed]"
          },
          "metadata": {}
        }
      ]
    },
    {
      "cell_type": "code",
      "source": [
        "start_time = time.time()\n",
        "\n",
        "binss=20\n",
        "\n",
        "obs1, edges = np.histogram(p_values2_lcg, bins=binss)\n",
        "expt1 = np.full(binss, len(p_values2_lcg) / binss)\n",
        "st1, p1 = chisquare(f_obs=obs1, f_exp=expt1)\n",
        "print(\"Statystyka chi-kwadrat dla p-wartości z LCG (second level testing, Kołmogorow-Smirnow):\", st1)\n",
        "print(\"Ostateczna p-wartość dla LCG:\", p1)\n",
        "print(p_val_test(p1))\n",
        "\n",
        "obs2, edges = np.histogram(p_values2_glcg, bins=binss)\n",
        "expt2 = np.full(binss, len(p_values2_glcg) / binss)\n",
        "st2, p2 = chisquare(f_obs=obs2, f_exp=expt2)\n",
        "print(\"Statystyka chi-kwadrat dla p-wartości z GLCG (second level testing, Kołmogorow-Smirnow):\", st2)\n",
        "print(\"Ostateczna p-wartość dla GLCG:\", p2)\n",
        "print(p_val_test(p2))\n",
        "\n",
        "obs3, edges = np.histogram(p_values2_rc4, bins=binss)\n",
        "expt3 = np.full(binss, len(p_values2_rc4) / binss)\n",
        "st3, p3 = chisquare(f_obs=obs3, f_exp=expt3)\n",
        "print(\"Statystyka chi-kwadrat dla p-wartości z RC4 (second level testing, Kołmogorow-Smirnow):\", st3)\n",
        "print(\"Ostateczna p-wartość dla RC4:\", p3)\n",
        "print(p_val_test(p3))\n",
        "\n",
        "obs4, edges = np.histogram(p_values2_xorshift, bins=binss)\n",
        "expt4 = np.full(binss, len(p_values2_xorshift) / binss)\n",
        "st4, p4 = chisquare(f_obs=obs4, f_exp=expt4)\n",
        "print(\"Statystyka chi-kwadrat dla p-wartości z Xorshift (second level testing, Kołmogorow-Smirnow):\", st4)\n",
        "print(\"Ostateczna p-wartość dla Xorshift:\", p4)\n",
        "print(p_val_test(p4))\n",
        "\n",
        "end_time = time.time()\n",
        "\n",
        "execution_time = end_time - start_time\n",
        "print(f\"Czas wykonania: {execution_time:.6f} sekund\")"
      ],
      "metadata": {
        "id": "qh_jXTjqJCRl",
        "outputId": "46ab2ee0-4c32-457e-a007-266cf3035d38",
        "colab": {
          "base_uri": "https://localhost:8080/"
        }
      },
      "execution_count": 59,
      "outputs": [
        {
          "output_type": "stream",
          "name": "stdout",
          "text": [
            "Statystyka chi-kwadrat dla p-wartości z LCG (second level testing, Kołmogorow-Smirnow): 538.48\n",
            "Ostateczna p-wartość dla LCG: 4.613230844223647e-102\n",
            "Hipoteza zerowa odrzucona.\n",
            "None\n",
            "Statystyka chi-kwadrat dla p-wartości z GLCG (second level testing, Kołmogorow-Smirnow): 5653.36\n",
            "Ostateczna p-wartość dla GLCG: 0.0\n",
            "Hipoteza zerowa odrzucona.\n",
            "None\n",
            "Statystyka chi-kwadrat dla p-wartości z RC4 (second level testing, Kołmogorow-Smirnow): 15024.16\n",
            "Ostateczna p-wartość dla RC4: 0.0\n",
            "Hipoteza zerowa odrzucona.\n",
            "None\n",
            "Statystyka chi-kwadrat dla p-wartości z Xorshift (second level testing, Kołmogorow-Smirnow): 26.65625\n",
            "Ostateczna p-wartość dla Xorshift: 0.1129183134102353\n",
            "Hipoteza zerowa nieodrzucona.\n",
            "None\n",
            "Czas wykonania: 0.017514 sekund\n"
          ]
        }
      ]
    },
    {
      "cell_type": "markdown",
      "source": [
        "## 3.3 Test serii"
      ],
      "metadata": {
        "id": "0r7A2L6rNc2T"
      }
    },
    {
      "cell_type": "code",
      "source": [
        "start_time = time.time()\n",
        "\n",
        "def second_level_testing_runs_test(data, sequence_length):\n",
        "    seq_num = len(data) // sequence_length  # ilość podciągów podanej długości\n",
        "    p_values = []\n",
        "    for i in range(seq_num):\n",
        "        seq = data[i * sequence_length : (i + 1) * sequence_length]  # tworzenie podciągów\n",
        "        try:\n",
        "            p_value = runs_test(seq)[\"P-wartość\"]  # przeprowadzanie testu\n",
        "            p_values.append(p_value)\n",
        "        except ValueError:\n",
        "            p_values.append(None)\n",
        "    return p_values\n",
        "\n",
        "\n",
        "length1 = 2**15\n",
        "length2 = 2**10\n",
        "p_values3_lcg = second_level_testing_runs_test(sec_test_lcg, length1)\n",
        "p_values3_glcg = second_level_testing_runs_test(sec_test_glcg, length1)\n",
        "p_values3_rc4 = second_level_testing_runs_test(sec_test_rc4, length1)\n",
        "p_values3_xorshift = second_level_testing_runs_test(sec_test_xorshift, length2)\n",
        "\n",
        "print(\"LCG:\")\n",
        "print(sec_level_test_p_val(p_values3_lcg))\n",
        "print(\"GLCG:\")\n",
        "print(sec_level_test_p_val(p_values3_glcg))\n",
        "print(\"RC4:\")\n",
        "print(sec_level_test_p_val(p_values3_rc4))\n",
        "print(\"Xorshift:\")\n",
        "print(sec_level_test_p_val(p_values3_xorshift))\n",
        "\n",
        "plt.subplot(2, 2, 1)\n",
        "plt.hist(p_values3_lcg)\n",
        "plt.title(\"P-wartości dla LCG\")\n",
        "\n",
        "plt.subplot(2, 2, 2)\n",
        "plt.hist(p_values3_glcg)\n",
        "plt.title(\"P-wartości dla GLCG\")\n",
        "\n",
        "plt.subplot(2, 2, 3)\n",
        "plt.hist(p_values3_rc4)\n",
        "plt.title(\"P-wartości dla RC4\")\n",
        "\n",
        "plt.subplot(2, 2, 4)\n",
        "plt.hist(p_values3_xorshift)\n",
        "plt.title(\"P-wartości dla Xorshift\")\n",
        "\n",
        "plt.tight_layout()\n",
        "\n",
        "end_time = time.time()\n",
        "\n",
        "execution_time = end_time - start_time\n",
        "print(f\"Czas wykonania: {execution_time:.6f} sekund\")"
      ],
      "metadata": {
        "id": "3hfEJhIoIYO8",
        "outputId": "3b51cb3d-184b-4b41-d4dd-ff8eae96c97d",
        "colab": {
          "base_uri": "https://localhost:8080/",
          "height": 712
        }
      },
      "execution_count": 46,
      "outputs": [
        {
          "output_type": "stream",
          "name": "stdout",
          "text": [
            "LCG:\n",
            "Hipotezę odrzucono 1000 razy. Hipotezy nie odrzucono 0 razy.\n",
            "None\n",
            "GLCG:\n",
            "Hipotezę odrzucono 1000 razy. Hipotezy nie odrzucono 0 razy.\n",
            "None\n",
            "RC4:\n",
            "Hipotezę odrzucono 63 razy. Hipotezy nie odrzucono 937 razy.\n",
            "None\n",
            "Xorshift:\n",
            "Hipotezę odrzucono 13 razy. Hipotezy nie odrzucono 243 razy.\n",
            "None\n",
            "Czas wykonania: 42.144408 sekund\n"
          ]
        },
        {
          "output_type": "display_data",
          "data": {
            "text/plain": [
              "<Figure size 640x480 with 4 Axes>"
            ],
            "image/png": "[encoded data removed]"
          },
          "metadata": {}
        }
      ]
    },
    {
      "cell_type": "code",
      "source": [
        "start_time = time.time()\n",
        "\n",
        "binss=20\n",
        "\n",
        "obs1, edges = np.histogram(p_values3_lcg, bins=binss)\n",
        "expt1 = np.full(binss, len(p_values3_lcg) / binss)\n",
        "st1, p1 = chisquare(f_obs=obs1, f_exp=expt1)\n",
        "print(\"Statystyka chi-kwadrat dla p-wartości z LCG (second level testing, test serii):\", st1)\n",
        "print(\"Ostateczna p-wartość dla LCG:\", p1)\n",
        "print(p_val_test(p1))\n",
        "\n",
        "obs2, edges = np.histogram(p_values3_glcg, bins=binss)\n",
        "expt2 = np.full(binss, len(p_values3_glcg) / binss)\n",
        "st2, p2 = chisquare(f_obs=obs2, f_exp=expt2)\n",
        "print(\"Statystyka chi-kwadrat dla p-wartości z GLCG (second level testing, test serii):\", st2)\n",
        "print(\"Ostateczna p-wartość dla GLCG:\", p2)\n",
        "print(p_val_test(p2))\n",
        "\n",
        "obs3, edges = np.histogram(p_values3_rc4, bins=binss)\n",
        "expt3 = np.full(binss, len(p_values3_rc4) / binss)\n",
        "st3, p3 = chisquare(f_obs=obs3, f_exp=expt3)\n",
        "print(\"Statystyka chi-kwadrat dla p-wartości z RC4 (second level testing, test serii):\", st3)\n",
        "print(\"Ostateczna p-wartość dla RC4:\", p3)\n",
        "print(p_val_test(p3))\n",
        "\n",
        "obs4, edges = np.histogram(p_values3_xorshift, bins=binss)\n",
        "expt4 = np.full(binss, len(p_values3_xorshift) / binss)\n",
        "st4, p4 = chisquare(f_obs=obs4, f_exp=expt4)\n",
        "print(\"Statystyka chi-kwadrat dla p-wartości z Xorshift (second level testing, test serii):\", st4)\n",
        "print(\"Ostateczna p-wartość dla Xorshift:\", p4)\n",
        "print(p_val_test(p4))\n",
        "\n",
        "end_time = time.time()\n",
        "\n",
        "execution_time = end_time - start_time\n",
        "print(f\"Czas wykonania: {execution_time:.6f} sekund\")"
      ],
      "metadata": {
        "id": "euURstI8JUFM",
        "outputId": "62a662ae-5097-4ef7-a1da-a5e909c33fb6",
        "colab": {
          "base_uri": "https://localhost:8080/"
        }
      },
      "execution_count": 60,
      "outputs": [
        {
          "output_type": "stream",
          "name": "stdout",
          "text": [
            "Statystyka chi-kwadrat dla p-wartości z LCG (second level testing, test serii): 19000.0\n",
            "Ostateczna p-wartość dla LCG: 0.0\n",
            "Hipoteza zerowa odrzucona.\n",
            "None\n",
            "Statystyka chi-kwadrat dla p-wartości z GLCG (second level testing, test serii): 5653.36\n",
            "Ostateczna p-wartość dla GLCG: 0.0\n",
            "Hipoteza zerowa odrzucona.\n",
            "None\n",
            "Statystyka chi-kwadrat dla p-wartości z RC4 (second level testing, test serii): 29.319999999999997\n",
            "Ostateczna p-wartość dla RC4: 0.0611155137392468\n",
            "Hipoteza zerowa nieodrzucona.\n",
            "None\n",
            "Statystyka chi-kwadrat dla p-wartości z Xorshift (second level testing, test serii): 51.187499999999986\n",
            "Ostateczna p-wartość dla Xorshift: 8.746086014782819e-05\n",
            "Hipoteza zerowa odrzucona.\n",
            "None\n",
            "Czas wykonania: 0.018461 sekund\n"
          ]
        }
      ]
    },
    {
      "cell_type": "markdown",
      "source": [
        "# 4. Frequency monobit test"
      ],
      "metadata": {
        "id": "2G1ZttWC78bo"
      }
    },
    {
      "cell_type": "code",
      "source": [
        "import numpy as np\n",
        "from scipy.stats import norm\n",
        "import requests\n",
        "import time\n",
        "import matplotlib.pyplot as plt\n",
        "\n",
        "start_time = time.time()\n",
        "\n",
        "def freq_monobit(data): # czasy dodać\n",
        "  seq = 2 * np.array(data) - 1\n",
        "  S_obs = sum(seq) / np.sqrt(len(seq))\n",
        "  p_value = 2*(1- norm.cdf(abs(S_obs)))\n",
        "  return {\n",
        "        \"Statystyka\": S_obs,\n",
        "        \"P-wartość\": p_value\n",
        "    }\n",
        "\n",
        "end_time = time.time()\n",
        "\n",
        "execution_time = end_time - start_time\n",
        "print(f\"Czas wykonania: {execution_time:.6f} sekund\")"
      ],
      "metadata": {
        "id": "7zqtN9qBGwAY",
        "outputId": "314a5965-ba81-465a-8ea5-84ac758da556",
        "colab": {
          "base_uri": "https://localhost:8080/"
        }
      },
      "execution_count": 20,
      "outputs": [
        {
          "output_type": "stream",
          "name": "stdout",
          "text": [
            "Czas wykonania: 0.000215 sekund\n"
          ]
        }
      ]
    },
    {
      "cell_type": "markdown",
      "source": [
        "## 4.1 Liczba $\\pi$"
      ],
      "metadata": {
        "id": "hub2JrXH8MXH"
      }
    },
    {
      "cell_type": "code",
      "source": [
        "start_time = time.time()\n",
        "\n",
        "url_pi = \"http://www.math.uni.wroc.pl/~rolski/Zajecia/data.pi\"\n",
        "pi_bin = requests.get(url_pi)\n",
        "bits_pi = pi_bin.text.split(\"\\n\")\n",
        "pi_list = [bit.strip() for bit in bits_pi]\n",
        "bits_pi_final = \"\".join(pi_list)\n",
        "pi_list_help = list(bits_pi_final)\n",
        "pi_list_final = [int(bit) for bit in pi_list_help]\n",
        "#print(pi_list_final[1:10])\n",
        "\n",
        "fmt_pi = freq_monobit(pi_list_final)\n",
        "print(\"Statystyka testu frequency monobit dla liczby pi:\", fmt_pi[\"Statystyka\"])\n",
        "print(\"P-wartość testu frequency monobit dla liczby pi:\", fmt_pi[\"P-wartość\"])\n",
        "print(p_val_test(fmt_pi[\"P-wartość\"]))\n",
        "\n",
        "end_time = time.time()\n",
        "\n",
        "execution_time = end_time - start_time\n",
        "print(f\"Czas wykonania: {execution_time:.6f} sekund\")"
      ],
      "metadata": {
        "colab": {
          "base_uri": "https://localhost:8080/"
        },
        "id": "0WIvGaP98P1Y",
        "outputId": "78b59f28-bd0c-4078-c08f-c61c587188fc"
      },
      "execution_count": 21,
      "outputs": [
        {
          "output_type": "stream",
          "name": "stdout",
          "text": [
            "Statystyka testu frequency monobit dla liczby pi: -0.5047693581663462\n",
            "P-wartość testu frequency monobit dla liczby pi: 0.6137208398729661\n",
            "Hipoteza zerowa nieodrzucona.\n",
            "None\n",
            "Czas wykonania: 2.351214 sekund\n"
          ]
        }
      ]
    },
    {
      "cell_type": "markdown",
      "source": [
        "### 4.1.1 Second level testing dla liczby $\\pi$"
      ],
      "metadata": {
        "id": "S6d3-nISeaxK"
      }
    },
    {
      "cell_type": "code",
      "source": [
        "start_time=time.time()\n",
        "\n",
        "def second_level_testing_freq_monobit(data, sequence_length):\n",
        "    seq_num = len(data) // sequence_length  # ilość podciągów podanej długości\n",
        "    p_values = []\n",
        "    for i in range(seq_num):\n",
        "        seq = data[i * sequence_length : (i + 1) * sequence_length]  # tworzenie podciągów\n",
        "        try:\n",
        "            p_value = freq_monobit(seq)[\"P-wartość\"]  # przeprowadzanie testu\n",
        "            p_values.append(p_value)\n",
        "        except ValueError:\n",
        "            p_values.append(None)\n",
        "    return p_values\n",
        "\n",
        "\n",
        "length1 = 10000\n",
        "length2 = 2^10\n",
        "p_values_pi1 = second_level_testing_freq_monobit(pi_list_final, length1)\n",
        "p_values_pi2 = second_level_testing_freq_monobit(pi_list_final, length2)\n",
        "\n",
        "plt.subplot(2, 1, 1)\n",
        "plt.hist(p_values_pi1)\n",
        "plt.title(\"P-wartości dla liczby pi, długość podciągów = 10 tys.\")\n",
        "\n",
        "plt.subplot(2, 1, 2)\n",
        "plt.hist(p_values_pi2)\n",
        "plt.title(\"P-wartości dla liczby pi, długość podciągów = 2^10\")\n",
        "\n",
        "plt.tight_layout()\n",
        "\n",
        "end_time = time.time()\n",
        "\n",
        "execution_time = end_time - start_time\n",
        "print(f\"Czas wykonania: {execution_time:.6f} sekund\")"
      ],
      "metadata": {
        "colab": {
          "base_uri": "https://localhost:8080/",
          "height": 503
        },
        "id": "t-rbYmThehiV",
        "outputId": "2a82d9cd-66d7-40ad-a24d-78becb625044"
      },
      "execution_count": 28,
      "outputs": [
        {
          "output_type": "stream",
          "name": "stdout",
          "text": [
            "Czas wykonania: 20.655849 sekund\n"
          ]
        },
        {
          "output_type": "display_data",
          "data": {
            "text/plain": [
              "<Figure size 640x480 with 2 Axes>"
            ],
            "image/png": "[encoded data removed]"
          },
          "metadata": {}
        }
      ]
    },
    {
      "cell_type": "code",
      "source": [
        "start_time = time.time()\n",
        "\n",
        "binss=20\n",
        "\n",
        "obs1, edges = np.histogram(p_values_pi1, bins=binss)\n",
        "expt1 = np.full(binss, len(p_values_pi1) / binss)\n",
        "st1, p1 = chisquare(f_obs=obs1, f_exp=expt1)\n",
        "print(\"Statystyka chi-kwadrat dla p-wartości dla liczby pi (second level testing, długość podciągów: 10 tys.):\", st1)\n",
        "print(\"Ostateczna p-wartość dla liczby pi (długość podciągów: 10 tys.):\", p1)\n",
        "print(p_val_test(p1))\n",
        "\n",
        "obs2, edges = np.histogram(p_values_pi2, bins=binss)\n",
        "expt2 = np.full(binss, len(p_values_pi2) / binss)\n",
        "st2, p2 = chisquare(f_obs=obs2, f_exp=expt2)\n",
        "print(\"Statystyka chi-kwadrat dla p-wartości dla liczby pi (second level testing, długość podciągów: 2^10):\", st2)\n",
        "print(\"Ostateczna p-wartość dla liczby pi (długość podciągów: 2^10):\", p2)\n",
        "print(p_val_test(p2))\n",
        "\n",
        "end_time = time.time()\n",
        "\n",
        "execution_time = end_time - start_time\n",
        "print(f\"Czas wykonania: {execution_time:.6f} sekund\")"
      ],
      "metadata": {
        "id": "21aIP8BdLb1m",
        "outputId": "0384c661-99f5-43df-ed35-da48a61e9ad5",
        "colab": {
          "base_uri": "https://localhost:8080/"
        }
      },
      "execution_count": 61,
      "outputs": [
        {
          "output_type": "stream",
          "name": "stdout",
          "text": [
            "Statystyka chi-kwadrat dla p-wartości dla liczby pi (second level testing, długość podciągów: 10 tys.): 21.6\n",
            "Ostateczna p-wartość dla liczby pi (długość podciągów: 10 tys.): 0.30461334759819014\n",
            "Hipoteza zerowa nieodrzucona.\n",
            "None\n",
            "Statystyka chi-kwadrat dla p-wartości dla liczby pi (second level testing, długość podciągów: 2^10): 679289.4242496616\n",
            "Ostateczna p-wartość dla liczby pi (długość podciągów: 2^10): 0.0\n",
            "Hipoteza zerowa odrzucona.\n",
            "None\n",
            "Czas wykonania: 0.039565 sekund\n"
          ]
        }
      ]
    },
    {
      "cell_type": "markdown",
      "source": [
        "## 4.2 Liczba $e$"
      ],
      "metadata": {
        "id": "sb0YNtO19ZVk"
      }
    },
    {
      "cell_type": "code",
      "source": [
        "start_time = time.time()\n",
        "\n",
        "url_e = \"http://www.math.uni.wroc.pl/~rolski/Zajecia/data.e\"\n",
        "e_bin = requests.get(url_e)\n",
        "bits_e = e_bin.text.split(\"\\n\")\n",
        "e_list = [bit.strip() for bit in bits_e]\n",
        "bits_e_final = \"\".join(e_list)\n",
        "e_list_help = list(bits_e_final)\n",
        "e_list_final = [int(bit) for bit in e_list_help]\n",
        "#print(e_list_final[1:10])\n",
        "\n",
        "fmt_e = freq_monobit(e_list_final)\n",
        "print(\"Statystyka testu frequency monobit dla liczby e:\", fmt_e[\"Statystyka\"])\n",
        "print(\"P-wartość testu frequency monobit dla liczby e:\", fmt_e[\"P-wartość\"])\n",
        "print(p_val_test(fmt_e[\"P-wartość\"]))\n",
        "\n",
        "end_time = time.time()\n",
        "\n",
        "execution_time = end_time - start_time\n",
        "print(f\"Czas wykonania: {execution_time:.6f} sekund\")"
      ],
      "metadata": {
        "colab": {
          "base_uri": "https://localhost:8080/"
        },
        "id": "TI-KxEox9hP9",
        "outputId": "dbe5ffb5-3e5d-4a48-d00f-d859abe5483b"
      },
      "execution_count": 30,
      "outputs": [
        {
          "output_type": "stream",
          "name": "stdout",
          "text": [
            "Statystyka testu frequency monobit dla liczby e: 0.09177624693933566\n",
            "P-wartość testu frequency monobit dla liczby e: 0.926875816594998\n",
            "Hipoteza zerowa nieodrzucona.\n",
            "None\n",
            "Czas wykonania: 3.410594 sekund\n"
          ]
        }
      ]
    },
    {
      "cell_type": "markdown",
      "source": [
        "### 4.2.1 Second level testing dla liczby $e$"
      ],
      "metadata": {
        "id": "GYTi_cAMk9Oj"
      }
    },
    {
      "cell_type": "code",
      "source": [
        "start_time = time.time()\n",
        "\n",
        "length1 = 10000\n",
        "length2 = 2^10\n",
        "p_values_e1 = second_level_testing_freq_monobit(e_list_final, length1)\n",
        "p_values_e2 = second_level_testing_freq_monobit(e_list_final, length2)\n",
        "\n",
        "plt.subplot(2, 1, 1)\n",
        "plt.hist(p_values_e1)\n",
        "plt.title(\"P-wartości dla liczby e, długość podciągów = 10 tys.\")\n",
        "\n",
        "plt.subplot(2, 1, 2)\n",
        "plt.hist(p_values_e2)\n",
        "plt.title(\"P-wartości dla liczby e, długość podciągów = 2^10\")\n",
        "\n",
        "plt.tight_layout()\n",
        "\n",
        "end_time = time.time()\n",
        "\n",
        "execution_time = end_time - start_time\n",
        "print(f\"Czas wykonania: {execution_time:.6f} sekund\")"
      ],
      "metadata": {
        "colab": {
          "base_uri": "https://localhost:8080/",
          "height": 503
        },
        "id": "7heRe9-llEM6",
        "outputId": "c560281e-4536-459a-f255-23e74c5979a2"
      },
      "execution_count": 31,
      "outputs": [
        {
          "output_type": "stream",
          "name": "stdout",
          "text": [
            "Czas wykonania: 21.142259 sekund\n"
          ]
        },
        {
          "output_type": "display_data",
          "data": {
            "text/plain": [
              "<Figure size 640x480 with 2 Axes>"
            ],
            "image/png": "[encoded data removed]"
          },
          "metadata": {}
        }
      ]
    },
    {
      "cell_type": "code",
      "source": [
        "start_time = time.time()\n",
        "\n",
        "binss=20\n",
        "\n",
        "obs1, edges = np.histogram(p_values_e1, bins=binss)\n",
        "expt1 = np.full(binss, len(p_values_e1) / binss)\n",
        "st1, p1 = chisquare(f_obs=obs1, f_exp=expt1)\n",
        "print(\"Statystyka chi-kwadrat dla p-wartości dla liczby e (second level testing, długość podciągów: 10 tys.):\", st1)\n",
        "print(\"Ostateczna p-wartość dla liczby e (długość podciągów: 10 tys.):\", p1)\n",
        "print(p_val_test(p1))\n",
        "\n",
        "obs2, edges = np.histogram(p_values_e2, bins=binss)\n",
        "expt2 = np.full(binss, len(p_values_e2) / binss)\n",
        "st2, p2 = chisquare(f_obs=obs2, f_exp=expt2)\n",
        "print(\"Statystyka chi-kwadrat dla p-wartości dla liczby e (second level testing, długość podciągów: 2^10):\", st2)\n",
        "print(\"Ostateczna p-wartość dla liczby e (długość podciągów: 2^10):\", p2)\n",
        "print(p_val_test(p2))\n",
        "\n",
        "end_time = time.time()\n",
        "\n",
        "execution_time = end_time - start_time\n",
        "print(f\"Czas wykonania: {execution_time:.6f} sekund\")"
      ],
      "metadata": {
        "id": "vRkpUmcWPoA9",
        "outputId": "18ed0e57-2a3f-48ee-de30-20434de00096",
        "colab": {
          "base_uri": "https://localhost:8080/"
        }
      },
      "execution_count": 63,
      "outputs": [
        {
          "output_type": "stream",
          "name": "stdout",
          "text": [
            "Statystyka chi-kwadrat dla p-wartości dla liczby e (second level testing, długość podciągów: 10 tys.): 23.2\n",
            "Ostateczna p-wartość dla liczby e (długość podciągów: 10 tys.): 0.2286475195552709\n",
            "Hipoteza zerowa nieodrzucona.\n",
            "None\n",
            "Statystyka chi-kwadrat dla p-wartości dla liczby e (second level testing, długość podciągów: 2^10): 676618.5897619617\n",
            "Ostateczna p-wartość dla liczby e (długość podciągów: 2^10): 0.0\n",
            "Hipoteza zerowa odrzucona.\n",
            "None\n",
            "Czas wykonania: 0.096593 sekund\n"
          ]
        }
      ]
    },
    {
      "cell_type": "markdown",
      "source": [
        "## 4.3 Liczba $\\sqrt2$"
      ],
      "metadata": {
        "id": "LXgVxtEX-EJU"
      }
    },
    {
      "cell_type": "code",
      "source": [
        "start_time = time.time()\n",
        "\n",
        "url_s2 = \"http://www.math.uni.wroc.pl/~rolski/Zajecia/data.sqrt2\"\n",
        "s2_bin = requests.get(url_s2)\n",
        "bits_s2 = s2_bin.text.split(\"\\n\")\n",
        "s2_list = [bit.strip() for bit in bits_s2]\n",
        "bits_s2_final = \"\".join(s2_list)\n",
        "s2_list_help = list(bits_s2_final)\n",
        "s2_list_final = [int(bit) for bit in s2_list_help]\n",
        "#print(s2_list_final[1:10])\n",
        "\n",
        "fmt_s2 = freq_monobit(s2_list_final)\n",
        "print(\"Statystyka testu frequency monobit dla pierwiastka z dwóch:\", fmt_s2[\"Statystyka\"])\n",
        "print(\"P-wartość testu frequency monobit dla pierwiastka z dwóch:\", fmt_s2[\"P-wartość\"])\n",
        "print(p_val_test(fmt_s2[\"P-wartość\"]))\n",
        "\n",
        "end_time = time.time()\n",
        "\n",
        "execution_time = end_time - start_time\n",
        "print(f\"Czas wykonania: {execution_time:.6f} sekund\")"
      ],
      "metadata": {
        "colab": {
          "base_uri": "https://localhost:8080/"
        },
        "id": "x3Dl4IF1-Ne-",
        "outputId": "7ad447ec-9511-4717-d7ae-09cd215d1141"
      },
      "execution_count": 32,
      "outputs": [
        {
          "output_type": "stream",
          "name": "stdout",
          "text": [
            "Statystyka testu frequency monobit dla pierwiastka z dwóch: -0.23043807059061344\n",
            "P-wartość testu frequency monobit dla pierwiastka z dwóch: 0.8177513809816284\n",
            "Hipoteza zerowa nieodrzucona.\n",
            "None\n",
            "Czas wykonania: 2.605919 sekund\n"
          ]
        }
      ]
    },
    {
      "cell_type": "markdown",
      "source": [
        "### 4.3.1 Second level testing dla liczby $\\sqrt2$"
      ],
      "metadata": {
        "id": "uKo6yPNalcBC"
      }
    },
    {
      "cell_type": "code",
      "source": [
        "start_time = time.time()\n",
        "\n",
        "length1 = 10000\n",
        "length2 = 2^10\n",
        "p_values_s2_1 = second_level_testing_freq_monobit(s2_list_final, length1)\n",
        "p_values_s2_2 = second_level_testing_freq_monobit(s2_list_final, length2)\n",
        "\n",
        "plt.subplot(2, 1, 1)\n",
        "plt.hist(p_values_s2_1)\n",
        "plt.title(\"P-wartości dla pierwiastka z dwóch, długość podciągów = 10 tys.\")\n",
        "\n",
        "plt.subplot(2, 1, 2)\n",
        "plt.hist(p_values_s2_2)\n",
        "plt.title(\"P-wartości dla pierwiastka z dwóch, długość podciągów = 2^10\")\n",
        "\n",
        "plt.tight_layout()\n",
        "\n",
        "end_time = time.time()\n",
        "\n",
        "execution_time = end_time - start_time\n",
        "print(f\"Czas wykonania: {execution_time:.6f} sekund\")"
      ],
      "metadata": {
        "colab": {
          "base_uri": "https://localhost:8080/",
          "height": 503
        },
        "id": "CVd3Yctpli5Z",
        "outputId": "7f71aafe-f64a-414b-85df-1a79031c885f"
      },
      "execution_count": 33,
      "outputs": [
        {
          "output_type": "stream",
          "name": "stdout",
          "text": [
            "Czas wykonania: 20.741177 sekund\n"
          ]
        },
        {
          "output_type": "display_data",
          "data": {
            "text/plain": [
              "<Figure size 640x480 with 2 Axes>"
            ],
            "image/png": "[encoded data removed]"
          },
          "metadata": {}
        }
      ]
    },
    {
      "cell_type": "code",
      "source": [
        "start_time = time.time()\n",
        "\n",
        "binss=20\n",
        "\n",
        "obs1, edges = np.histogram(p_values_s2_1, bins=binss)\n",
        "expt1 = np.full(binss, len(p_values_s2_1) / binss)\n",
        "st1, p1 = chisquare(f_obs=obs1, f_exp=expt1)\n",
        "print(\"Statystyka chi-kwadrat dla p-wartości dla pierwiastka z dwóch (second level testing, długość podciągów: 10 tys.):\", st1)\n",
        "print(\"Ostateczna p-wartość dla pierwiastka z dwóch (długość podciągów: 10 tys.):\", p1)\n",
        "print(p_val_test(p1))\n",
        "\n",
        "obs2, edges = np.histogram(p_values_s2_2, bins=binss)\n",
        "expt2 = np.full(binss, len(p_values_s2_2) / binss)\n",
        "st2, p2 = chisquare(f_obs=obs2, f_exp=expt2)\n",
        "print(\"Statystyka chi-kwadrat dla p-wartości dla pierwiastka z dwóch (second level testing, długość podciągów: 2^10):\", st2)\n",
        "print(\"Ostateczna p-wartość dla pierwiastka z dwóch (długość podciągów: 2^10):\", p2)\n",
        "print(p_val_test(p2))\n",
        "\n",
        "end_time = time.time()\n",
        "\n",
        "execution_time = end_time - start_time\n",
        "print(f\"Czas wykonania: {execution_time:.6f} sekund\")"
      ],
      "metadata": {
        "id": "fo2L0DGlQBiD",
        "outputId": "0d5e0d2f-d955-4ff7-f749-86e5364c4ca2",
        "colab": {
          "base_uri": "https://localhost:8080/"
        }
      },
      "execution_count": 64,
      "outputs": [
        {
          "output_type": "stream",
          "name": "stdout",
          "text": [
            "Statystyka chi-kwadrat dla p-wartości dla pierwiastka z dwóch (second level testing, długość podciągów: 10 tys.): 27.2\n",
            "Ostateczna p-wartość dla pierwiastka z dwóch (długość podciągów: 10 tys.): 0.10008010890453899\n",
            "Hipoteza zerowa nieodrzucona.\n",
            "None\n",
            "Statystyka chi-kwadrat dla p-wartości dla pierwiastka z dwóch (second level testing, długość podciągów: 2^10): 672255.3575352281\n",
            "Ostateczna p-wartość dla pierwiastka z dwóch (długość podciągów: 2^10): 0.0\n",
            "Hipoteza zerowa odrzucona.\n",
            "None\n",
            "Czas wykonania: 0.035947 sekund\n"
          ]
        }
      ]
    }
  ]
}