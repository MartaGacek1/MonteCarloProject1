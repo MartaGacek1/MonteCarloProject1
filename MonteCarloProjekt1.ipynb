{
  "nbformat": 4,
  "nbformat_minor": 0,
  "metadata": {
    "colab": {
      "provenance": [],
      "authorship_tag": "ABX9TyMbI8HHZjnDG0y5DkhZQDlY",
      "include_colab_link": true
    },
    "kernelspec": {
      "name": "python3",
      "display_name": "Python 3"
    },
    "language_info": {
      "name": "python"
    }
  },
  "cells": [
    {
      "cell_type": "markdown",
      "metadata": {
        "id": "view-in-github",
        "colab_type": "text"
      },
      "source": [
        "<a href=\"https://colab.research.google.com/github/MartaGacek1/MonteCarloProject1/blob/main/MonteCarloProjekt1.ipynb\" target=\"_parent\"><img src=\"https://colab.research.google.com/assets/colab-badge.svg\" alt=\"Open In Colab\"/></a>"
      ]
    },
    {
      "cell_type": "markdown",
      "source": [
        "# Projekt I - Wprowadzenie do symulacji i metod Monte Carlo\n",
        "\n",
        "## Marta Gacek"
      ],
      "metadata": {
        "id": "utnSvCI2lBHF"
      }
    },
    {
      "cell_type": "markdown",
      "source": [
        "## 1. Generatory liczb pseudolosowych\n",
        "\n",
        "### 1.1 LCG (\"Linear Congruential Generator\")\n",
        "\n"
      ],
      "metadata": {
        "id": "A7XXHtlWmeA0"
      }
    },
    {
      "cell_type": "code",
      "source": [
        "import time\n",
        "\n",
        "# x0 - warunek początkowy\n",
        "# M - wartość modulo\n",
        "# a, c - parametry z rekurencyjnego wzoru\n",
        "# n - ilość liczb pseudolosowych, które otrzymamy\n",
        "\n",
        "def LCG(x0, a, c, M, n):\n",
        "    result = []\n",
        "    x = x0 % M\n",
        "    result.append(x)\n",
        "    for i in range(n-1):\n",
        "        x = (a * x + c) % M\n",
        "        result.append(x)\n",
        "    return [j/M for j in result]\n",
        "\n",
        "start_time = time.time()\n",
        "test_lcg = LCG(30, 1, 5, 13, 2**15)\n",
        "end_time = time.time()\n",
        "\n",
        "execution_time = end_time - start_time\n",
        "print(f\"Czas wykonania: {execution_time:.6f} sekund\")\n",
        "#print(test_lcg)"
      ],
      "metadata": {
        "id": "zdRKKuIJotKQ",
        "colab": {
          "base_uri": "https://localhost:8080/"
        },
        "outputId": "76ed7b7f-3a94-456b-cc83-82ea22a4157d"
      },
      "execution_count": 1,
      "outputs": [
        {
          "output_type": "stream",
          "name": "stdout",
          "text": [
            "Czas wykonania: 0.023674 sekund\n"
          ]
        }
      ]
    },
    {
      "cell_type": "markdown",
      "source": [
        "### 1.2 GLCG (\"Generalized Linear Congruential Generator\")"
      ],
      "metadata": {
        "id": "M-tezDoFbuFF"
      }
    },
    {
      "cell_type": "code",
      "source": [
        "# liczba współczynników musi być równa k, czyli liczbie wartości początkowych x_i dla i=0,...,k-1\n",
        "# initials - lista k warunków początkowych\n",
        "# coeffs - współczynniki a_i dla i=0,...,k-1\n",
        "# M - wartość modulo\n",
        "# n - ilość liczb pseudolosowych, które otrzymamy\n",
        "\n",
        "def GLCG(initials, coeffs, M, n):\n",
        "    k = len(initials)\n",
        "    if len(coeffs) != k:\n",
        "        raise ValueError(\"The number of coefficients doesn't match the number of initial values.\")\n",
        "    lst = initials[:] # lista \"robocza\"\n",
        "    result = lst[:] # tutaj będą ostatecznie zwracane liczby\n",
        "    result = [i/M for i in result] # normalizacja\n",
        "    for i in range(n - k): # bo pierwsze k z n liczb już mamy na początku\n",
        "        x = sum(coeffs[j] * lst[-(j + 1)] for j in range(k)) % M\n",
        "        result.append(x/M) # normalizacja\n",
        "        lst.append(x)\n",
        "        lst.pop(0)  # potrzebujemy k ostatnich wartości do wyznaczania następnych x\n",
        "    return result\n",
        "\n",
        "start_time = time.time()\n",
        "test_glcg = GLCG([30, 40, 50], [3, 7, 68], 2**10, 2**15)\n",
        "end_time = time.time()\n",
        "\n",
        "execution_time = end_time - start_time\n",
        "print(f\"Czas wykonania: {execution_time:.6f} sekund\")\n",
        "#print(test_glcg)"
      ],
      "metadata": {
        "id": "R08Bvpv8dcEI",
        "colab": {
          "base_uri": "https://localhost:8080/"
        },
        "outputId": "b1689d23-ae77-4865-f70e-eeff9b2282e9"
      },
      "execution_count": 2,
      "outputs": [
        {
          "output_type": "stream",
          "name": "stdout",
          "text": [
            "Czas wykonania: 0.253651 sekund\n"
          ]
        }
      ]
    },
    {
      "cell_type": "markdown",
      "source": [
        "### 1.3 RC4"
      ],
      "metadata": {
        "id": "_aCw5Mkjdcx8"
      }
    },
    {
      "cell_type": "code",
      "source": [
        "# K - \"klucz\" - liczby z przedziału {0,...,m-1}, w naszym przypadku m=32\n",
        "# n - ilość liczb pseudolosowych, które otrzymamy\n",
        "# S - permutacja zbioru m-elementowego\n",
        "# m - wartość modulo\n",
        "\n",
        "import matplotlib.pyplot as plt\n",
        "import random as rd\n",
        "import numpy as np\n",
        "\n",
        "def KSA(K, m=32):\n",
        "   S = list(range(m))\n",
        "   j = 0\n",
        "   for i in range(m):\n",
        "       j = (j + S[i] + K[i % len(K)]) % m\n",
        "       S[i], S[j] = S[j], S[i]\n",
        "   return S\n",
        "\n",
        "def PRGA(S, n, m=32):\n",
        "   i = 0\n",
        "   j = 0\n",
        "   result = []\n",
        "   for k in range(n):\n",
        "       i = (i + 1) % m\n",
        "       j = (j + S[i]) % m\n",
        "       S[i], S[j] = S[j], S[i]\n",
        "       Y = S[(S[i] + S[j]) % m]\n",
        "       result.append(Y/m) # normalizacja\n",
        "   return result\n",
        "\n",
        "def RC4(K, n, m=32):\n",
        "  s = KSA(K, m)\n",
        "  return PRGA(s, n, m)\n",
        "\n",
        "\n",
        "k1 = [x for x in range(100)]\n",
        "start_time = time.time()\n",
        "test_rc4 = RC4(k1, 2**15)\n",
        "end_time = time.time()\n",
        "\n",
        "execution_time = end_time - start_time\n",
        "print(f\"Czas wykonania: {execution_time:.6f} sekund\")\n",
        "#print(test_rc4)"
      ],
      "metadata": {
        "id": "_UQXb2S2XfNu",
        "colab": {
          "base_uri": "https://localhost:8080/"
        },
        "outputId": "c33fecd0-fe57-404a-eec1-bffc56922bff"
      },
      "execution_count": 3,
      "outputs": [
        {
          "output_type": "stream",
          "name": "stdout",
          "text": [
            "Czas wykonania: 0.055780 sekund\n"
          ]
        }
      ]
    },
    {
      "cell_type": "markdown",
      "source": [
        "### 1.4 Xorshift"
      ],
      "metadata": {
        "id": "204lDu7eBEON"
      }
    },
    {
      "cell_type": "code",
      "source": [
        "# x0 - niezerowy warunek początkowy\n",
        "# a, b, c - parametry określające przesunięcia bitowe\n",
        "# n - ilość liczb pseudolosowych, które otrzymamy\n",
        "\n",
        "def xorshift(x0, n, a=21, b=35, c=4):\n",
        "    if x0 == 0:\n",
        "        raise ValueError(\"Initial value must not be zero.\")\n",
        "    x = x0\n",
        "    result = []\n",
        "    for i in range(n):\n",
        "        x ^= (x >> a)  # przesunięcie w prawo i operacja xor\n",
        "        x ^= (x << b)  # przesunięcie w lewo i operacja xor\n",
        "        x ^= (x >> c)  # przesunięcie w prawo i operacja xor\n",
        "        result.append(x & 0xFFFFFFFF)  # ograniczenie liczby x do zakresu 32-bitowego\n",
        "    result = [i/(2**32 - 1) for i in result] # normalizacja (dzielimy przez największą możliwą wartość wygenerowaną przez xorshift)\n",
        "    return result\n",
        "\n",
        "start_time = time.time()\n",
        "test_xorshift = xorshift(20, n=2**15)\n",
        "end_time = time.time()\n",
        "\n",
        "execution_time = end_time - start_time\n",
        "print(f\"Czas wykonania: {execution_time:.6f} sekund\")\n",
        "#print(test_xorshift)"
      ],
      "metadata": {
        "id": "37QnKrBVBKSM",
        "colab": {
          "base_uri": "https://localhost:8080/"
        },
        "outputId": "4ed7f0fd-d1fe-489e-bb8c-79337512d45f"
      },
      "execution_count": 4,
      "outputs": [
        {
          "output_type": "stream",
          "name": "stdout",
          "text": [
            "Czas wykonania: 12.277930 sekund\n"
          ]
        }
      ]
    },
    {
      "cell_type": "markdown",
      "source": [
        "# 2. Testy statystyczne"
      ],
      "metadata": {
        "id": "byfnFQPf21xm"
      }
    },
    {
      "cell_type": "markdown",
      "source": [
        "## 2.1 Test $\\chi^2$"
      ],
      "metadata": {
        "id": "PesCqpeGOImT"
      }
    },
    {
      "cell_type": "code",
      "source": [
        "from scipy.stats import chisquare\n",
        "\n",
        "# wyniki dla n = 2^15\n",
        "\n",
        "start_time = time.time()\n",
        "\n",
        "# LCG\n",
        "\n",
        "binss=20\n",
        "\n",
        "def p_val_test(p):\n",
        "  if p>=0.05:\n",
        "    print(\"Hipoteza zerowa nieodrzucona.\")\n",
        "  else:\n",
        "    print(\"Hipoteza zerowa odrzucona.\")\n",
        "\n",
        "obs1, edges = np.histogram(test_lcg, bins=binss)\n",
        "expt1 = np.full(binss, len(test_lcg) / binss)\n",
        "st1, p1 = chisquare(f_obs=obs1, f_exp=expt1)\n",
        "print(\"Statystyka chi-kwadrat dla LCG:\", st1)\n",
        "print(\"P-wartość dla LCG:\", p1)\n",
        "print(p_val_test(p1))\n",
        "\n",
        "# GLCG\n",
        "\n",
        "obs2, edges = np.histogram(test_glcg, bins=binss)\n",
        "expt2 = np.full(binss, len(test_glcg) / binss)\n",
        "st2, p2 = chisquare(f_obs=obs2, f_exp=expt2)\n",
        "print(\"Statystyka chi-kwadrat dla GLCG:\", st2)\n",
        "print(\"P-wartość dla GLCG:\", p2)\n",
        "print(p_val_test(p2))\n",
        "\n",
        "# RC4\n",
        "\n",
        "obs3, edges = np.histogram(test_rc4, bins=binss)\n",
        "expt3 = np.full(binss, len(test_rc4) / binss)\n",
        "st3, p3 = chisquare(f_obs=obs3, f_exp=expt3)\n",
        "print(\"Statystyka chi-kwadrat dla RC4:\", st3)\n",
        "print(\"P-wartość dla RC4:\", p3)\n",
        "print(p_val_test(p3))\n",
        "\n",
        "# Xorshift\n",
        "\n",
        "obs4, edges = np.histogram(test_xorshift, bins=binss)\n",
        "expt4 = np.full(binss, len(test_xorshift) / binss)\n",
        "st4, p4 = chisquare(f_obs=obs4, f_exp=expt4)\n",
        "print(\"Statystyka chi-kwadrat dla Xorshift:\", st4)\n",
        "print(\"P-wartość dla Xorshift:\", p4)\n",
        "print(p_val_test(p4))\n",
        "\n",
        "end_time = time.time()\n",
        "\n",
        "execution_time = end_time - start_time\n",
        "print(f\"Czas wykonania: {execution_time:.6f} sekund\")\n"
      ],
      "metadata": {
        "colab": {
          "base_uri": "https://localhost:8080/"
        },
        "id": "MUSX9pXhRUMu",
        "outputId": "522a09ac-f126-40fd-f6c9-8f3d258611ac"
      },
      "execution_count": 7,
      "outputs": [
        {
          "output_type": "stream",
          "name": "stdout",
          "text": [
            "Statystyka chi-kwadrat dla LCG: 17644.309570312504\n",
            "P-wartość dla LCG: 0.0\n",
            "Hipoteza zerowa odrzucona.\n",
            "None\n",
            "Statystyka chi-kwadrat dla GLCG: 5505.256835937498\n",
            "P-wartość dla GLCG: 0.0\n",
            "Hipoteza zerowa odrzucona.\n",
            "None\n",
            "Statystyka chi-kwadrat dla RC4: 3149.357177734375\n",
            "P-wartość dla RC4: 0.0\n",
            "Hipoteza zerowa odrzucona.\n",
            "None\n",
            "Statystyka chi-kwadrat dla Xorshift: 17.54443359375\n",
            "P-wartość dla Xorshift: 0.5530346658651297\n",
            "Hipoteza zerowa nieodrzucona.\n",
            "None\n",
            "Czas wykonania: 0.061823 sekund\n"
          ]
        }
      ]
    },
    {
      "cell_type": "code",
      "source": [
        "# wyniki dla n = 2^10\n",
        "\n",
        "start_time = time.time()\n",
        "\n",
        "test_lcg1=LCG(30, 1, 5, 13, 2**10)\n",
        "test_glcg1=GLCG([30, 40, 50], [3, 7, 68], 2**10, 2**10)\n",
        "test_rc4_1 = RC4(k1, 2**10)\n",
        "test_xorshift1 = xorshift(20, n=2**10)\n",
        "\n",
        "# LCG\n",
        "\n",
        "binss=20\n",
        "\n",
        "obs1, edges = np.histogram(test_lcg1, bins=binss)\n",
        "expt1 = np.full(binss, len(test_lcg1) / binss)\n",
        "st1, p1 = chisquare(f_obs=obs1, f_exp=expt1)\n",
        "print(\"Statystyka chi-kwadrat dla LCG:\", st1)\n",
        "print(\"P-wartość dla LCG:\", p1)\n",
        "print(p_val_test(p1))\n",
        "\n",
        "# GLCG\n",
        "\n",
        "obs2, edges = np.histogram(test_glcg1, bins=binss)\n",
        "expt2 = np.full(binss, len(test_glcg1) / binss)\n",
        "st2, p2 = chisquare(f_obs=obs2, f_exp=expt2)\n",
        "print(\"Statystyka chi-kwadrat dla GLCG:\", st2)\n",
        "print(\"P-wartość dla GLCG:\", p2)\n",
        "print(p_val_test(p2))\n",
        "\n",
        "# RC4\n",
        "\n",
        "obs3, edges = np.histogram(test_rc4_1, bins=binss)\n",
        "expt3 = np.full(binss, len(test_rc4_1) / binss)\n",
        "st3, p3 = chisquare(f_obs=obs3, f_exp=expt3)\n",
        "print(\"Statystyka chi-kwadrat dla RC4:\", st3)\n",
        "print(\"P-wartość dla RC4:\", p3)\n",
        "print(p_val_test(p3))\n",
        "\n",
        "# Xorshift\n",
        "\n",
        "obs4, edges = np.histogram(test_xorshift1, bins=binss)\n",
        "expt4 = np.full(binss, len(test_xorshift1) / binss)\n",
        "st4, p4 = chisquare(f_obs=obs4, f_exp=expt4)\n",
        "print(\"Statystyka chi-kwadrat dla Xorshift:\", st4)\n",
        "print(\"P-wartość dla Xorshift:\", p4)\n",
        "print(p_val_test(p4))\n",
        "\n",
        "end_time = time.time()\n",
        "\n",
        "execution_time = end_time - start_time\n",
        "print(f\"Czas wykonania: {execution_time:.6f} sekund\")\n"
      ],
      "metadata": {
        "colab": {
          "base_uri": "https://localhost:8080/"
        },
        "id": "sJFwtPONfEli",
        "outputId": "3613992d-b21b-4b9c-f1a7-9a3cc396cf5d"
      },
      "execution_count": 8,
      "outputs": [
        {
          "output_type": "stream",
          "name": "stdout",
          "text": [
            "Statystyka chi-kwadrat dla LCG: 551.4296875000001\n",
            "P-wartość dla LCG: 8.69783778595415e-105\n",
            "Hipoteza zerowa odrzucona.\n",
            "None\n",
            "Statystyka chi-kwadrat dla GLCG: 171.23437499999994\n",
            "P-wartość dla GLCG: 1.62888195715364e-26\n",
            "Hipoteza zerowa odrzucona.\n",
            "None\n",
            "Statystyka chi-kwadrat dla RC4: 122.2109375\n",
            "P-wartość dla RC4: 4.2763370025242595e-17\n",
            "Hipoteza zerowa odrzucona.\n",
            "None\n",
            "Statystyka chi-kwadrat dla Xorshift: 11.742187500000004\n",
            "P-wartość dla Xorshift: 0.8963475736552577\n",
            "Hipoteza zerowa nieodrzucona.\n",
            "None\n",
            "Czas wykonania: 0.026750 sekund\n"
          ]
        }
      ]
    },
    {
      "cell_type": "code",
      "source": [
        "# wyniki dla n = 2^20\n",
        "# z wyjątkiem Xorshift, bo dla większych rozmiarów n wykonuje się on bardzo wolno (dla 2^20 ponad 1h 20 min)\n",
        "\n",
        "start_time = time.time()\n",
        "\n",
        "test_lcg2=LCG(30, 1, 5, 13, 2**20)\n",
        "test_glcg2=GLCG([30, 40, 50], [3, 7, 68], 2**10, 2**20)\n",
        "test_rc4_2 = RC4(k1, 2**20)\n",
        "#test_xorshift2 = xorshift(20, n=2**20)\n",
        "\n",
        "# LCG\n",
        "\n",
        "binss=20\n",
        "\n",
        "obs1, edges = np.histogram(test_lcg2, bins=binss)\n",
        "expt1 = np.full(binss, len(test_lcg2) / binss)\n",
        "st1, p1 = chisquare(f_obs=obs1, f_exp=expt1)\n",
        "print(\"Statystyka chi-kwadrat dla LCG:\", st1)\n",
        "print(\"P-wartość dla LCG:\", p1)\n",
        "print(p_val_test(p1))\n",
        "\n",
        "# GLCG\n",
        "\n",
        "obs2, edges = np.histogram(test_glcg2, bins=binss)\n",
        "expt2 = np.full(binss, len(test_glcg2) / binss)\n",
        "st2, p2 = chisquare(f_obs=obs2, f_exp=expt2)\n",
        "print(\"Statystyka chi-kwadrat dla GLCG:\", st2)\n",
        "print(\"P-wartość dla GLCG:\", p2)\n",
        "print(p_val_test(p2))\n",
        "\n",
        "# RC4\n",
        "\n",
        "obs3, edges = np.histogram(test_rc4_2, bins=binss)\n",
        "expt3 = np.full(binss, len(test_rc4_2) / binss)\n",
        "st3, p3 = chisquare(f_obs=obs3, f_exp=expt3)\n",
        "print(\"Statystyka chi-kwadrat dla RC4:\", st3)\n",
        "print(\"P-wartość dla RC4:\", p3)\n",
        "print(p_val_test(p3))\n",
        "\n",
        "# Xorshift\n",
        "\n",
        "obs4, edges = np.histogram(test_xorshift, bins=binss)\n",
        "expt4 = np.full(binss, len(test_xorshift) / binss)\n",
        "st4, p4 = chisquare(f_obs=obs4, f_exp=expt4)\n",
        "print(\"Statystyka chi-kwadrat dla Xorshift:\", st4)\n",
        "print(\"P-wartość dla Xorshift:\", p4)\n",
        "print(p_val_test(p4))\n",
        "\n",
        "end_time = time.time()\n",
        "\n",
        "execution_time = end_time - start_time\n",
        "print(f\"Czas wykonania: {execution_time:.6f} sekund\")"
      ],
      "metadata": {
        "colab": {
          "base_uri": "https://localhost:8080/"
        },
        "id": "xy3RpuuvhJOx",
        "outputId": "61884849-852d-43b4-a895-6c55f1cd8d0a"
      },
      "execution_count": 17,
      "outputs": [
        {
          "output_type": "stream",
          "name": "stdout",
          "text": [
            "Statystyka chi-kwadrat dla LCG: 564617.8462066652\n",
            "P-wartość dla LCG: 0.0\n",
            "Hipoteza zerowa odrzucona.\n",
            "None\n",
            "Statystyka chi-kwadrat dla GLCG: 176239.7649993896\n",
            "P-wartość dla GLCG: 0.0\n",
            "Hipoteza zerowa odrzucona.\n",
            "None\n",
            "Statystyka chi-kwadrat dla RC4: 98795.03034973145\n",
            "P-wartość dla RC4: 0.0\n",
            "Hipoteza zerowa odrzucona.\n",
            "None\n",
            "Statystyka chi-kwadrat dla Xorshift: 17.54443359375\n",
            "P-wartość dla Xorshift: 0.5530346658651297\n",
            "Hipoteza zerowa nieodrzucona.\n",
            "None\n",
            "Czas wykonania: 3.070255 sekund\n"
          ]
        }
      ]
    },
    {
      "cell_type": "markdown",
      "source": [
        "## 2.2 Test Kołmogorowa-Smirnowa"
      ],
      "metadata": {
        "id": "kqsQRqC8Tp9V"
      }
    },
    {
      "cell_type": "code",
      "source": [
        "from scipy.stats import ks_1samp, uniform\n",
        "\n",
        "# wyniki dla n = 2^15\n",
        "\n",
        "start_time = time.time()\n",
        "\n",
        "# LCG\n",
        "\n",
        "st1, p1 = ks_1samp(test_lcg, uniform.cdf)\n",
        "print(\"Statystyka Kołmogorowa-Smirnowa dla LCG:\", st1)\n",
        "print(\"P-wartość dla LCG:\", p1)\n",
        "print(p_val_test(p1))\n",
        "\n",
        "# GLCG\n",
        "\n",
        "st2, p2 = ks_1samp(test_glcg, uniform.cdf)\n",
        "print(\"Statystyka Kołmogorowa-Smirnowa dla GLCG:\", st2)\n",
        "print(\"P-wartość dla GLCG:\", p2)\n",
        "print(p_val_test(p2))\n",
        "\n",
        "# RC4\n",
        "#dziwne wyniki bo dystrybuanta schodkowa\n",
        "\n",
        "st3, p3 = ks_1samp(test_rc4, uniform.cdf)\n",
        "print(\"Statystyka Kołmogorowa-Smirnowa dla RC4:\", st3)\n",
        "print(\"P-wartość dla RC4:\", p3)\n",
        "print(p_val_test(p3))\n",
        "\n",
        "# Xorshift\n",
        "\n",
        "st4, p4 = ks_1samp(test_xorshift, uniform.cdf)\n",
        "print(\"Statystyka Kołmogorowa-Smirnowa dla Xorshift:\", st4)\n",
        "print(\"P-wartość dla Xorshift:\", p4)\n",
        "print(p_val_test(p4))\n",
        "\n",
        "end_time = time.time()\n",
        "\n",
        "execution_time = end_time - start_time\n",
        "print(f\"Czas wykonania: {execution_time:.6f} sekund\")"
      ],
      "metadata": {
        "colab": {
          "base_uri": "https://localhost:8080/"
        },
        "id": "iBD_-9V6b2Yq",
        "outputId": "ced1d6ff-77b8-435f-be4a-0fa9d3b1617a"
      },
      "execution_count": 10,
      "outputs": [
        {
          "output_type": "stream",
          "name": "stdout",
          "text": [
            "Statystyka Kołmogorowa-Smirnowa dla LCG: 0.07695124699519229\n",
            "P-wartość dla LCG: 3.313269529534475e-169\n",
            "Hipoteza zerowa odrzucona.\n",
            "None\n",
            "Statystyka Kołmogorowa-Smirnowa dla GLCG: 0.073516845703125\n",
            "P-wartość dla GLCG: 1.8473544790399517e-154\n",
            "Hipoteza zerowa odrzucona.\n",
            "None\n",
            "Statystyka Kołmogorowa-Smirnowa dla RC4: 0.033294677734375\n",
            "P-wartość dla RC4: 5.404678627545136e-32\n",
            "Hipoteza zerowa odrzucona.\n",
            "None\n",
            "Statystyka Kołmogorowa-Smirnowa dla Xorshift: 0.005506766648966599\n",
            "P-wartość dla Xorshift: 0.2724178392024802\n",
            "Hipoteza zerowa nieodrzucona.\n",
            "None\n",
            "Czas wykonania: 0.152087 sekund\n"
          ]
        }
      ]
    },
    {
      "cell_type": "code",
      "source": [
        "# wyniki dla n = 2^10\n",
        "\n",
        "start_time = time.time()\n",
        "\n",
        "# LCG\n",
        "\n",
        "st1, p1 = ks_1samp(test_lcg1, uniform.cdf)\n",
        "print(\"Statystyka Kołmogorowa-Smirnowa dla LCG:\", st1)\n",
        "print(\"P-wartość dla LCG:\", p1)\n",
        "print(p_val_test(p1))\n",
        "\n",
        "# GLCG\n",
        "\n",
        "st2, p2 = ks_1samp(test_glcg1, uniform.cdf)\n",
        "print(\"Statystyka Kołmogorowa-Smirnowa dla GLCG:\", st2)\n",
        "print(\"P-wartość dla GLCG:\", p2)\n",
        "print(p_val_test(p2))\n",
        "\n",
        "# RC4\n",
        "#dziwne wyniki bo dystrybuanta schodkowa\n",
        "\n",
        "st3, p3 = ks_1samp(test_rc4_1, uniform.cdf)\n",
        "print(\"Statystyka Kołmogorowa-Smirnowa dla RC4:\", st3)\n",
        "print(\"P-wartość dla RC4:\", p3)\n",
        "print(p_val_test(p3))\n",
        "\n",
        "# Xorshift\n",
        "\n",
        "st4, p4 = ks_1samp(test_xorshift1, uniform.cdf)\n",
        "print(\"Statystyka Kołmogorowa-Smirnowa dla Xorshift:\", st4)\n",
        "print(\"P-wartość dla Xorshift:\", p4)\n",
        "print(p_val_test(p4))\n",
        "\n",
        "end_time = time.time()\n",
        "\n",
        "execution_time = end_time - start_time\n",
        "print(f\"Czas wykonania: {execution_time:.6f} sekund\")"
      ],
      "metadata": {
        "colab": {
          "base_uri": "https://localhost:8080/"
        },
        "id": "WCmwxXuItT9e",
        "outputId": "587711d0-bc86-40d1-9090-15912cadaf17"
      },
      "execution_count": 11,
      "outputs": [
        {
          "output_type": "stream",
          "name": "stdout",
          "text": [
            "Statystyka Kołmogorowa-Smirnowa dla LCG: 0.07767427884615385\n",
            "P-wartość dla LCG: 8.058011247917728e-06\n",
            "Hipoteza zerowa odrzucona.\n",
            "None\n",
            "Statystyka Kołmogorowa-Smirnowa dla GLCG: 0.0712890625\n",
            "P-wartość dla GLCG: 5.7016213355827625e-05\n",
            "Hipoteza zerowa odrzucona.\n",
            "None\n",
            "Statystyka Kołmogorowa-Smirnowa dla RC4: 0.044921875\n",
            "P-wartość dla RC4: 0.031098686325928604\n",
            "Hipoteza zerowa odrzucona.\n",
            "None\n",
            "Statystyka Kołmogorowa-Smirnowa dla Xorshift: 0.02057039097327651\n",
            "P-wartość dla Xorshift: 0.7710172549602066\n",
            "Hipoteza zerowa nieodrzucona.\n",
            "None\n",
            "Czas wykonania: 0.023035 sekund\n"
          ]
        }
      ]
    },
    {
      "cell_type": "code",
      "source": [
        "# wyniki dla n = 2^20\n",
        "# z wyjątkiem Xorshift\n",
        "\n",
        "start_time = time.time()\n",
        "\n",
        "# LCG\n",
        "\n",
        "st1, p1 = ks_1samp(test_lcg2, uniform.cdf)\n",
        "print(\"Statystyka Kołmogorowa-Smirnowa dla LCG:\", st1)\n",
        "print(\"P-wartość dla LCG:\", p1)\n",
        "print(p_val_test(p1))\n",
        "\n",
        "# GLCG\n",
        "\n",
        "st2, p2 = ks_1samp(test_glcg2, uniform.cdf)\n",
        "print(\"Statystyka Kołmogorowa-Smirnowa dla GLCG:\", st2)\n",
        "print(\"P-wartość dla GLCG:\", p2)\n",
        "print(p_val_test(p2))\n",
        "\n",
        "# RC4\n",
        "#dziwne wyniki bo dystrybuanta schodkowa\n",
        "\n",
        "st3, p3 = ks_1samp(test_rc4_2, uniform.cdf)\n",
        "print(\"Statystyka Kołmogorowa-Smirnowa dla RC4:\", st3)\n",
        "print(\"P-wartość dla RC4:\", p3)\n",
        "print(p_val_test(p3))\n",
        "\n",
        "# Xorshift\n",
        "\n",
        "st4, p4 = ks_1samp(test_xorshift, uniform.cdf)\n",
        "print(\"Statystyka Kołmogorowa-Smirnowa dla Xorshift:\", st4)\n",
        "print(\"P-wartość dla Xorshift:\", p4)\n",
        "print(p_val_test(p4))\n",
        "\n",
        "end_time = time.time()\n",
        "\n",
        "execution_time = end_time - start_time\n",
        "print(f\"Czas wykonania: {execution_time:.6f} sekund\")"
      ],
      "metadata": {
        "colab": {
          "base_uri": "https://localhost:8080/"
        },
        "id": "mK4XDxh9t8Z_",
        "outputId": "fc1555dd-ef6e-4c57-f340-a3103d67e1fb"
      },
      "execution_count": 12,
      "outputs": [
        {
          "output_type": "stream",
          "name": "stdout",
          "text": [
            "Statystyka Kołmogorowa-Smirnowa dla LCG: 0.0769241773165189\n",
            "P-wartość dla LCG: 0.0\n",
            "Hipoteza zerowa odrzucona.\n",
            "None\n",
            "Statystyka Kołmogorowa-Smirnowa dla GLCG: 0.07356548309326172\n",
            "P-wartość dla GLCG: 0.0\n",
            "Hipoteza zerowa odrzucona.\n",
            "None\n",
            "Statystyka Kołmogorowa-Smirnowa dla RC4: 0.03149986267089844\n",
            "P-wartość dla RC4: 0.0\n",
            "Hipoteza zerowa odrzucona.\n",
            "None\n",
            "Statystyka Kołmogorowa-Smirnowa dla Xorshift: 0.005506766648966599\n",
            "P-wartość dla Xorshift: 0.2724178392024802\n",
            "Hipoteza zerowa nieodrzucona.\n",
            "None\n",
            "Czas wykonania: 0.515366 sekund\n"
          ]
        }
      ]
    },
    {
      "cell_type": "markdown",
      "source": [
        "## 2.3 Test serii"
      ],
      "metadata": {
        "id": "bj_22rTajY3x"
      }
    },
    {
      "cell_type": "code",
      "source": [
        "import numpy as np\n",
        "from scipy.stats import norm\n",
        "\n",
        "def runs_test(data):\n",
        "    median = np.median(data)\n",
        "    binary = [1 if i >= median else 0 for i in data]  # zamiana danych na ciąg binarny (według mediany)\n",
        "    x = np.sum(binary)  # Liczba 1 (liczenie elementów)\n",
        "    y = len(binary) - x  # Liczba 0\n",
        "    n = x + y\n",
        "    if x == 0 or y == 0:\n",
        "        raise ValueError(\"Not enough diversity of data. We cannot perform this test.\")\n",
        "    runs = 1  # liczba serii\n",
        "    for i in range(1, len(binary)):\n",
        "        if binary[i] != binary[i - 1]:\n",
        "            runs += 1\n",
        "    expected = (2 * x * y) / n + 1  # wartość oczekiwana liczby serii\n",
        "    sigma = np.sqrt((2 * x * y * (2 * x * y - n)) / (n**2 * (n - 1)))  # odchylenie standardowe\n",
        "    z = (runs - expected) / sigma\n",
        "    p_value = 2 * (1 - norm.cdf(abs(z)))\n",
        "    return {\n",
        "        \"Statystyka Z\": z,\n",
        "        \"P-wartość\": p_value,\n",
        "        \"Liczba serii\": runs,\n",
        "        \"Mediana\": median\n",
        "    }"
      ],
      "metadata": {
        "id": "nV65ACZNjbnN"
      },
      "execution_count": 13,
      "outputs": []
    },
    {
      "cell_type": "code",
      "source": [
        "# wyniki dla n = 2^15\n",
        "\n",
        "start_time = time.time()\n",
        "\n",
        "# LCG\n",
        "\n",
        "lcg_data = runs_test(test_lcg)\n",
        "print(\"Statystyka testu serii dla LCG:\", lcg_data[\"Statystyka Z\"])\n",
        "print(\"P-wartość dla LCG:\", lcg_data[\"P-wartość\"])\n",
        "print(p_val_test(lcg_data[\"P-wartość\"]))\n",
        "\n",
        "# GLCG\n",
        "\n",
        "glcg_data = runs_test(test_glcg)\n",
        "print(\"Statystyka testu serii dla GLCG:\", glcg_data[\"Statystyka Z\"])\n",
        "print(\"P-wartość dla GLCG:\", glcg_data[\"P-wartość\"])\n",
        "print(p_val_test(glcg_data[\"P-wartość\"]))\n",
        "\n",
        "# RC4\n",
        "\n",
        "rc4_data = runs_test(test_rc4)\n",
        "print(\"Statystyka testu serii dla RC4:\", rc4_data[\"Statystyka Z\"])\n",
        "print(\"P-wartość dla RC4:\", rc4_data[\"P-wartość\"])\n",
        "print(p_val_test(rc4_data[\"P-wartość\"]))\n",
        "\n",
        "# Xorshift\n",
        "\n",
        "xorshift_data = runs_test(test_xorshift)\n",
        "print(\"Statystyka testu serii dla Xorshift:\", xorshift_data[\"Statystyka Z\"])\n",
        "print(\"P-wartość dla Xorshift:\", xorshift_data[\"P-wartość\"])\n",
        "print(p_val_test(xorshift_data[\"P-wartość\"]))\n",
        "\n",
        "end_time = time.time()\n",
        "\n",
        "execution_time = end_time - start_time\n",
        "print(f\"Czas wykonania: {execution_time:.6f} sekund\")"
      ],
      "metadata": {
        "colab": {
          "base_uri": "https://localhost:8080/"
        },
        "id": "JGIA_IDR6FXe",
        "outputId": "92f0c175-00a0-4a96-d4de-a8b6deeefd4d"
      },
      "execution_count": 14,
      "outputs": [
        {
          "output_type": "stream",
          "name": "stdout",
          "text": [
            "Statystyka testu serii dla LCG: 99.12864298977301\n",
            "P-wartość dla LCG: 0.0\n",
            "Hipoteza zerowa odrzucona.\n",
            "None\n",
            "Statystyka testu serii dla GLCG: -7.502074837193712\n",
            "P-wartość dla GLCG: 6.283862319378386e-14\n",
            "Hipoteza zerowa odrzucona.\n",
            "None\n",
            "Statystyka testu serii dla RC4: 1.1924843866469046\n",
            "P-wartość dla RC4: 0.23307136924221683\n",
            "Hipoteza zerowa nieodrzucona.\n",
            "None\n",
            "Statystyka testu serii dla Xorshift: 0.7955072677755272\n",
            "P-wartość dla Xorshift: 0.42631848500068603\n",
            "Hipoteza zerowa nieodrzucona.\n",
            "None\n",
            "Czas wykonania: 0.068108 sekund\n"
          ]
        }
      ]
    },
    {
      "cell_type": "code",
      "source": [
        "# wyniki dla n = 2^10\n",
        "\n",
        "start_time = time.time()\n",
        "\n",
        "# LCG\n",
        "\n",
        "lcg_data = runs_test(test_lcg1)\n",
        "print(\"Statystyka testu serii dla LCG:\", lcg_data[\"Statystyka Z\"])\n",
        "print(\"P-wartość dla LCG:\", lcg_data[\"P-wartość\"])\n",
        "print(p_val_test(lcg_data[\"P-wartość\"]))\n",
        "\n",
        "# GLCG\n",
        "\n",
        "glcg_data = runs_test(test_glcg1)\n",
        "print(\"Statystyka testu serii dla GLCG:\", glcg_data[\"Statystyka Z\"])\n",
        "print(\"P-wartość dla GLCG:\", glcg_data[\"P-wartość\"])\n",
        "print(p_val_test(glcg_data[\"P-wartość\"]))\n",
        "\n",
        "# RC4\n",
        "\n",
        "rc4_data = runs_test(test_rc4_1)\n",
        "print(\"Statystyka testu serii dla RC4:\", rc4_data[\"Statystyka Z\"])\n",
        "print(\"P-wartość dla RC4:\", rc4_data[\"P-wartość\"])\n",
        "print(p_val_test(rc4_data[\"P-wartość\"]))\n",
        "\n",
        "# Xorshift\n",
        "\n",
        "xorshift_data = runs_test(test_xorshift1)\n",
        "print(\"Statystyka testu serii dla Xorshift:\", xorshift_data[\"Statystyka Z\"])\n",
        "print(\"P-wartość dla Xorshift:\", xorshift_data[\"P-wartość\"])\n",
        "print(p_val_test(xorshift_data[\"P-wartość\"]))\n",
        "\n",
        "end_time = time.time()\n",
        "\n",
        "execution_time = end_time - start_time\n",
        "print(f\"Czas wykonania: {execution_time:.6f} sekund\")"
      ],
      "metadata": {
        "colab": {
          "base_uri": "https://localhost:8080/"
        },
        "id": "b-HzXADZur3E",
        "outputId": "84d88efe-50d5-4260-d7c7-bb37062b8a97"
      },
      "execution_count": 15,
      "outputs": [
        {
          "output_type": "stream",
          "name": "stdout",
          "text": [
            "Statystyka testu serii dla LCG: 17.48320598046148\n",
            "P-wartość dla LCG: 0.0\n",
            "Hipoteza zerowa odrzucona.\n",
            "None\n",
            "Statystyka testu serii dla GLCG: -1.4380864671490048\n",
            "P-wartość dla GLCG: 0.15040952188240908\n",
            "Hipoteza zerowa nieodrzucona.\n",
            "None\n",
            "Statystyka testu serii dla RC4: -0.7484584845520809\n",
            "P-wartość dla RC4: 0.45418365728769405\n",
            "Hipoteza zerowa nieodrzucona.\n",
            "None\n",
            "Statystyka testu serii dla Xorshift: 0.43771398876310097\n",
            "P-wartość dla Xorshift: 0.6615936276613448\n",
            "Hipoteza zerowa nieodrzucona.\n",
            "None\n",
            "Czas wykonania: 0.015715 sekund\n"
          ]
        }
      ]
    },
    {
      "cell_type": "code",
      "source": [
        "# wyniki dla n = 2^20\n",
        "\n",
        "start_time = time.time()\n",
        "\n",
        "# LCG\n",
        "\n",
        "lcg_data = runs_test(test_lcg2)\n",
        "print(\"Statystyka testu serii dla LCG:\", lcg_data[\"Statystyka Z\"])\n",
        "print(\"P-wartość dla LCG:\", lcg_data[\"P-wartość\"])\n",
        "print(p_val_test(lcg_data[\"P-wartość\"]))\n",
        "\n",
        "# GLCG\n",
        "\n",
        "glcg_data = runs_test(test_glcg2)\n",
        "print(\"Statystyka testu serii dla GLCG:\", glcg_data[\"Statystyka Z\"])\n",
        "print(\"P-wartość dla GLCG:\", glcg_data[\"P-wartość\"])\n",
        "print(p_val_test(glcg_data[\"P-wartość\"]))\n",
        "\n",
        "# RC4\n",
        "\n",
        "rc4_data = runs_test(test_rc4_2)\n",
        "print(\"Statystyka testu serii dla RC4:\", rc4_data[\"Statystyka Z\"])\n",
        "print(\"P-wartość dla RC4:\", rc4_data[\"P-wartość\"])\n",
        "print(p_val_test(rc4_data[\"P-wartość\"]))\n",
        "\n",
        "# Xorshift\n",
        "\n",
        "xorshift_data = runs_test(test_xorshift)\n",
        "print(\"Statystyka testu serii dla Xorshift:\", xorshift_data[\"Statystyka Z\"])\n",
        "print(\"P-wartość dla Xorshift:\", xorshift_data[\"P-wartość\"])\n",
        "print(p_val_test(xorshift_data[\"P-wartość\"]))\n",
        "\n",
        "end_time = time.time()\n",
        "\n",
        "execution_time = end_time - start_time\n",
        "print(f\"Czas wykonania: {execution_time:.6f} sekund\")"
      ],
      "metadata": {
        "colab": {
          "base_uri": "https://localhost:8080/"
        },
        "id": "_EpOZkJbuzB1",
        "outputId": "db7c9e13-c8a9-49c8-8941-1c18f2fceb93"
      },
      "execution_count": 16,
      "outputs": [
        {
          "output_type": "stream",
          "name": "stderr",
          "text": [
            "<ipython-input-13-1137840c573d>:17: RuntimeWarning: overflow encountered in scalar multiply\n",
            "  sigma = np.sqrt((2 * x * y * (2 * x * y - n)) / (n**2 * (n - 1)))  # odchylenie standardowe\n",
            "<ipython-input-13-1137840c573d>:17: RuntimeWarning: invalid value encountered in sqrt\n",
            "  sigma = np.sqrt((2 * x * y * (2 * x * y - n)) / (n**2 * (n - 1)))  # odchylenie standardowe\n"
          ]
        },
        {
          "output_type": "stream",
          "name": "stdout",
          "text": [
            "Statystyka testu serii dla LCG: nan\n",
            "P-wartość dla LCG: nan\n",
            "Hipoteza zerowa odrzucona.\n",
            "None\n",
            "Statystyka testu serii dla GLCG: nan\n",
            "P-wartość dla GLCG: nan\n",
            "Hipoteza zerowa odrzucona.\n",
            "None\n",
            "Statystyka testu serii dla RC4: nan\n",
            "P-wartość dla RC4: nan\n",
            "Hipoteza zerowa odrzucona.\n",
            "None\n",
            "Statystyka testu serii dla Xorshift: 0.7955072677755272\n",
            "P-wartość dla Xorshift: 0.42631848500068603\n",
            "Hipoteza zerowa nieodrzucona.\n",
            "None\n",
            "Czas wykonania: 1.251916 sekund\n"
          ]
        }
      ]
    },
    {
      "cell_type": "markdown",
      "source": [
        "# 3. Second-level testing"
      ],
      "metadata": {
        "id": "xmMY5wwqIUP6"
      }
    },
    {
      "cell_type": "code",
      "source": [
        "import matplotlib.pyplot as plt\n",
        "import time\n",
        "\n",
        "#wnioski: czy przechodzą testy 1 i 2 rodzaju\n",
        "\n",
        "start_time = time.time()\n",
        "\n",
        "sec_test_lcg = LCG(30, 1, 5, 13, 1000*2**15)\n",
        "\n",
        "end_time = time.time()\n",
        "\n",
        "execution_time = end_time - start_time\n",
        "print(f\"Czas wykonania: {execution_time:.6f} sekund\")"
      ],
      "metadata": {
        "id": "5s2mMDuGQI01",
        "colab": {
          "base_uri": "https://localhost:8080/"
        },
        "outputId": "e3aa31c9-84c4-4788-9e34-c656ca084d6f"
      },
      "execution_count": null,
      "outputs": [
        {
          "output_type": "stream",
          "name": "stdout",
          "text": [
            "Czas wykonania: 8.868200 sekund\n"
          ]
        }
      ]
    },
    {
      "cell_type": "code",
      "source": [
        "start_time = time.time()\n",
        "\n",
        "sec_test_glcg = GLCG([30, 40, 50], [3, 7, 68], 2**10, 1000*2**15)\n",
        "\n",
        "end_time = time.time()\n",
        "\n",
        "execution_time = end_time - start_time\n",
        "print(f\"Czas wykonania: {execution_time:.6f} sekund\")"
      ],
      "metadata": {
        "id": "JPSmkGj5dqen",
        "outputId": "8fd79e55-7130-4e63-8a64-3eb72a158364",
        "colab": {
          "base_uri": "https://localhost:8080/"
        }
      },
      "execution_count": null,
      "outputs": [
        {
          "output_type": "stream",
          "name": "stdout",
          "text": [
            "Czas wykonania: 49.207995 sekund\n"
          ]
        }
      ]
    },
    {
      "cell_type": "code",
      "source": [
        "start_time = time.time()\n",
        "\n",
        "sec_test_rc4 = RC4(k1, 1000*2**15)\n",
        "\n",
        "end_time = time.time()\n",
        "\n",
        "execution_time = end_time - start_time\n",
        "print(f\"Czas wykonania: {execution_time:.6f} sekund\")"
      ],
      "metadata": {
        "id": "tx7cKXeNeJe9",
        "outputId": "37508671-ad06-49c1-b7f8-1e26ebae6f85",
        "colab": {
          "base_uri": "https://localhost:8080/"
        }
      },
      "execution_count": null,
      "outputs": [
        {
          "output_type": "stream",
          "name": "stdout",
          "text": [
            "Czas wykonania: 17.159778 sekund\n"
          ]
        }
      ]
    },
    {
      "cell_type": "code",
      "source": [
        "start_time = time.time()\n",
        "\n",
        "sec_test_xorshift = xorshift(20, n=2**18)\n",
        "\n",
        "end_time = time.time()\n",
        "\n",
        "execution_time = end_time - start_time\n",
        "print(f\"Czas wykonania: {execution_time:.6f} sekund\")"
      ],
      "metadata": {
        "id": "X5qNK__rZoJV",
        "outputId": "aca87415-b57a-452c-a4a2-0628b0a0d8bd",
        "colab": {
          "base_uri": "https://localhost:8080/"
        }
      },
      "execution_count": null,
      "outputs": [
        {
          "output_type": "stream",
          "name": "stdout",
          "text": [
            "Czas wykonania: 400.808901 sekund\n"
          ]
        }
      ]
    },
    {
      "cell_type": "markdown",
      "source": [
        "## 3.1 Test $\\chi^2$"
      ],
      "metadata": {
        "id": "A6EI6MgXNP0O"
      }
    },
    {
      "cell_type": "code",
      "source": [
        "start_time = time.time()\n",
        "\n",
        "def second_level_testing_chi_square(data, sequence_length):\n",
        "    seq_num = len(data) // sequence_length  # ilość podciągów podanej długości\n",
        "    p_values = []\n",
        "    for i in range(seq_num):\n",
        "        seq = data[i * sequence_length : (i + 1) * sequence_length]  # tworzenie podciągów\n",
        "        try:\n",
        "            p_value = chisquare(seq)[1]  # przeprowadzanie testu\n",
        "            p_values.append(p_value)\n",
        "        except ValueError:\n",
        "            p_values.append(None)\n",
        "    return p_values\n",
        "\n",
        "\n",
        "length1 = 2**15\n",
        "length2 = 2**10\n",
        "p_values1_lcg = second_level_testing_chi_square(test_lcg, length1)\n",
        "p_values1_glcg = second_level_testing_chi_square(test_glcg, length1)\n",
        "p_values1_rc4 = second_level_testing_chi_square(test_rc4, length1)\n",
        "p_values1_xorshift = second_level_testing_chi_square(test_xorshift, length2)\n",
        "\n",
        "# print(f\"P-wartości dla wszystkich podciągów - LCG:\")\n",
        "# print(p_values1_lcg)\n",
        "# print(f\"P-wartości dla wszystkich podciągów - GLCG:\")\n",
        "# print(p_values1_glcg)\n",
        "# print(f\"P-wartości dla wszystkich podciągów - RC4:\")\n",
        "# print(p_values1_rc4)\n",
        "# print(f\"P-wartości dla wszystkich podciągów - Xorshift:\")\n",
        "# print(p_values1_xorshift)\n",
        "\n",
        "plt.subplot(2, 2, 1)\n",
        "plt.hist(p_values1_lcg)\n",
        "plt.title(\"P-wartości dla LCG\")\n",
        "\n",
        "plt.subplot(2, 2, 2)\n",
        "plt.hist(p_values1_glcg)\n",
        "plt.title(\"P-wartości dla GLCG\")\n",
        "\n",
        "plt.subplot(2, 2, 3)\n",
        "plt.hist(p_values1_rc4)\n",
        "plt.title(\"P-wartości dla RC4\")\n",
        "\n",
        "plt.subplot(2, 2, 4)\n",
        "plt.hist(p_values1_xorshift)\n",
        "plt.title(\"P-wartości dla Xorshift\")\n",
        "\n",
        "end_time = time.time()\n",
        "\n",
        "execution_time = end_time - start_time\n",
        "print(f\"Czas wykonania: {execution_time:.6f} sekund\")"
      ],
      "metadata": {
        "id": "xIBKt5XFNXAs",
        "outputId": "9627d323-cb1e-47d2-c3bd-ef05ceab0b6c",
        "colab": {
          "base_uri": "https://localhost:8080/",
          "height": 470
        }
      },
      "execution_count": null,
      "outputs": [
        {
          "output_type": "stream",
          "name": "stdout",
          "text": [
            "Czas wykonania: 0.134933 sekund\n"
          ]
        },
        {
          "output_type": "display_data",
          "data": {
            "text/plain": [
              "<Figure size 640x480 with 4 Axes>"
            ],
            "image/png": "[encoded data removed]"
          },
          "metadata": {}
        }
      ]
    },
    {
      "cell_type": "markdown",
      "source": [
        "## 3.2 Test Kołmogorowa-Smirnowa"
      ],
      "metadata": {
        "id": "PrQSFpd9NXdN"
      }
    },
    {
      "cell_type": "code",
      "source": [
        "start_time = time.time()\n",
        "\n",
        "def second_level_testing_ks(data, sequence_length):\n",
        "    seq_num = len(data) // sequence_length  # ilość podciągów podanej długości\n",
        "    p_values = []\n",
        "    for i in range(seq_num):\n",
        "        seq = data[i * sequence_length : (i + 1) * sequence_length]  # tworzenie podciągów\n",
        "        try:\n",
        "            p_value = ks_1samp(seq, uniform.cdf)[1]  # przeprowadzanie testu\n",
        "            p_values.append(p_value)\n",
        "        except ValueError:\n",
        "            p_values.append(None)\n",
        "    return p_values\n",
        "\n",
        "\n",
        "length1 = 2**15\n",
        "length2 = 2**10\n",
        "p_values2_lcg = second_level_testing_ks(test_lcg, length1)\n",
        "p_values2_glcg = second_level_testing_ks(test_glcg, length1)\n",
        "p_values2_rc4 = second_level_testing_ks(test_rc4, length1)\n",
        "p_values2_xorshift = second_level_testing_ks(test_xorshift, length2)\n",
        "\n",
        "# print(f\"P-wartości dla wszystkich podciągów - LCG:\")\n",
        "# print(p_values2_lcg)\n",
        "# print(f\"P-wartości dla wszystkich podciągów - GLCG:\")\n",
        "# print(p_values2_glcg)\n",
        "# print(f\"P-wartości dla wszystkich podciągów - RC4:\")\n",
        "# print(p_values2_rc4)\n",
        "# print(f\"P-wartości dla wszystkich podciągów - Xorshift:\")\n",
        "# print(p_values2_xorshift)\n",
        "\n",
        "plt.subplot(2, 2, 1)\n",
        "plt.hist(p_values2_lcg)\n",
        "plt.title(\"P-wartości dla LCG\")\n",
        "\n",
        "plt.subplot(2, 2, 2)\n",
        "plt.hist(p_values2_glcg)\n",
        "plt.title(\"P-wartości dla GLCG\")\n",
        "\n",
        "plt.subplot(2, 2, 3)\n",
        "plt.hist(p_values2_rc4)\n",
        "plt.title(\"P-wartości dla RC4\")\n",
        "\n",
        "plt.subplot(2, 2, 4)\n",
        "plt.hist(p_values2_xorshift)\n",
        "plt.title(\"P-wartości dla Xorshift\")\n",
        "\n",
        "end_time = time.time()\n",
        "\n",
        "execution_time = end_time - start_time\n",
        "print(f\"Czas wykonania: {execution_time:.6f} sekund\")"
      ],
      "metadata": {
        "id": "wXzBeyPYNbY1",
        "outputId": "5f1844c9-8e0b-41d1-99f7-51ad8632fcef",
        "colab": {
          "base_uri": "https://localhost:8080/",
          "height": 470
        }
      },
      "execution_count": null,
      "outputs": [
        {
          "output_type": "stream",
          "name": "stdout",
          "text": [
            "Czas wykonania: 0.280820 sekund\n"
          ]
        },
        {
          "output_type": "display_data",
          "data": {
            "text/plain": [
              "<Figure size 640x480 with 4 Axes>"
            ],
            "image/png": "[encoded data removed]"
          },
          "metadata": {}
        }
      ]
    },
    {
      "cell_type": "markdown",
      "source": [
        "## 3.3 Test serii"
      ],
      "metadata": {
        "id": "0r7A2L6rNc2T"
      }
    },
    {
      "cell_type": "code",
      "source": [
        "start_time = time.time()\n",
        "\n",
        "def second_level_testing_runs_test(data, sequence_length):\n",
        "    seq_num = len(data) // sequence_length  # ilość podciągów podanej długości\n",
        "    p_values = []\n",
        "    for i in range(seq_num):\n",
        "        seq = data[i * sequence_length : (i + 1) * sequence_length]  # tworzenie podciągów\n",
        "        try:\n",
        "            p_value = runs_test(seq)[\"P-wartość\"]  # przeprowadzanie testu\n",
        "            p_values.append(p_value)\n",
        "        except ValueError:\n",
        "            p_values.append(None)\n",
        "    return p_values\n",
        "\n",
        "\n",
        "length1 = 2**15\n",
        "length2 = 2**10\n",
        "p_values3_lcg = second_level_testing_runs_test(test_lcg, length1)\n",
        "p_values3_glcg = second_level_testing_runs_test(test_glcg, length1)\n",
        "p_values3_rc4 = second_level_testing_runs_test(test_rc4, length1)\n",
        "p_values3_xorshift = second_level_testing_runs_test(test_xorshift, length2)\n",
        "\n",
        "# print(f\"P-wartości dla wszystkich podciągów - LCG:\")\n",
        "# print(p_values3_lcg)\n",
        "# print(f\"P-wartości dla wszystkich podciągów - GLCG:\")\n",
        "# print(p_values3_glcg)\n",
        "# print(f\"P-wartości dla wszystkich podciągów - RC4:\")\n",
        "# print(p_values3_rc4)\n",
        "# print(f\"P-wartości dla wszystkich podciągów - Xorshift:\")\n",
        "# print(p_values3_xorshift)\n",
        "\n",
        "plt.subplot(2, 2, 1)\n",
        "plt.hist(p_values3_lcg)\n",
        "plt.title(\"P-wartości dla LCG\")\n",
        "\n",
        "plt.subplot(2, 2, 2)\n",
        "plt.hist(p_values3_glcg)\n",
        "plt.title(\"P-wartości dla GLCG\")\n",
        "\n",
        "plt.subplot(2, 2, 3)\n",
        "plt.hist(p_values3_rc4)\n",
        "plt.title(\"P-wartości dla RC4\")\n",
        "\n",
        "plt.subplot(2, 2, 4)\n",
        "plt.hist(p_values3_xorshift)\n",
        "plt.title(\"P-wartości dla Xorshift\")\n",
        "\n",
        "end_time = time.time()\n",
        "\n",
        "execution_time = end_time - start_time\n",
        "print(f\"Czas wykonania: {execution_time:.6f} sekund\")"
      ],
      "metadata": {
        "id": "3hfEJhIoIYO8",
        "outputId": "2ac9dca0-8af9-4157-e389-e189b7e0e577",
        "colab": {
          "base_uri": "https://localhost:8080/",
          "height": 470
        }
      },
      "execution_count": null,
      "outputs": [
        {
          "output_type": "stream",
          "name": "stdout",
          "text": [
            "Czas wykonania: 0.166721 sekund\n"
          ]
        },
        {
          "output_type": "display_data",
          "data": {
            "text/plain": [
              "<Figure size 640x480 with 4 Axes>"
            ],
            "image/png": "[encoded data removed]"
          },
          "metadata": {}
        }
      ]
    },
    {
      "cell_type": "markdown",
      "source": [
        "# 4. Frequency monobit test"
      ],
      "metadata": {
        "id": "2G1ZttWC78bo"
      }
    },
    {
      "cell_type": "code",
      "source": [
        "import numpy as np\n",
        "from scipy.stats import norm\n",
        "import requests\n",
        "\n",
        "def freq_monobit(data):\n",
        "  seq = 2 * np.array(data) - 1\n",
        "  S_obs = sum(seq) / np.sqrt(len(seq))\n",
        "  p_value = 2*(1- norm.cdf(abs(S_obs)))\n",
        "  return {\n",
        "        \"Statystyka\": S_obs,\n",
        "        \"P-wartość\": p_value\n",
        "    }"
      ],
      "metadata": {
        "id": "7zqtN9qBGwAY"
      },
      "execution_count": null,
      "outputs": []
    },
    {
      "cell_type": "markdown",
      "source": [
        "## 4.1 Liczba $\\pi$"
      ],
      "metadata": {
        "id": "hub2JrXH8MXH"
      }
    },
    {
      "cell_type": "code",
      "source": [
        "url_pi = \"http://www.math.uni.wroc.pl/~rolski/Zajecia/data.pi\"\n",
        "pi_bin = requests.get(url_pi)\n",
        "bits_pi = pi_bin.text.split(\"\\n\")\n",
        "pi_list = [bit.strip() for bit in bits_pi]\n",
        "bits_pi_final = \"\".join(pi_list)\n",
        "pi_list_help = list(bits_pi_final)\n",
        "pi_list_final = [int(bit) for bit in pi_list_help]\n",
        "#print(pi_list_final[1:10])\n",
        "\n",
        "fmt_pi = freq_monobit(pi_list_final)\n",
        "print(\"Statystyka testu frequency monobit dla liczby pi:\", fmt_pi[\"Statystyka\"])\n",
        "print(\"P-wartość testu frequency monobit dla liczby pi:\", fmt_pi[\"P-wartość\"])"
      ],
      "metadata": {
        "colab": {
          "base_uri": "https://localhost:8080/"
        },
        "id": "0WIvGaP98P1Y",
        "outputId": "78631204-a768-48a0-ec07-3e26e3ea3cd4"
      },
      "execution_count": null,
      "outputs": [
        {
          "output_type": "stream",
          "name": "stdout",
          "text": [
            "Statystyka testu frequency monobit dla liczby pi: -0.5047693581663462\n",
            "P-wartość testu frequency monobit dla liczby pi: 0.6137208398729661\n"
          ]
        }
      ]
    },
    {
      "cell_type": "markdown",
      "source": [
        "## 4.2 Liczba $e$"
      ],
      "metadata": {
        "id": "sb0YNtO19ZVk"
      }
    },
    {
      "cell_type": "code",
      "source": [
        "url_e = \"http://www.math.uni.wroc.pl/~rolski/Zajecia/data.e\"\n",
        "e_bin = requests.get(url_e)\n",
        "bits_e = e_bin.text.split(\"\\n\")\n",
        "e_list = [bit.strip() for bit in bits_e]\n",
        "bits_e_final = \"\".join(e_list)\n",
        "e_list_help = list(bits_e_final)\n",
        "e_list_final = [int(bit) for bit in e_list_help]\n",
        "#print(e_list_final[1:10])\n",
        "\n",
        "fmt_e = freq_monobit(e_list_final)\n",
        "print(\"Statystyka testu frequency monobit dla liczby e:\", fmt_e[\"Statystyka\"])\n",
        "print(\"P-wartość testu frequency monobit dla liczby e:\", fmt_e[\"P-wartość\"])"
      ],
      "metadata": {
        "colab": {
          "base_uri": "https://localhost:8080/"
        },
        "id": "TI-KxEox9hP9",
        "outputId": "ffe3fa3e-4c45-4b7b-9e1c-f0669fcc36f2"
      },
      "execution_count": null,
      "outputs": [
        {
          "output_type": "stream",
          "name": "stdout",
          "text": [
            "Statystyka testu frequency monobit dla liczby e: 0.09177624693933566\n",
            "P-wartość testu frequency monobit dla liczby e: 0.926875816594998\n"
          ]
        }
      ]
    },
    {
      "cell_type": "markdown",
      "source": [
        "## 4.3 Liczba $\\sqrt2$"
      ],
      "metadata": {
        "id": "LXgVxtEX-EJU"
      }
    },
    {
      "cell_type": "code",
      "source": [
        "url_s2 = \"http://www.math.uni.wroc.pl/~rolski/Zajecia/data.sqrt2\"\n",
        "s2_bin = requests.get(url_s2)\n",
        "bits_s2 = s2_bin.text.split(\"\\n\")\n",
        "s2_list = [bit.strip() for bit in bits_s2]\n",
        "bits_s2_final = \"\".join(s2_list)\n",
        "s2_list_help = list(bits_s2_final)\n",
        "s2_list_final = [int(bit) for bit in s2_list_help]\n",
        "#print(s2_list_final[1:10])\n",
        "\n",
        "fmt_s2 = freq_monobit(s2_list_final)\n",
        "print(\"Statystyka testu frequency monobit dla pierwiastka z dwóch:\", fmt_s2[\"Statystyka\"])\n",
        "print(\"P-wartość testu frequency monobit dla pierwiastka z dwóch:\", fmt_s2[\"P-wartość\"])"
      ],
      "metadata": {
        "colab": {
          "base_uri": "https://localhost:8080/"
        },
        "id": "x3Dl4IF1-Ne-",
        "outputId": "bee4d59b-e589-46fe-837d-125d8dea0332"
      },
      "execution_count": null,
      "outputs": [
        {
          "output_type": "stream",
          "name": "stdout",
          "text": [
            "Statystyka testu frequency monobit dla pierwiastka z dwóch: -0.23043807059061344\n",
            "P-wartość testu frequency monobit dla pierwiastka z dwóch: 0.8177513809816284\n"
          ]
        }
      ]
    }
  ]
}