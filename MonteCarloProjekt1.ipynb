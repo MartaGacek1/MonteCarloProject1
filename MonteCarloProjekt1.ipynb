{
  "nbformat": 4,
  "nbformat_minor": 0,
  "metadata": {
    "colab": {
      "provenance": [],
      "authorship_tag": "ABX9TyMnzkXG4pK9c7HHiVJ//ZQK",
      "include_colab_link": true
    },
    "kernelspec": {
      "name": "python3",
      "display_name": "Python 3"
    },
    "language_info": {
      "name": "python"
    }
  },
  "cells": [
    {
      "cell_type": "markdown",
      "metadata": {
        "id": "view-in-github",
        "colab_type": "text"
      },
      "source": [
        "<a href=\"https://colab.research.google.com/github/MartaGacek1/MonteCarloProject1/blob/main/MonteCarloProjekt1.ipynb\" target=\"_parent\"><img src=\"https://colab.research.google.com/assets/colab-badge.svg\" alt=\"Open In Colab\"/></a>"
      ]
    },
    {
      "cell_type": "markdown",
      "source": [
        "# Projekt I - Wprowadzenie do symulacji i metod Monte Carlo\n",
        "\n",
        "## Marta Gacek"
      ],
      "metadata": {
        "id": "utnSvCI2lBHF"
      }
    },
    {
      "cell_type": "markdown",
      "source": [
        "## 1. Generatory liczb pseudolosowych\n",
        "\n",
        "### 1.1 LCG (\"Linear Congruential Generator\")\n",
        "\n"
      ],
      "metadata": {
        "id": "A7XXHtlWmeA0"
      }
    },
    {
      "cell_type": "code",
      "source": [
        "# x0 - warunek początkowy\n",
        "# M - wartość modulo\n",
        "# a, c - parametry z rekurencyjnego wzoru\n",
        "# n - ilość liczb pseudolosowych, które otrzymamy\n",
        "\n",
        "def LCG(x0, a, c, M, n):\n",
        "    result = []\n",
        "    x = x0 % M\n",
        "    result.append(x)\n",
        "    for i in range(n-1):\n",
        "        x = (a * x + c) % M\n",
        "        result.append(x)\n",
        "    return [j/M for j in result]\n",
        "\n",
        "test_lcg=LCG(30, 1, 5, 13, 2**20)\n",
        "#print(test_lcg)"
      ],
      "metadata": {
        "id": "zdRKKuIJotKQ"
      },
      "execution_count": 32,
      "outputs": []
    },
    {
      "cell_type": "markdown",
      "source": [
        "### 1.2 GLCG (\"Generalized Linear Congruential Generator\")"
      ],
      "metadata": {
        "id": "M-tezDoFbuFF"
      }
    },
    {
      "cell_type": "code",
      "source": [
        "# liczba współczynników musi być równa k, czyli liczbie wartości początkowych x_i dla i=0,...,k-1\n",
        "# initials - lista k warunków początkowych\n",
        "# coeffs - współczynniki a_i dla i=0,...,k-1\n",
        "# M - wartość modulo\n",
        "# n - ilość liczb pseudolosowych, które otrzymamy\n",
        "\n",
        "def GLCG(initials, coeffs, M, n):\n",
        "    k = len(initials)\n",
        "    if len(coeffs) != k:\n",
        "        raise ValueError(\"The number of coefficients doesn't match the number of initial values.\")\n",
        "    lst = initials[:] # lista \"robocza\"\n",
        "    result = lst[:] # tutaj będą ostatecznie zwracane liczby\n",
        "    result = [i/M for i in result] # normalizacja\n",
        "    for i in range(n - k): # bo pierwsze k z n liczb już mamy na początku\n",
        "        x = sum(coeffs[j] * lst[-(j + 1)] for j in range(k)) % M\n",
        "        result.append(x/M) # normalizacja\n",
        "        lst.append(x)\n",
        "        lst.pop(0)  # potrzebujemy k ostatnich wartości do wyznaczania następnych x\n",
        "    return result\n",
        "\n",
        "test_glcg=GLCG([30, 40, 50], [3, 7, 68], 2**10, 2**20)\n",
        "#print(test_glcg)"
      ],
      "metadata": {
        "id": "R08Bvpv8dcEI"
      },
      "execution_count": 33,
      "outputs": []
    },
    {
      "cell_type": "markdown",
      "source": [
        "### 1.3 RC4"
      ],
      "metadata": {
        "id": "_aCw5Mkjdcx8"
      }
    },
    {
      "cell_type": "code",
      "source": [
        "# K - \"klucz\" - liczby z przedziału {0,...,m-1}, w naszym przypadku m=32\n",
        "# n - ilość liczb pseudolosowych, które otrzymamy\n",
        "# S - permutacja zbioru m-elementowego\n",
        "# m - wartość modulo\n",
        "\n",
        "import matplotlib.pyplot as plt\n",
        "import random as rd\n",
        "import numpy as np\n",
        "\n",
        "def KSA(K, m=32):\n",
        "   S = list(range(m))\n",
        "   j = 0\n",
        "   for i in range(m):\n",
        "       j = (j + S[i] + K[i % len(K)]) % m\n",
        "       S[i], S[j] = S[j], S[i]\n",
        "   return S\n",
        "\n",
        "def PRGA(S, n, m=32):\n",
        "   i = 0\n",
        "   j = 0\n",
        "   result = []\n",
        "   for k in range(n):\n",
        "       i = (i + 1) % m\n",
        "       j = (j + S[i]) % m\n",
        "       S[i], S[j] = S[j], S[i]\n",
        "       Y = S[(S[i] + S[j]) % m]\n",
        "       result.append(Y/m) # normalizacja\n",
        "   return result\n",
        "\n",
        "def RC4(K, n, m=32):\n",
        "  s = KSA(K, m)\n",
        "  return PRGA(s, n, m)\n",
        "\n",
        "\n",
        "k1 = [x for x in range(100)]\n",
        "test_rc4 = RC4(k1, 2**20)\n",
        "#print(test_rc4)"
      ],
      "metadata": {
        "id": "_UQXb2S2XfNu"
      },
      "execution_count": 43,
      "outputs": []
    },
    {
      "cell_type": "markdown",
      "source": [
        "### 1.4 Xorshift"
      ],
      "metadata": {
        "id": "204lDu7eBEON"
      }
    },
    {
      "cell_type": "code",
      "source": [
        "# x0 - niezerowy warunek początkowy\n",
        "# a, b, c - parametry określające przesunięcia bitowe\n",
        "# n - ilość liczb pseudolosowych, które otrzymamy\n",
        "\n",
        "def xorshift(x0, n, a=21, b=35, c=4):\n",
        "    if x0 == 0:\n",
        "        raise ValueError(\"Initial value must not be zero.\")\n",
        "    x = x0\n",
        "    result = []\n",
        "    for i in range(n):\n",
        "        x ^= (x >> a)  # przesunięcie w prawo i operacja xor\n",
        "        x ^= (x << b)  # przesunięcie w lewo i operacja xor\n",
        "        x ^= (x >> c)  # przesunięcie w prawo i operacja xor\n",
        "        result.append(x & 0xFFFFFFFF)  # ograniczenie liczby x do zakresu 32-bitowego\n",
        "    result = [i/(2**32 - 1) for i in result] # normalizacja (dzielimy przez największą możliwą wartość wygenerowaną przez xorshift)\n",
        "    return result\n",
        "\n",
        "test_xorshift = xorshift(20, n=10000)\n",
        "#print(test_xorshift)"
      ],
      "metadata": {
        "id": "37QnKrBVBKSM"
      },
      "execution_count": 36,
      "outputs": []
    },
    {
      "cell_type": "markdown",
      "source": [
        "# 2. Testy statystyczne"
      ],
      "metadata": {
        "id": "byfnFQPf21xm"
      }
    },
    {
      "cell_type": "markdown",
      "source": [
        "## 2.1 Test $\\chi^2$"
      ],
      "metadata": {
        "id": "PesCqpeGOImT"
      }
    },
    {
      "cell_type": "code",
      "source": [
        "from scipy.stats import chisquare\n",
        "\n",
        "# LCG\n",
        "#zmienić liczbę kubełków\n",
        "\n",
        "st1, p1 = chisquare(test_lcg)\n",
        "print(\"Statystyka chi-kwadrat dla LCG:\", st1)\n",
        "print(\"P-wartość dla LCG:\", p1)\n",
        "\n",
        "# GLCG\n",
        "\n",
        "st2, p2 = chisquare(test_glcg)\n",
        "print(\"Statystyka chi-kwadrat dla GLCG:\", st2)\n",
        "print(\"P-wartość dla GLCG:\", p2)\n",
        "\n",
        "# RC4\n",
        "\n",
        "st3, p3 = chisquare(test_rc4)\n",
        "print(\"Statystyka chi-kwadrat dla RC4:\", st3)\n",
        "print(\"P-wartość dla RC4:\", p3)\n",
        "\n",
        "# Xorshift\n",
        "\n",
        "st4, p4 = chisquare(test_xorshift)\n",
        "print(\"Statystyka chi-kwadrat dla Xorshift:\", st4)\n",
        "print(\"P-wartość dla Xorshift:\", p4)\n"
      ],
      "metadata": {
        "colab": {
          "base_uri": "https://localhost:8080/"
        },
        "id": "MUSX9pXhRUMu",
        "outputId": "b5830976-4b09-4b9b-b09e-e1d733a2dc52"
      },
      "execution_count": 44,
      "outputs": [
        {
          "output_type": "stream",
          "name": "stdout",
          "text": [
            "Statystyka chi-kwadrat dla LCG: 188205.99145243986\n",
            "P-wartość dla LCG: 1.0\n",
            "Statystyka chi-kwadrat dla GLCG: 196131.68891987618\n",
            "P-wartość dla GLCG: 1.0\n",
            "Statystyka chi-kwadrat dla RC4: 180066.6929042964\n",
            "P-wartość dla RC4: 1.0\n",
            "Statystyka chi-kwadrat dla Xorshift: 1666.9550373580585\n",
            "P-wartość dla Xorshift: 1.0\n"
          ]
        }
      ]
    },
    {
      "cell_type": "markdown",
      "source": [
        "## 2.2 Test Kołmogorowa-Smirnowa"
      ],
      "metadata": {
        "id": "kqsQRqC8Tp9V"
      }
    },
    {
      "cell_type": "code",
      "source": [
        "from scipy.stats import ks_1samp, uniform\n",
        "\n",
        "# LCG\n",
        "\n",
        "st1, p1 = ks_1samp(test_lcg, uniform.cdf)\n",
        "print(\"Statystyka Kołmogorowa-Smirnowa dla LCG:\", st1)\n",
        "print(\"P-wartość dla LCG:\", p1)\n",
        "\n",
        "# GLCG\n",
        "\n",
        "st2, p2 = ks_1samp(test_glcg, uniform.cdf)\n",
        "print(\"Statystyka Kołmogorowa-Smirnowa dla GLCG:\", st2)\n",
        "print(\"P-wartość dla GLCG:\", p2)\n",
        "\n",
        "# RC4\n",
        "#dziwne wyniki bo dystrybuanta schodkowa\n",
        "\n",
        "st3, p3 = ks_1samp(test_rc4, uniform.cdf)\n",
        "print(\"Statystyka Kołmogorowa-Smirnowa dla RC4:\", st3)\n",
        "print(\"P-wartość dla RC4:\", p3)\n",
        "\n",
        "# Xorshift\n",
        "\n",
        "st4, p4 = ks_1samp(test_xorshift, uniform.cdf)\n",
        "print(\"Statystyka Kołmogorowa-Smirnowa dla Xorshift:\", st4)\n",
        "print(\"P-wartość dla Xorshift:\", p4)"
      ],
      "metadata": {
        "colab": {
          "base_uri": "https://localhost:8080/"
        },
        "id": "iBD_-9V6b2Yq",
        "outputId": "050cebb0-bad2-40c7-e88e-07107e2f9b5a"
      },
      "execution_count": 48,
      "outputs": [
        {
          "output_type": "stream",
          "name": "stdout",
          "text": [
            "Statystyka Kołmogorowa-Smirnowa dla LCG: 0.0769241773165189\n",
            "P-wartość dla LCG: 0.0\n",
            "Statystyka Kołmogorowa-Smirnowa dla GLCG: 0.07356548309326172\n",
            "P-wartość dla GLCG: 0.0\n",
            "Statystyka Kołmogorowa-Smirnowa dla RC4: 0.03149986267089844\n",
            "P-wartość dla RC4: 0.0\n",
            "Statystyka Kołmogorowa-Smirnowa dla Xorshift: 0.007288519936331672\n",
            "P-wartość dla Xorshift: 0.6600247655088854\n"
          ]
        }
      ]
    },
    {
      "cell_type": "markdown",
      "source": [
        "## 2.3 Test serii"
      ],
      "metadata": {
        "id": "bj_22rTajY3x"
      }
    },
    {
      "cell_type": "code",
      "source": [
        "import numpy as np\n",
        "from scipy.stats import norm\n",
        "\n",
        "def runs_test(data):\n",
        "    median = np.median(data)\n",
        "    binary = [1 if i >= median else 0 for i in data]  # zamiana danych na ciąg binarny (według mediany)\n",
        "    x = np.sum(binary)  # Liczba 1 (liczenie elementów)\n",
        "    y = len(binary) - x  # Liczba 0\n",
        "    n = x + y\n",
        "    if x == 0 or y == 0:\n",
        "        raise ValueError(\"Not enough diversity of data. We cannot perform this test.\")\n",
        "    runs = 1  # liczba serii\n",
        "    for i in range(1, len(binary)):\n",
        "        if binary[i] != binary[i - 1]:\n",
        "            runs += 1\n",
        "    expected = (2 * x * y) / n + 1  # wartość oczekiwana liczby serii\n",
        "    sigma = np.sqrt((2 * x * y * (2 * x * y - n)) / (n**2 * (n - 1)))  # odchylenie standardowe\n",
        "    z = (runs - expected) / sigma\n",
        "    p_value = 2 * (1 - norm.cdf(abs(z)))                   # czy trzeba zmieniać na uniform?\n",
        "    return {\n",
        "        \"Statystyka Z\": z,\n",
        "        \"P-wartość\": p_value,\n",
        "        \"Liczba serii\": runs,\n",
        "        \"Mediana\": median\n",
        "    }"
      ],
      "metadata": {
        "id": "nV65ACZNjbnN"
      },
      "execution_count": 39,
      "outputs": []
    },
    {
      "cell_type": "code",
      "source": [
        "# LCG\n",
        "\n",
        "lcg_data = runs_test(test_lcg)\n",
        "print(\"Statystyka testu serii dla LCG:\", lcg_data[\"Statystyka Z\"])\n",
        "print(\"P-wartość dla LCG:\", lcg_data[\"P-wartość\"])\n",
        "\n",
        "# GLCG\n",
        "\n",
        "glcg_data = runs_test(test_glcg)\n",
        "print(\"Statystyka testu serii dla GLCG:\", glcg_data[\"Statystyka Z\"])\n",
        "print(\"P-wartość dla GLCG:\", glcg_data[\"P-wartość\"])\n",
        "\n",
        "# RC4\n",
        "\n",
        "rc4_data = runs_test(test_rc4)\n",
        "print(\"Statystyka testu serii dla RC4:\", rc4_data[\"Statystyka Z\"])\n",
        "print(\"P-wartość dla RC4:\", rc4_data[\"P-wartość\"])\n",
        "\n",
        "# Xorshift\n",
        "\n",
        "xorshift_data = runs_test(test_xorshift)\n",
        "print(\"Statystyka testu serii dla Xorshift:\", xorshift_data[\"Statystyka Z\"])\n",
        "print(\"P-wartość dla Xorshift:\", xorshift_data[\"P-wartość\"])"
      ],
      "metadata": {
        "colab": {
          "base_uri": "https://localhost:8080/"
        },
        "id": "JGIA_IDR6FXe",
        "outputId": "822ac6cb-516d-4928-ded3-2fab5de7d753"
      },
      "execution_count": 40,
      "outputs": [
        {
          "output_type": "stream",
          "name": "stderr",
          "text": [
            "<ipython-input-39-c9af52598cfc>:17: RuntimeWarning: overflow encountered in scalar multiply\n",
            "  sigma = np.sqrt((2 * x * y * (2 * x * y - n)) / (n**2 * (n - 1)))  # odchylenie standardowe\n",
            "<ipython-input-39-c9af52598cfc>:17: RuntimeWarning: invalid value encountered in sqrt\n",
            "  sigma = np.sqrt((2 * x * y * (2 * x * y - n)) / (n**2 * (n - 1)))  # odchylenie standardowe\n"
          ]
        },
        {
          "output_type": "stream",
          "name": "stdout",
          "text": [
            "Statystyka testu serii dla LCG: nan\n",
            "P-wartość dla LCG: nan\n",
            "Statystyka testu serii dla GLCG: nan\n",
            "P-wartość dla GLCG: nan\n",
            "Statystyka testu serii dla RC4: nan\n",
            "P-wartość dla RC4: nan\n",
            "Statystyka testu serii dla Xorshift: 1.2400620108519378\n",
            "P-wartość dla Xorshift: 0.21495245879429392\n"
          ]
        }
      ]
    },
    {
      "cell_type": "markdown",
      "source": [
        "# 3. Second-level testing"
      ],
      "metadata": {
        "id": "xmMY5wwqIUP6"
      }
    },
    {
      "cell_type": "code",
      "source": [
        "import matplotlib.pyplot as plt\n",
        "\n",
        "#wnioski: czy przechodzą testy 1 i 2 rodzaju"
      ],
      "metadata": {
        "id": "5s2mMDuGQI01"
      },
      "execution_count": 28,
      "outputs": []
    },
    {
      "cell_type": "markdown",
      "source": [
        "## 3.1 Test $\\chi^2$"
      ],
      "metadata": {
        "id": "A6EI6MgXNP0O"
      }
    },
    {
      "cell_type": "code",
      "source": [
        "def second_level_testing_chi_square(data, sequence_length):\n",
        "    seq_num = len(data) // sequence_length  # ilość podciągów podanej długości\n",
        "    p_values = []\n",
        "    for i in range(seq_num):\n",
        "        seq = data[i * sequence_length : (i + 1) * sequence_length]  # tworzenie podciągów\n",
        "        try:\n",
        "            p_value = chisquare(seq)[1]  # przeprowadzanie testu\n",
        "            p_values.append(p_value)\n",
        "        except ValueError:\n",
        "            p_values.append(None)\n",
        "    return p_values\n",
        "\n",
        "\n",
        "length = 100\n",
        "p_values1_lcg = second_level_testing_chi_square(test_lcg, length)\n",
        "p_values1_glcg = second_level_testing_chi_square(test_glcg, length)\n",
        "p_values1_rc4 = second_level_testing_chi_square(test_rc4, length)\n",
        "p_values1_xorshift = second_level_testing_chi_square(test_xorshift, length)\n",
        "\n",
        "# print(f\"P-wartości dla wszystkich podciągów - LCG:\")\n",
        "# print(p_values1_lcg)\n",
        "# print(f\"P-wartości dla wszystkich podciągów - GLCG:\")\n",
        "# print(p_values1_glcg)\n",
        "# print(f\"P-wartości dla wszystkich podciągów - RC4:\")\n",
        "# print(p_values1_rc4)\n",
        "# print(f\"P-wartości dla wszystkich podciągów - Xorshift:\")\n",
        "# print(p_values1_xorshift)\n",
        "\n",
        "plt.subplot(2, 2, 1)\n",
        "plt.hist(p_values1_lcg)\n",
        "plt.title(\"P-wartości dla LCG\")\n",
        "\n",
        "plt.subplot(2, 2, 2)\n",
        "plt.hist(p_values1_glcg)\n",
        "plt.title(\"P-wartości dla GLCG\")\n",
        "\n",
        "plt.subplot(2, 2, 3)\n",
        "plt.hist(p_values1_rc4)\n",
        "plt.title(\"P-wartości dla RC4\")\n",
        "\n",
        "plt.subplot(2, 2, 4)\n",
        "plt.hist(p_values1_xorshift)\n",
        "plt.title(\"P-wartości dla Xorshift\")"
      ],
      "metadata": {
        "id": "xIBKt5XFNXAs",
        "outputId": "76758b4b-7083-4bd8-8f2f-8aa5ae3b7ca9",
        "colab": {
          "base_uri": "https://localhost:8080/",
          "height": 488
        }
      },
      "execution_count": 45,
      "outputs": [
        {
          "output_type": "execute_result",
          "data": {
            "text/plain": [
              "Text(0.5, 1.0, 'P-wartości dla Xorshift')"
            ]
          },
          "metadata": {},
          "execution_count": 45
        },
        {
          "output_type": "display_data",
          "data": {
            "text/plain": [
              "<Figure size 640x480 with 4 Axes>"
            ],
            "image/png": "[encoded data removed]"
          },
          "metadata": {}
        }
      ]
    },
    {
      "cell_type": "markdown",
      "source": [
        "## 3.2 Test Kołmogorowa-Smirnowa"
      ],
      "metadata": {
        "id": "PrQSFpd9NXdN"
      }
    },
    {
      "cell_type": "code",
      "source": [
        "def second_level_testing_ks(data, sequence_length):\n",
        "    seq_num = len(data) // sequence_length  # ilość podciągów podanej długości\n",
        "    p_values = []\n",
        "    for i in range(seq_num):\n",
        "        seq = data[i * sequence_length : (i + 1) * sequence_length]  # tworzenie podciągów\n",
        "        try:\n",
        "            p_value = ks_1samp(seq, uniform.cdf)[1]  # przeprowadzanie testu\n",
        "            p_values.append(p_value)\n",
        "        except ValueError:\n",
        "            p_values.append(None)\n",
        "    return p_values\n",
        "\n",
        "\n",
        "length = 100\n",
        "p_values2_lcg = second_level_testing_ks(test_lcg, length)\n",
        "p_values2_glcg = second_level_testing_ks(test_glcg, length)\n",
        "p_values2_rc4 = second_level_testing_ks(test_rc4, length)\n",
        "p_values2_xorshift = second_level_testing_ks(test_xorshift, length)\n",
        "\n",
        "# print(f\"P-wartości dla wszystkich podciągów - LCG:\")\n",
        "# print(p_values2_lcg)\n",
        "# print(f\"P-wartości dla wszystkich podciągów - GLCG:\")\n",
        "# print(p_values2_glcg)\n",
        "# print(f\"P-wartości dla wszystkich podciągów - RC4:\")\n",
        "# print(p_values2_rc4)\n",
        "# print(f\"P-wartości dla wszystkich podciągów - Xorshift:\")\n",
        "# print(p_values2_xorshift)\n",
        "\n",
        "plt.subplot(2, 2, 1)\n",
        "plt.hist(p_values2_lcg)\n",
        "plt.title(\"P-wartości dla LCG\")\n",
        "\n",
        "plt.subplot(2, 2, 2)\n",
        "plt.hist(p_values2_glcg)\n",
        "plt.title(\"P-wartości dla GLCG\")\n",
        "\n",
        "plt.subplot(2, 2, 3)\n",
        "plt.hist(p_values2_rc4)\n",
        "plt.title(\"P-wartości dla RC4\")\n",
        "\n",
        "plt.subplot(2, 2, 4)\n",
        "plt.hist(p_values2_xorshift)\n",
        "plt.title(\"P-wartości dla Xorshift\")"
      ],
      "metadata": {
        "id": "wXzBeyPYNbY1",
        "outputId": "1295eac6-824a-437d-8ca2-e751d64c0da2",
        "colab": {
          "base_uri": "https://localhost:8080/",
          "height": 470
        }
      },
      "execution_count": 42,
      "outputs": [
        {
          "output_type": "execute_result",
          "data": {
            "text/plain": [
              "Text(0.5, 1.0, 'P-wartości dla Xorshift')"
            ]
          },
          "metadata": {},
          "execution_count": 42
        },
        {
          "output_type": "display_data",
          "data": {
            "text/plain": [
              "<Figure size 640x480 with 4 Axes>"
            ],
            "image/png": "[encoded data removed]"
          },
          "metadata": {}
        }
      ]
    },
    {
      "cell_type": "markdown",
      "source": [
        "## 3.3 Test serii"
      ],
      "metadata": {
        "id": "0r7A2L6rNc2T"
      }
    },
    {
      "cell_type": "code",
      "source": [
        "def second_level_testing_runs_test(data, sequence_length):\n",
        "    seq_num = len(data) // sequence_length  # ilość podciągów podanej długości\n",
        "    p_values = []\n",
        "    for i in range(seq_num):\n",
        "        seq = data[i * sequence_length : (i + 1) * sequence_length]  # tworzenie podciągów\n",
        "        try:\n",
        "            p_value = runs_test(seq)[\"P-wartość\"]  # przeprowadzanie testu\n",
        "            p_values.append(p_value)\n",
        "        except ValueError:\n",
        "            p_values.append(None)\n",
        "    return p_values\n",
        "\n",
        "\n",
        "length = 100\n",
        "p_values3_lcg = second_level_testing_runs_test(test_lcg, length)\n",
        "p_values3_glcg = second_level_testing_runs_test(test_glcg, length)\n",
        "p_values3_rc4 = second_level_testing_runs_test(test_rc4, length)\n",
        "p_values3_xorshift = second_level_testing_runs_test(test_xorshift, length)\n",
        "\n",
        "# print(f\"P-wartości dla wszystkich podciągów - LCG:\")\n",
        "# print(p_values3_lcg)\n",
        "# print(f\"P-wartości dla wszystkich podciągów - GLCG:\")\n",
        "# print(p_values3_glcg)\n",
        "# print(f\"P-wartości dla wszystkich podciągów - RC4:\")\n",
        "# print(p_values3_rc4)\n",
        "# print(f\"P-wartości dla wszystkich podciągów - Xorshift:\")\n",
        "# print(p_values3_xorshift)\n",
        "\n",
        "plt.subplot(2, 2, 1)\n",
        "plt.hist(p_values3_lcg)\n",
        "plt.title(\"P-wartości dla LCG\")\n",
        "\n",
        "plt.subplot(2, 2, 2)\n",
        "plt.hist(p_values3_glcg)\n",
        "plt.title(\"P-wartości dla GLCG\")\n",
        "\n",
        "plt.subplot(2, 2, 3)\n",
        "plt.hist(p_values3_rc4)\n",
        "plt.title(\"P-wartości dla RC4\")\n",
        "\n",
        "plt.subplot(2, 2, 4)\n",
        "plt.hist(p_values3_xorshift)\n",
        "plt.title(\"P-wartości dla Xorshift\")"
      ],
      "metadata": {
        "id": "3hfEJhIoIYO8",
        "outputId": "03e191d1-c991-4566-d5df-cf6cc1f464f6",
        "colab": {
          "base_uri": "https://localhost:8080/",
          "height": 470
        }
      },
      "execution_count": 31,
      "outputs": [
        {
          "output_type": "execute_result",
          "data": {
            "text/plain": [
              "Text(0.5, 1.0, 'P-wartości dla Xorshift')"
            ]
          },
          "metadata": {},
          "execution_count": 31
        },
        {
          "output_type": "display_data",
          "data": {
            "text/plain": [
              "<Figure size 640x480 with 4 Axes>"
            ],
            "image/png": "[encoded data removed]"
          },
          "metadata": {}
        }
      ]
    }
  ]
}