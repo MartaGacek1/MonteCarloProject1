{
  "nbformat": 4,
  "nbformat_minor": 0,
  "metadata": {
    "colab": {
      "provenance": [],
      "authorship_tag": "ABX9TyPEy11S4rcF9Csu6ZSL/Obm",
      "include_colab_link": true
    },
    "kernelspec": {
      "name": "python3",
      "display_name": "Python 3"
    },
    "language_info": {
      "name": "python"
    }
  },
  "cells": [
    {
      "cell_type": "markdown",
      "metadata": {
        "id": "view-in-github",
        "colab_type": "text"
      },
      "source": [
        "<a href=\"https://colab.research.google.com/github/MartaGacek1/MonteCarloProject1/blob/main/MonteCarloProjekt1.ipynb\" target=\"_parent\"><img src=\"https://colab.research.google.com/assets/colab-badge.svg\" alt=\"Open In Colab\"/></a>"
      ]
    },
    {
      "cell_type": "markdown",
      "source": [
        "# Projekt I - Wprowadzenie do symulacji i metod Monte Carlo\n",
        "\n",
        "## Marta Gacek"
      ],
      "metadata": {
        "id": "utnSvCI2lBHF"
      }
    },
    {
      "cell_type": "markdown",
      "source": [
        "## 1. Generatory liczb pseudolosowych\n",
        "\n",
        "### 1.1 LCG (\"Linear Congruential Generator\")\n",
        "\n"
      ],
      "metadata": {
        "id": "A7XXHtlWmeA0"
      }
    },
    {
      "cell_type": "code",
      "source": [
        "# x0 - warunek początkowy\n",
        "# M - wartość modulo\n",
        "# a, c - parametry z rekurencyjnego wzoru\n",
        "# n - ilość liczb pseudolosowych, które otrzymamy\n",
        "\n",
        "def LCG(x0, a, c, M, n):\n",
        "    result = []\n",
        "    x = x0 % M\n",
        "    result.append(x)\n",
        "    for i in range(n-1):\n",
        "        x = (a * x + c) % M\n",
        "        result.append(x)\n",
        "    return [j/M for j in result]\n",
        "\n",
        "test_lcg=LCG(30, 1, 5, 13, 10)\n",
        "print(test_lcg)"
      ],
      "metadata": {
        "colab": {
          "base_uri": "https://localhost:8080/"
        },
        "id": "zdRKKuIJotKQ",
        "outputId": "2167e9a8-4ef2-4430-f203-bb62597e4c99"
      },
      "execution_count": 2,
      "outputs": [
        {
          "output_type": "stream",
          "name": "stdout",
          "text": [
            "[0.3076923076923077, 0.6923076923076923, 0.07692307692307693, 0.46153846153846156, 0.8461538461538461, 0.23076923076923078, 0.6153846153846154, 0.0, 0.38461538461538464, 0.7692307692307693]\n"
          ]
        }
      ]
    },
    {
      "cell_type": "markdown",
      "source": [
        "### 1.2 GLCG (\"Generalized Linear Congruential Generator\")"
      ],
      "metadata": {
        "id": "M-tezDoFbuFF"
      }
    },
    {
      "cell_type": "code",
      "source": [
        "# liczba współczynników musi być równa k, czyli liczbie wartości początkowych x_i dla i=0,...,k-1\n",
        "# initials - lista k warunków początkowych\n",
        "# coeffs - współczynniki a_i dla i=0,...,k-1\n",
        "# M - wartość modulo\n",
        "# n - ilość liczb pseudolosowych, które otrzymamy\n",
        "\n",
        "def GLCG(initials, coeffs, M, n):\n",
        "    k = len(initials)\n",
        "    if len(coeffs) != k:\n",
        "        raise ValueError(\"The number of coefficients doesn't match the number of initial values.\")\n",
        "    lst = initials[:] # lista \"robocza\"\n",
        "    result = lst[:] # tutaj będą ostatecznie zwracane liczby\n",
        "    result = [i/M for i in result] # normalizacja\n",
        "    for i in range(n - k): # bo pierwsze k z n liczb już mamy na początku\n",
        "        x = sum(coeffs[j] * lst[-(j + 1)] for j in range(k)) % M\n",
        "        result.append(x/M) # normalizacja\n",
        "        lst.append(x)\n",
        "        lst.pop(0)  # potrzebujemy k ostatnich wartości do wyznaczania następnych x\n",
        "    return result\n",
        "\n",
        "test_glcg=GLCG([30, 40, 50], [3, 7, 68], 2**10, 10)\n",
        "print(test_glcg)"
      ],
      "metadata": {
        "colab": {
          "base_uri": "https://localhost:8080/"
        },
        "id": "R08Bvpv8dcEI",
        "outputId": "bd4999d5-5083-4638-daec-2637b626b9f7"
      },
      "execution_count": 3,
      "outputs": [
        {
          "output_type": "stream",
          "name": "stdout",
          "text": [
            "[0.029296875, 0.0390625, 0.048828125, 0.412109375, 0.234375, 0.908203125, 0.388671875, 0.4609375, 0.861328125, 0.240234375]\n"
          ]
        }
      ]
    },
    {
      "cell_type": "markdown",
      "source": [
        "### 1.3 RC4"
      ],
      "metadata": {
        "id": "_aCw5Mkjdcx8"
      }
    },
    {
      "cell_type": "code",
      "source": [
        "# K - \"klucz\" - liczby z przedziału {0,...,m-1}, w naszym przypadku m=32\n",
        "# n - ilość liczb pseudolosowych, które otrzymamy\n",
        "# S - permutacja zbioru m-elementowego\n",
        "# m - wartość modulo\n",
        "\n",
        "import matplotlib.pyplot as plt\n",
        "import random as rd\n",
        "import numpy as np\n",
        "\n",
        "def KSA(K, m=32):\n",
        "   S = list(range(m))\n",
        "   j = 0\n",
        "   for i in range(m):\n",
        "       j = (j + S[i] + K[i % len(K)]) % m\n",
        "       S[i], S[j] = S[j], S[i]\n",
        "   return S\n",
        "\n",
        "def PRGA(S, n, m=32):\n",
        "   i = 0\n",
        "   j = 0\n",
        "   result = []\n",
        "   for k in range(n):\n",
        "       i = (i + 1) % m\n",
        "       j = (j + S[i]) % m\n",
        "       S[i], S[j] = S[j], S[i]\n",
        "       Y = S[(S[i] + S[j]) % m]\n",
        "       result.append(Y/m) # normalizacja\n",
        "   return result\n",
        "\n",
        "def RC4(K, n, m=32):\n",
        "  s = KSA(K, m)\n",
        "  return PRGA(s, n, m)\n",
        "\n",
        "\n",
        "k1 = [x for x in range(100)]\n",
        "test_rc4 = RC4(k1, 1000)\n",
        "print(test_rc4)"
      ],
      "metadata": {
        "id": "_UQXb2S2XfNu",
        "colab": {
          "base_uri": "https://localhost:8080/"
        },
        "outputId": "2a50a56e-fc2e-451e-cbf0-1b2d5ba09e6f"
      },
      "execution_count": 4,
      "outputs": [
        {
          "output_type": "stream",
          "name": "stdout",
          "text": [
            "[0.5, 0.5625, 0.71875, 0.625, 0.78125, 0.75, 0.15625, 0.8125, 0.125, 0.4375, 0.96875, 0.3125, 0.9375, 0.40625, 0.0625, 0.78125, 0.9375, 0.9375, 0.46875, 0.90625, 0.53125, 0.65625, 0.25, 0.84375, 0.375, 0.875, 0.1875, 0.59375, 0.59375, 0.96875, 0.71875, 0.625, 0.96875, 0.71875, 0.625, 0.75, 0.625, 0.96875, 0.9375, 0.6875, 0.6875, 0.96875, 0.9375, 0.28125, 0.0625, 0.3125, 0.59375, 0.0, 0.125, 0.0, 0.125, 0.90625, 0.75, 0.96875, 0.3125, 0.0625, 0.1875, 0.1875, 0.21875, 0.03125, 0.15625, 0.28125, 0.4375, 0.75, 0.0625, 0.71875, 0.1875, 0.25, 0.46875, 0.40625, 0.40625, 0.84375, 0.25, 0.125, 0.03125, 0.3125, 0.4375, 0.15625, 0.15625, 0.46875, 0.15625, 0.3125, 0.40625, 0.78125, 0.1875, 0.03125, 0.28125, 0.15625, 0.28125, 0.3125, 0.28125, 0.0625, 0.65625, 0.0, 0.71875, 0.5, 0.71875, 0.625, 0.4375, 0.28125, 0.09375, 0.28125, 0.59375, 0.25, 0.21875, 0.71875, 0.34375, 0.9375, 0.9375, 0.40625, 0.125, 0.125, 0.0, 0.59375, 0.84375, 0.71875, 0.34375, 0.53125, 0.21875, 0.46875, 0.6875, 0.65625, 0.625, 0.03125, 0.03125, 0.71875, 0.9375, 0.8125, 0.0625, 0.28125, 0.21875, 0.25, 0.125, 0.96875, 0.6875, 0.90625, 0.0, 0.625, 0.625, 0.5, 0.125, 0.25, 0.15625, 0.90625, 0.15625, 0.6875, 0.6875, 0.625, 0.875, 0.03125, 0.5625, 0.0, 0.25, 0.9375, 0.90625, 0.5, 0.53125, 0.8125, 0.3125, 0.25, 0.125, 0.8125, 0.34375, 0.375, 0.125, 0.9375, 0.34375, 0.5625, 0.21875, 0.90625, 0.5, 0.65625, 0.59375, 0.71875, 0.6875, 0.1875, 0.96875, 0.65625, 0.4375, 0.25, 0.125, 0.53125, 0.5, 0.125, 0.125, 0.375, 0.15625, 0.9375, 0.15625, 0.40625, 0.3125, 0.59375, 0.5, 0.78125, 0.0625, 0.375, 0.90625, 0.59375, 0.59375, 0.90625, 0.46875, 0.34375, 0.78125, 0.90625, 0.125, 0.59375, 0.8125, 0.65625, 0.71875, 0.46875, 0.0625, 0.125, 0.15625, 0.71875, 0.03125, 0.5, 0.15625, 0.96875, 0.375, 0.15625, 0.96875, 0.28125, 0.34375, 0.9375, 0.90625, 0.875, 0.78125, 0.71875, 0.4375, 0.96875, 0.9375, 0.34375, 0.21875, 0.15625, 0.625, 0.0625, 0.71875, 0.78125, 0.25, 0.21875, 0.28125, 0.125, 0.8125, 0.84375, 0.375, 0.3125, 0.5, 0.875, 0.96875, 0.5625, 0.59375, 0.8125, 0.21875, 0.15625, 0.21875, 0.3125, 0.25, 0.84375, 0.9375, 0.59375, 0.5, 0.84375, 0.53125, 0.96875, 0.3125, 0.8125, 0.96875, 0.46875, 0.6875, 0.9375, 0.78125, 0.71875, 0.46875, 0.8125, 0.53125, 0.6875, 0.0, 0.09375, 0.25, 0.59375, 0.6875, 0.5625, 0.5, 0.40625, 0.0, 0.875, 0.3125, 0.25, 0.34375, 0.71875, 0.375, 0.625, 0.4375, 0.75, 0.71875, 0.1875, 0.46875, 0.125, 0.5, 0.625, 0.5, 0.46875, 0.34375, 0.75, 0.65625, 0.75, 0.28125, 0.625, 0.0625, 0.0625, 0.0, 0.75, 0.625, 0.0625, 0.6875, 0.53125, 0.53125, 0.21875, 0.9375, 0.1875, 0.03125, 0.53125, 0.9375, 0.84375, 0.0, 0.03125, 0.625, 0.84375, 0.6875, 0.65625, 0.8125, 0.09375, 0.8125, 0.9375, 0.6875, 0.71875, 0.0, 0.65625, 0.25, 0.71875, 0.46875, 0.84375, 0.96875, 0.34375, 0.1875, 0.59375, 0.96875, 0.28125, 0.46875, 0.09375, 0.6875, 0.21875, 0.875, 0.65625, 0.0, 0.6875, 0.0625, 0.625, 0.0, 0.59375, 0.625, 0.0, 0.78125, 0.0625, 0.96875, 0.40625, 0.4375, 0.46875, 0.3125, 0.40625, 0.0625, 0.0, 0.78125, 0.1875, 0.75, 0.75, 0.75, 0.0625, 0.03125, 0.59375, 0.6875, 0.5625, 0.9375, 0.0, 0.875, 0.0625, 0.65625, 0.21875, 0.65625, 0.75, 0.125, 0.46875, 0.8125, 0.90625, 0.15625, 0.15625, 0.875, 0.625, 0.8125, 0.71875, 0.71875, 0.53125, 0.28125, 0.03125, 0.0625, 0.5, 0.90625, 0.5, 0.25, 0.78125, 0.0, 0.5, 0.59375, 0.34375, 0.53125, 0.15625, 0.375, 0.25, 0.34375, 0.21875, 0.0625, 0.78125, 0.15625, 0.5625, 0.4375, 0.3125, 0.28125, 0.8125, 0.0625, 0.875, 0.875, 0.125, 0.53125, 0.3125, 0.25, 0.375, 0.75, 0.84375, 0.875, 0.9375, 0.375, 0.8125, 0.59375, 0.9375, 0.78125, 0.84375, 0.34375, 0.9375, 0.65625, 0.28125, 0.1875, 0.4375, 0.75, 0.46875, 0.875, 0.96875, 0.28125, 0.1875, 0.65625, 0.125, 0.75, 0.21875, 0.1875, 0.28125, 0.84375, 0.25, 0.53125, 0.6875, 0.6875, 0.59375, 0.34375, 0.9375, 0.125, 0.875, 0.28125, 0.5625, 0.0625, 0.46875, 0.9375, 0.90625, 0.21875, 0.5, 0.59375, 0.28125, 0.96875, 0.90625, 0.59375, 0.78125, 0.03125, 0.03125, 0.25, 0.5, 0.28125, 0.375, 0.0, 0.34375, 0.78125, 0.625, 0.21875, 0.84375, 0.6875, 0.3125, 0.125, 0.09375, 0.21875, 0.1875, 0.53125, 0.34375, 0.28125, 0.78125, 0.28125, 0.84375, 0.65625, 0.875, 0.4375, 0.0625, 0.8125, 0.78125, 0.3125, 0.96875, 0.34375, 0.09375, 0.09375, 0.46875, 0.5, 0.5625, 0.96875, 0.59375, 0.0, 0.40625, 0.59375, 0.1875, 0.59375, 0.5, 0.03125, 0.1875, 0.1875, 0.78125, 0.84375, 0.71875, 0.09375, 0.9375, 0.65625, 0.71875, 0.84375, 0.3125, 0.71875, 0.21875, 0.59375, 0.125, 0.15625, 0.96875, 0.6875, 0.34375, 0.59375, 0.625, 0.1875, 0.5, 0.71875, 0.03125, 0.625, 0.96875, 0.59375, 0.375, 0.03125, 0.75, 0.84375, 0.3125, 0.65625, 0.90625, 0.46875, 0.78125, 0.75, 0.21875, 0.28125, 0.0625, 0.65625, 0.15625, 0.34375, 0.1875, 0.125, 0.3125, 0.3125, 0.40625, 0.78125, 0.125, 0.3125, 0.0, 0.40625, 0.0, 0.71875, 0.03125, 0.15625, 0.6875, 0.0625, 0.65625, 0.03125, 0.625, 0.9375, 0.53125, 0.6875, 0.09375, 0.03125, 0.34375, 0.46875, 0.15625, 0.5, 0.40625, 0.40625, 0.4375, 0.59375, 0.0, 0.53125, 0.65625, 0.71875, 0.5625, 0.9375, 0.46875, 0.1875, 0.9375, 0.71875, 0.0625, 0.5625, 0.65625, 0.03125, 0.75, 0.4375, 0.46875, 0.28125, 0.0, 0.3125, 0.4375, 0.5625, 0.125, 0.6875, 0.125, 0.4375, 0.0625, 0.25, 0.5625, 0.96875, 0.03125, 0.875, 0.875, 0.0625, 0.875, 0.21875, 0.0, 0.5, 0.4375, 0.25, 0.0625, 0.84375, 0.59375, 0.59375, 0.125, 0.125, 0.28125, 0.0, 0.96875, 0.625, 0.71875, 0.65625, 0.59375, 0.1875, 0.5, 0.0625, 0.4375, 0.1875, 0.6875, 0.625, 0.65625, 0.40625, 0.65625, 0.78125, 0.5625, 0.625, 0.0, 0.53125, 0.46875, 0.875, 0.78125, 0.25, 0.5, 0.5, 0.40625, 0.9375, 0.125, 0.09375, 0.78125, 0.5, 0.9375, 0.46875, 0.65625, 0.625, 0.28125, 0.4375, 0.5, 0.53125, 0.46875, 0.65625, 0.15625, 0.3125, 0.46875, 0.84375, 0.78125, 0.0, 0.46875, 0.59375, 0.125, 0.0, 0.0, 0.0, 0.375, 0.71875, 0.4375, 0.9375, 0.59375, 0.46875, 0.96875, 0.8125, 0.5, 0.125, 0.6875, 0.0625, 0.28125, 0.15625, 0.875, 0.28125, 0.65625, 0.5625, 0.40625, 0.0625, 0.71875, 0.625, 0.40625, 0.65625, 0.3125, 0.46875, 0.34375, 0.46875, 0.84375, 0.03125, 0.90625, 0.40625, 0.125, 0.09375, 0.71875, 0.3125, 0.5625, 0.15625, 0.03125, 0.6875, 0.375, 0.5, 0.65625, 0.625, 0.8125, 0.59375, 0.125, 0.3125, 0.0625, 0.0, 0.46875, 0.375, 0.84375, 0.09375, 0.8125, 0.21875, 0.90625, 0.96875, 0.34375, 0.40625, 0.96875, 0.375, 0.5, 0.40625, 0.84375, 0.03125, 0.65625, 0.78125, 0.53125, 0.5, 0.90625, 0.65625, 0.75, 0.25, 0.96875, 0.3125, 0.96875, 0.40625, 0.5625, 0.6875, 0.40625, 0.875, 0.3125, 0.875, 0.5625, 0.46875, 0.90625, 0.5, 0.375, 0.46875, 0.40625, 0.96875, 0.8125, 0.875, 0.6875, 0.03125, 0.21875, 0.8125, 0.71875, 0.71875, 0.34375, 0.03125, 0.53125, 0.40625, 0.5, 0.5, 0.8125, 0.84375, 0.8125, 0.625, 0.375, 0.84375, 0.25, 0.125, 0.1875, 0.125, 0.1875, 0.8125, 0.96875, 0.0, 0.875, 0.40625, 0.75, 0.4375, 0.65625, 0.21875, 0.875, 0.65625, 0.625, 0.125, 0.71875, 0.375, 0.25, 0.03125, 0.15625, 0.15625, 0.46875, 0.90625, 0.59375, 0.4375, 0.0, 0.90625, 0.28125, 0.03125, 0.6875, 0.625, 0.15625, 0.53125, 0.34375, 0.4375, 0.75, 0.4375, 0.53125, 0.90625, 0.09375, 0.0625, 0.78125, 0.875, 0.28125, 0.09375, 0.875, 0.65625, 0.25, 0.28125, 0.3125, 0.78125, 0.4375, 0.59375, 0.875, 0.84375, 0.46875, 0.625, 0.78125, 0.9375, 0.71875, 0.0625, 0.0625, 0.0625, 0.84375, 0.53125, 0.84375, 0.28125, 0.1875, 0.03125, 0.53125, 0.875, 0.0, 0.875, 0.5625, 0.3125, 0.25, 0.625, 0.28125, 0.15625, 0.125, 0.125, 0.375, 0.34375, 0.875, 0.03125, 0.53125, 0.59375, 0.28125, 0.3125, 0.3125, 0.375, 0.875, 0.15625, 0.21875, 0.0625, 0.78125, 0.28125, 0.09375, 0.1875, 0.0, 0.40625, 0.53125, 0.03125, 0.90625, 0.8125, 0.75, 0.1875, 0.8125, 0.78125, 0.5625, 0.625, 0.09375, 0.15625, 0.4375, 0.59375, 0.84375, 0.5, 0.625, 0.25, 0.3125, 0.0625, 0.5625, 0.90625, 0.8125, 0.4375, 0.0625, 0.0625, 0.96875, 0.15625, 0.65625, 0.21875, 0.5, 0.90625, 0.1875, 0.4375, 0.65625, 0.78125, 0.125, 0.75, 0.15625, 0.375, 0.21875, 0.34375, 0.625, 0.5, 0.15625, 0.65625, 0.75, 0.625, 0.0, 0.6875, 0.46875, 0.53125, 0.4375, 0.6875, 0.46875, 0.1875, 0.46875, 0.375, 0.9375, 0.5, 0.40625, 0.0625, 0.9375, 0.40625, 0.65625, 0.9375, 0.8125, 0.25, 0.53125, 0.40625, 0.6875]\n"
          ]
        }
      ]
    },
    {
      "cell_type": "markdown",
      "source": [
        "### 1.4 Xorshift"
      ],
      "metadata": {
        "id": "204lDu7eBEON"
      }
    },
    {
      "cell_type": "code",
      "source": [
        "# x0 - niezerowy warunek początkowy\n",
        "# a, b, c - parametry określające przesunięcia bitowe\n",
        "# n - ilość liczb pseudolosowych, które otrzymamy\n",
        "\n",
        "def xorshift(x0, n, a=21, b=35, c=4):\n",
        "    if x0 == 0:\n",
        "        raise ValueError(\"Initial value must not be zero.\")\n",
        "    x = x0\n",
        "    result = []\n",
        "    for i in range(n):\n",
        "        x ^= (x >> a)  # przesunięcie w prawo i operacja xor\n",
        "        x ^= (x << b)  # przesunięcie w lewo i operacja xor\n",
        "        x ^= (x >> c)  # przesunięcie w prawo i operacja xor\n",
        "        result.append(x & 0xFFFFFFFF)  # ograniczenie liczby x do zakresu 32-bitowego\n",
        "    result = [i/(2**32 - 1) for i in result] # normalizacja (dzielimy przez największą możliwą wartość wygenerowaną przez xorshift)\n",
        "    return result\n",
        "\n",
        "test_xorshift = xorshift(20, n=10)\n",
        "print(test_xorshift)"
      ],
      "metadata": {
        "colab": {
          "base_uri": "https://localhost:8080/"
        },
        "id": "37QnKrBVBKSM",
        "outputId": "823e3a28-f0d8-4c7d-ef00-87a37db6ea63"
      },
      "execution_count": 5,
      "outputs": [
        {
          "output_type": "stream",
          "name": "stdout",
          "text": [
            "[4.8894435178696745e-09, 0.12507659665427093, 0.34108384450457147, 0.3374680917098811, 0.3372721654216927, 0.09438133940435511, 0.8854625418049895, 0.19366147816033602, 0.4966507629716421, 0.5117596659138239]\n"
          ]
        }
      ]
    },
    {
      "cell_type": "markdown",
      "source": [
        "# 2. Testy statystyczne"
      ],
      "metadata": {
        "id": "byfnFQPf21xm"
      }
    },
    {
      "cell_type": "markdown",
      "source": [
        "## 2.1 Test $\\chi^2$"
      ],
      "metadata": {
        "id": "PesCqpeGOImT"
      }
    },
    {
      "cell_type": "code",
      "source": [
        "from scipy.stats import chisquare\n",
        "\n",
        "# LCG\n",
        "\n",
        "st1, p1 = chisquare(test_lcg)\n",
        "print(\"Statystyka chi-kwadrat dla LCG:\", st1)\n",
        "print(\"P-wartość dla LCG:\", p1)\n",
        "\n",
        "# GLCG\n",
        "\n",
        "st2, p2 = chisquare(test_glcg)\n",
        "print(\"Statystyka chi-kwadrat dla GLCG:\", st2)\n",
        "print(\"P-wartość dla GLCG:\", p2)\n",
        "\n",
        "# RC4\n",
        "\n",
        "st3, p3 = chisquare(test_rc4)\n",
        "print(\"Statystyka chi-kwadrat dla RC4:\", st3)\n",
        "print(\"P-wartość dla RC4:\", p3)\n",
        "\n",
        "# Xorshift\n",
        "\n",
        "st4, p4 = chisquare(test_xorshift)\n",
        "print(\"Statystyka chi-kwadrat dla Xorshift:\", st4)\n",
        "print(\"P-wartość dla Xorshift:\", p4)\n"
      ],
      "metadata": {
        "id": "MUSX9pXhRUMu",
        "outputId": "7af27c06-3885-466c-b52a-7916202567ad",
        "colab": {
          "base_uri": "https://localhost:8080/"
        }
      },
      "execution_count": 14,
      "outputs": [
        {
          "output_type": "stream",
          "name": "stdout",
          "text": [
            "Statystyka chi-kwadrat dla LCG: 1.7287449392712548\n",
            "P-wartość dla LCG: 0.9950676054414066\n",
            "Statystyka chi-kwadrat dla GLCG: 2.4974783103099734\n",
            "P-wartość dla GLCG: 0.9809512308039489\n",
            "Statystyka chi-kwadrat dla RC4: 174.28069431825557\n",
            "P-wartość dla RC4: 1.0\n",
            "Statystyka chi-kwadrat dla Xorshift: 1.789220327898648\n",
            "P-wartość dla Xorshift: 0.9943792247941656\n"
          ]
        }
      ]
    },
    {
      "cell_type": "markdown",
      "source": [
        "## 2.2 Test Kołmogorowa-Smirnowa"
      ],
      "metadata": {
        "id": "kqsQRqC8Tp9V"
      }
    },
    {
      "cell_type": "code",
      "source": [
        "from scipy.stats import ks_1samp, uniform\n",
        "\n",
        "# LCG\n",
        "\n",
        "st1, p1 = ks_1samp(test_lcg, uniform.cdf)\n",
        "print(\"Statystyka Kołmogorowa-Smirnowa dla LCG:\", st1)\n",
        "print(\"P-wartość dla LCG:\", p1)\n",
        "\n",
        "# GLCG\n",
        "\n",
        "st2, p2 = ks_1samp(test_glcg, uniform.cdf)\n",
        "print(\"Statystyka Kołmogorowa-Smirnowa dla GLCG:\", st2)\n",
        "print(\"P-wartość dla GLCG:\", p2)\n",
        "\n",
        "# RC4\n",
        "\n",
        "st3, p3 = ks_1samp(test_rc4, uniform.cdf)\n",
        "print(\"Statystyka Kołmogorowa-Smirnowa dla RC4:\", st3)\n",
        "print(\"P-wartość dla RC4:\", p3)\n",
        "\n",
        "# Xorshift\n",
        "\n",
        "st4, p4 = ks_1samp(test_xorshift, uniform.cdf)\n",
        "print(\"Statystyka Kołmogorowa-Smirnowa dla Xorshift:\", st4)\n",
        "print(\"P-wartość dla Xorshift:\", p4)"
      ],
      "metadata": {
        "id": "iBD_-9V6b2Yq",
        "outputId": "066a183b-e72c-4bdf-ab91-cede7a5d0955",
        "colab": {
          "base_uri": "https://localhost:8080/"
        }
      },
      "execution_count": 16,
      "outputs": [
        {
          "output_type": "stream",
          "name": "stdout",
          "text": [
            "Statystyka Kołmogorowa-Smirnowa dla LCG: 0.15384615384615385\n",
            "P-wartość dla LCG: 0.9440524832543472\n",
            "Statystyka Kołmogorowa-Smirnowa dla GLCG: 0.33906250000000004\n",
            "P-wartość dla GLCG: 0.15783781780320938\n",
            "Statystyka Kołmogorowa-Smirnowa dla RC4: 0.04625000000000001\n",
            "P-wartość dla RC4: 0.026865442869328016\n",
            "Statystyka Kołmogorowa-Smirnowa dla Xorshift: 0.3882403340861761\n",
            "P-wartość dla Xorshift: 0.07232384661077196\n"
          ]
        }
      ]
    },
    {
      "cell_type": "markdown",
      "source": [
        "## 2.3 Test serii"
      ],
      "metadata": {
        "id": "bj_22rTajY3x"
      }
    },
    {
      "cell_type": "code",
      "source": [
        "import numpy as np\n",
        "from scipy.stats import norm\n",
        "\n",
        "def runs_test(data):\n",
        "    median = np.median(data)\n",
        "    binary = [1 if i >= median else 0 for i in data]  # zamiana danych na ciąg binarny (według mediany)\n",
        "    x = np.sum(binary)  # Liczba 1 (liczenie elementów)\n",
        "    y = len(binary) - x  # Liczba 0\n",
        "    n = x + y\n",
        "    if x == 0 or y == 0:\n",
        "        raise ValueError(\"Not enough diversity of data. We cannot perform this test.\")\n",
        "    runs = 1  # liczba serii\n",
        "    for i in range(1, len(binary)):\n",
        "        if binary[i] != binary[i - 1]:\n",
        "            runs += 1\n",
        "    expected = (2 * x * y) / n + 1  # wartość oczekiwana liczby serii\n",
        "    sigma = np.sqrt((2 * x * y * (2 * x * y - n)) / (n**2 * (n - 1)))  # odchylenie standardowe\n",
        "    z = (runs - expected) / sigma\n",
        "    p_value = 2 * (1 - norm.cdf(abs(z)))                   # czy trzeba zmieniać na uniform?\n",
        "    return {\n",
        "        \"Statystyka Z\": z,\n",
        "        \"P-wartość\": p_value,\n",
        "        \"Liczba serii\": runs,\n",
        "        \"Mediana\": median\n",
        "    }"
      ],
      "metadata": {
        "id": "nV65ACZNjbnN"
      },
      "execution_count": 28,
      "outputs": []
    },
    {
      "cell_type": "code",
      "source": [
        "# LCG\n",
        "\n",
        "lcg_data = runs_test(test_lcg)\n",
        "print(\"Statystyka testu serii dla LCG:\", lcg_data[\"Statystyka Z\"])\n",
        "print(\"P-wartość dla LCG:\", lcg_data[\"P-wartość\"])\n",
        "\n",
        "# GLCG\n",
        "\n",
        "glcg_data = runs_test(test_glcg)\n",
        "print(\"Statystyka testu serii dla GLCG:\", glcg_data[\"Statystyka Z\"])\n",
        "print(\"P-wartość dla GLCG:\", glcg_data[\"P-wartość\"])\n",
        "\n",
        "# RC4\n",
        "\n",
        "rc4_data = runs_test(test_rc4)\n",
        "print(\"Statystyka testu serii dla RC4:\", rc4_data[\"Statystyka Z\"])\n",
        "print(\"P-wartość dla RC4:\", rc4_data[\"P-wartość\"])\n",
        "\n",
        "# Xorshift\n",
        "\n",
        "xorshift_data = runs_test(test_xorshift)\n",
        "print(\"Statystyka testu serii dla Xorshift:\", xorshift_data[\"Statystyka Z\"])\n",
        "print(\"P-wartość dla Xorshift:\", xorshift_data[\"P-wartość\"])"
      ],
      "metadata": {
        "id": "JGIA_IDR6FXe",
        "outputId": "5c5d6da1-c9b1-4afa-c582-df12831ad4b6",
        "colab": {
          "base_uri": "https://localhost:8080/"
        }
      },
      "execution_count": 29,
      "outputs": [
        {
          "output_type": "stream",
          "name": "stdout",
          "text": [
            "Statystyka testu serii dla LCG: 1.3416407864998738\n",
            "P-wartość dla LCG: 0.17971249487899987\n",
            "Statystyka testu serii dla GLCG: -0.6708203932499369\n",
            "P-wartość dla GLCG: 0.502334954360502\n",
            "Statystyka testu serii dla RC4: -0.8839129955737252\n",
            "P-wartość dla RC4: 0.376743181379843\n",
            "Statystyka testu serii dla Xorshift: 0.0\n",
            "P-wartość dla Xorshift: 1.0\n"
          ]
        }
      ]
    }
  ]
}